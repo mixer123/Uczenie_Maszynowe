{
 "cells": [
  {
   "cell_type": "markdown",
   "id": "6638156a",
   "metadata": {},
   "source": [
    "# KMN K najbliższych sąsiadów"
   ]
  },
  {
   "cell_type": "code",
   "execution_count": 1,
   "id": "7107b759",
   "metadata": {},
   "outputs": [],
   "source": [
    "import random\n",
    "import pandas as pd\n",
    "import numpy as np\n",
    "from scipy.spatial import KDTree\n",
    "from sklearn.metrics import mean_absolute_error, log_loss, accuracy_score, balanced_accuracy_score\n",
    "import random\n",
    "import matplotlib.pyplot as plt"
   ]
  },
  {
   "cell_type": "code",
   "execution_count": 2,
   "id": "18d276f5",
   "metadata": {},
   "outputs": [
    {
     "name": "stdout",
     "output_type": "stream",
     "text": [
      "--2023-04-26 21:10:33--  https://raw.githubusercontent.com/betacord/ML/master/lab1/data/data.csv\n",
      "Translacja raw.githubusercontent.com (raw.githubusercontent.com)... 185.199.108.133, 185.199.110.133, 185.199.111.133, ...\n",
      "Łączenie się z raw.githubusercontent.com (raw.githubusercontent.com)|185.199.108.133|:443... połączono.\n",
      "Żądanie HTTP wysłano, oczekiwanie na odpowiedź... 200 OK\n",
      "Długość: 7381541 (7,0M) [text/plain]\n",
      "Zapis do: `data.csv'\n",
      "\n",
      "data.csv            100%[===================>]   7,04M   805KB/s     w 8,9s    \n",
      "\n",
      "2023-04-26 21:10:42 (810 KB/s) - zapisano `data.csv' [7381541/7381541]\n",
      "\n"
     ]
    }
   ],
   "source": [
    "!wget https://raw.githubusercontent.com/betacord/ML/master/lab1/data/data.csv"
   ]
  },
  {
   "cell_type": "code",
   "execution_count": 3,
   "id": "c19c4578",
   "metadata": {},
   "outputs": [
    {
     "data": {
      "text/html": [
       "<div>\n",
       "<style scoped>\n",
       "    .dataframe tbody tr th:only-of-type {\n",
       "        vertical-align: middle;\n",
       "    }\n",
       "\n",
       "    .dataframe tbody tr th {\n",
       "        vertical-align: top;\n",
       "    }\n",
       "\n",
       "    .dataframe thead th {\n",
       "        text-align: right;\n",
       "    }\n",
       "</style>\n",
       "<table border=\"1\" class=\"dataframe\">\n",
       "  <thead>\n",
       "    <tr style=\"text-align: right;\">\n",
       "      <th></th>\n",
       "      <th>AppraisedValue</th>\n",
       "      <th>SqFtLot</th>\n",
       "      <th>WaterSystem</th>\n",
       "      <th>SewerSystem</th>\n",
       "      <th>Access</th>\n",
       "      <th>Topography</th>\n",
       "      <th>StreetSurface</th>\n",
       "      <th>RestrictiveSzShape</th>\n",
       "      <th>InadequateParking</th>\n",
       "      <th>PcntUnusable</th>\n",
       "      <th>...</th>\n",
       "      <th>NativeGrowthProtEsmt</th>\n",
       "      <th>Easements</th>\n",
       "      <th>OtherDesignation</th>\n",
       "      <th>DeedRestrictions</th>\n",
       "      <th>DevelopmentRightsPurch</th>\n",
       "      <th>WaterProblems</th>\n",
       "      <th>TranspConcurrency</th>\n",
       "      <th>OtherProblems</th>\n",
       "      <th>lat</th>\n",
       "      <th>long</th>\n",
       "    </tr>\n",
       "  </thead>\n",
       "  <tbody>\n",
       "    <tr>\n",
       "      <th>0</th>\n",
       "      <td>619000.0</td>\n",
       "      <td>6542712</td>\n",
       "      <td>1</td>\n",
       "      <td>1</td>\n",
       "      <td>4</td>\n",
       "      <td>0</td>\n",
       "      <td>1</td>\n",
       "      <td>0</td>\n",
       "      <td>0</td>\n",
       "      <td>0</td>\n",
       "      <td>...</td>\n",
       "      <td>0</td>\n",
       "      <td>0</td>\n",
       "      <td>0</td>\n",
       "      <td>0</td>\n",
       "      <td>1</td>\n",
       "      <td>0</td>\n",
       "      <td>0</td>\n",
       "      <td>0</td>\n",
       "      <td>47.354019</td>\n",
       "      <td>-122.225166</td>\n",
       "    </tr>\n",
       "    <tr>\n",
       "      <th>1</th>\n",
       "      <td>708000.0</td>\n",
       "      <td>105850</td>\n",
       "      <td>2</td>\n",
       "      <td>1</td>\n",
       "      <td>3</td>\n",
       "      <td>0</td>\n",
       "      <td>2</td>\n",
       "      <td>0</td>\n",
       "      <td>0</td>\n",
       "      <td>0</td>\n",
       "      <td>...</td>\n",
       "      <td>0</td>\n",
       "      <td>0</td>\n",
       "      <td>0</td>\n",
       "      <td>0</td>\n",
       "      <td>0</td>\n",
       "      <td>0</td>\n",
       "      <td>0</td>\n",
       "      <td>0</td>\n",
       "      <td>47.611248</td>\n",
       "      <td>-122.053154</td>\n",
       "    </tr>\n",
       "    <tr>\n",
       "      <th>2</th>\n",
       "      <td>297000.0</td>\n",
       "      <td>1667</td>\n",
       "      <td>2</td>\n",
       "      <td>2</td>\n",
       "      <td>4</td>\n",
       "      <td>0</td>\n",
       "      <td>1</td>\n",
       "      <td>0</td>\n",
       "      <td>2</td>\n",
       "      <td>0</td>\n",
       "      <td>...</td>\n",
       "      <td>0</td>\n",
       "      <td>0</td>\n",
       "      <td>0</td>\n",
       "      <td>0</td>\n",
       "      <td>0</td>\n",
       "      <td>0</td>\n",
       "      <td>0</td>\n",
       "      <td>0</td>\n",
       "      <td>47.701248</td>\n",
       "      <td>-122.365784</td>\n",
       "    </tr>\n",
       "  </tbody>\n",
       "</table>\n",
       "<p>3 rows × 48 columns</p>\n",
       "</div>"
      ],
      "text/plain": [
       "   AppraisedValue  SqFtLot  WaterSystem  SewerSystem  Access  Topography  \\\n",
       "0        619000.0  6542712            1            1       4           0   \n",
       "1        708000.0   105850            2            1       3           0   \n",
       "2        297000.0     1667            2            2       4           0   \n",
       "\n",
       "   StreetSurface  RestrictiveSzShape  InadequateParking  PcntUnusable  ...  \\\n",
       "0              1                   0                  0             0  ...   \n",
       "1              2                   0                  0             0  ...   \n",
       "2              1                   0                  2             0  ...   \n",
       "\n",
       "   NativeGrowthProtEsmt  Easements  OtherDesignation  DeedRestrictions  \\\n",
       "0                     0          0                 0                 0   \n",
       "1                     0          0                 0                 0   \n",
       "2                     0          0                 0                 0   \n",
       "\n",
       "   DevelopmentRightsPurch  WaterProblems  TranspConcurrency  OtherProblems  \\\n",
       "0                       1              0                  0              0   \n",
       "1                       0              0                  0              0   \n",
       "2                       0              0                  0              0   \n",
       "\n",
       "         lat        long  \n",
       "0  47.354019 -122.225166  \n",
       "1  47.611248 -122.053154  \n",
       "2  47.701248 -122.365784  \n",
       "\n",
       "[3 rows x 48 columns]"
      ]
     },
     "execution_count": 3,
     "metadata": {},
     "output_type": "execute_result"
    }
   ],
   "source": [
    "houses = pd.read_csv('data.csv')\n",
    "houses.head(3)"
   ]
  },
  {
   "cell_type": "code",
   "execution_count": 4,
   "id": "a64e6862",
   "metadata": {},
   "outputs": [
    {
     "data": {
      "text/html": [
       "<div>\n",
       "<style scoped>\n",
       "    .dataframe tbody tr th:only-of-type {\n",
       "        vertical-align: middle;\n",
       "    }\n",
       "\n",
       "    .dataframe tbody tr th {\n",
       "        vertical-align: top;\n",
       "    }\n",
       "\n",
       "    .dataframe thead th {\n",
       "        text-align: right;\n",
       "    }\n",
       "</style>\n",
       "<table border=\"1\" class=\"dataframe\">\n",
       "  <thead>\n",
       "    <tr style=\"text-align: right;\">\n",
       "      <th></th>\n",
       "      <th>AppraisedValue</th>\n",
       "      <th>SqFtLot</th>\n",
       "      <th>WaterSystem</th>\n",
       "      <th>SewerSystem</th>\n",
       "      <th>Access</th>\n",
       "      <th>Topography</th>\n",
       "      <th>StreetSurface</th>\n",
       "      <th>RestrictiveSzShape</th>\n",
       "      <th>InadequateParking</th>\n",
       "      <th>PcntUnusable</th>\n",
       "      <th>...</th>\n",
       "      <th>NativeGrowthProtEsmt</th>\n",
       "      <th>Easements</th>\n",
       "      <th>OtherDesignation</th>\n",
       "      <th>DeedRestrictions</th>\n",
       "      <th>DevelopmentRightsPurch</th>\n",
       "      <th>WaterProblems</th>\n",
       "      <th>TranspConcurrency</th>\n",
       "      <th>OtherProblems</th>\n",
       "      <th>lat</th>\n",
       "      <th>long</th>\n",
       "    </tr>\n",
       "  </thead>\n",
       "  <tbody>\n",
       "    <tr>\n",
       "      <th>0</th>\n",
       "      <td>619000.0</td>\n",
       "      <td>6542712</td>\n",
       "      <td>1</td>\n",
       "      <td>1</td>\n",
       "      <td>4</td>\n",
       "      <td>0</td>\n",
       "      <td>1</td>\n",
       "      <td>0</td>\n",
       "      <td>0</td>\n",
       "      <td>0</td>\n",
       "      <td>...</td>\n",
       "      <td>0</td>\n",
       "      <td>0</td>\n",
       "      <td>0</td>\n",
       "      <td>0</td>\n",
       "      <td>1</td>\n",
       "      <td>0</td>\n",
       "      <td>0</td>\n",
       "      <td>0</td>\n",
       "      <td>47.354019</td>\n",
       "      <td>-122.225166</td>\n",
       "    </tr>\n",
       "    <tr>\n",
       "      <th>1</th>\n",
       "      <td>708000.0</td>\n",
       "      <td>105850</td>\n",
       "      <td>2</td>\n",
       "      <td>1</td>\n",
       "      <td>3</td>\n",
       "      <td>0</td>\n",
       "      <td>2</td>\n",
       "      <td>0</td>\n",
       "      <td>0</td>\n",
       "      <td>0</td>\n",
       "      <td>...</td>\n",
       "      <td>0</td>\n",
       "      <td>0</td>\n",
       "      <td>0</td>\n",
       "      <td>0</td>\n",
       "      <td>0</td>\n",
       "      <td>0</td>\n",
       "      <td>0</td>\n",
       "      <td>0</td>\n",
       "      <td>47.611248</td>\n",
       "      <td>-122.053154</td>\n",
       "    </tr>\n",
       "    <tr>\n",
       "      <th>2</th>\n",
       "      <td>297000.0</td>\n",
       "      <td>1667</td>\n",
       "      <td>2</td>\n",
       "      <td>2</td>\n",
       "      <td>4</td>\n",
       "      <td>0</td>\n",
       "      <td>1</td>\n",
       "      <td>0</td>\n",
       "      <td>2</td>\n",
       "      <td>0</td>\n",
       "      <td>...</td>\n",
       "      <td>0</td>\n",
       "      <td>0</td>\n",
       "      <td>0</td>\n",
       "      <td>0</td>\n",
       "      <td>0</td>\n",
       "      <td>0</td>\n",
       "      <td>0</td>\n",
       "      <td>0</td>\n",
       "      <td>47.701248</td>\n",
       "      <td>-122.365784</td>\n",
       "    </tr>\n",
       "    <tr>\n",
       "      <th>3</th>\n",
       "      <td>523000.0</td>\n",
       "      <td>1872</td>\n",
       "      <td>2</td>\n",
       "      <td>2</td>\n",
       "      <td>4</td>\n",
       "      <td>0</td>\n",
       "      <td>1</td>\n",
       "      <td>0</td>\n",
       "      <td>2</td>\n",
       "      <td>0</td>\n",
       "      <td>...</td>\n",
       "      <td>0</td>\n",
       "      <td>0</td>\n",
       "      <td>0</td>\n",
       "      <td>0</td>\n",
       "      <td>0</td>\n",
       "      <td>0</td>\n",
       "      <td>0</td>\n",
       "      <td>0</td>\n",
       "      <td>47.537918</td>\n",
       "      <td>-122.392845</td>\n",
       "    </tr>\n",
       "    <tr>\n",
       "      <th>4</th>\n",
       "      <td>288000.0</td>\n",
       "      <td>3480</td>\n",
       "      <td>2</td>\n",
       "      <td>2</td>\n",
       "      <td>4</td>\n",
       "      <td>0</td>\n",
       "      <td>1</td>\n",
       "      <td>0</td>\n",
       "      <td>0</td>\n",
       "      <td>0</td>\n",
       "      <td>...</td>\n",
       "      <td>0</td>\n",
       "      <td>0</td>\n",
       "      <td>0</td>\n",
       "      <td>0</td>\n",
       "      <td>0</td>\n",
       "      <td>0</td>\n",
       "      <td>0</td>\n",
       "      <td>0</td>\n",
       "      <td>47.510227</td>\n",
       "      <td>-122.182167</td>\n",
       "    </tr>\n",
       "    <tr>\n",
       "      <th>...</th>\n",
       "      <td>...</td>\n",
       "      <td>...</td>\n",
       "      <td>...</td>\n",
       "      <td>...</td>\n",
       "      <td>...</td>\n",
       "      <td>...</td>\n",
       "      <td>...</td>\n",
       "      <td>...</td>\n",
       "      <td>...</td>\n",
       "      <td>...</td>\n",
       "      <td>...</td>\n",
       "      <td>...</td>\n",
       "      <td>...</td>\n",
       "      <td>...</td>\n",
       "      <td>...</td>\n",
       "      <td>...</td>\n",
       "      <td>...</td>\n",
       "      <td>...</td>\n",
       "      <td>...</td>\n",
       "      <td>...</td>\n",
       "      <td>...</td>\n",
       "    </tr>\n",
       "    <tr>\n",
       "      <th>52415</th>\n",
       "      <td>523000.0</td>\n",
       "      <td>6982</td>\n",
       "      <td>2</td>\n",
       "      <td>2</td>\n",
       "      <td>4</td>\n",
       "      <td>0</td>\n",
       "      <td>1</td>\n",
       "      <td>0</td>\n",
       "      <td>0</td>\n",
       "      <td>0</td>\n",
       "      <td>...</td>\n",
       "      <td>0</td>\n",
       "      <td>0</td>\n",
       "      <td>0</td>\n",
       "      <td>0</td>\n",
       "      <td>0</td>\n",
       "      <td>0</td>\n",
       "      <td>0</td>\n",
       "      <td>0</td>\n",
       "      <td>47.769810</td>\n",
       "      <td>-122.367447</td>\n",
       "    </tr>\n",
       "    <tr>\n",
       "      <th>52416</th>\n",
       "      <td>425000.0</td>\n",
       "      <td>5481</td>\n",
       "      <td>2</td>\n",
       "      <td>2</td>\n",
       "      <td>4</td>\n",
       "      <td>0</td>\n",
       "      <td>1</td>\n",
       "      <td>0</td>\n",
       "      <td>2</td>\n",
       "      <td>0</td>\n",
       "      <td>...</td>\n",
       "      <td>0</td>\n",
       "      <td>0</td>\n",
       "      <td>0</td>\n",
       "      <td>0</td>\n",
       "      <td>0</td>\n",
       "      <td>0</td>\n",
       "      <td>0</td>\n",
       "      <td>0</td>\n",
       "      <td>47.510895</td>\n",
       "      <td>-122.366936</td>\n",
       "    </tr>\n",
       "    <tr>\n",
       "      <th>52417</th>\n",
       "      <td>377000.0</td>\n",
       "      <td>6793</td>\n",
       "      <td>2</td>\n",
       "      <td>2</td>\n",
       "      <td>3</td>\n",
       "      <td>0</td>\n",
       "      <td>1</td>\n",
       "      <td>0</td>\n",
       "      <td>0</td>\n",
       "      <td>0</td>\n",
       "      <td>...</td>\n",
       "      <td>0</td>\n",
       "      <td>0</td>\n",
       "      <td>0</td>\n",
       "      <td>0</td>\n",
       "      <td>0</td>\n",
       "      <td>0</td>\n",
       "      <td>0</td>\n",
       "      <td>0</td>\n",
       "      <td>47.766289</td>\n",
       "      <td>-122.358192</td>\n",
       "    </tr>\n",
       "    <tr>\n",
       "      <th>52418</th>\n",
       "      <td>581000.0</td>\n",
       "      <td>7200</td>\n",
       "      <td>2</td>\n",
       "      <td>2</td>\n",
       "      <td>4</td>\n",
       "      <td>0</td>\n",
       "      <td>1</td>\n",
       "      <td>0</td>\n",
       "      <td>0</td>\n",
       "      <td>0</td>\n",
       "      <td>...</td>\n",
       "      <td>0</td>\n",
       "      <td>0</td>\n",
       "      <td>0</td>\n",
       "      <td>0</td>\n",
       "      <td>0</td>\n",
       "      <td>0</td>\n",
       "      <td>0</td>\n",
       "      <td>0</td>\n",
       "      <td>47.769989</td>\n",
       "      <td>-122.364822</td>\n",
       "    </tr>\n",
       "    <tr>\n",
       "      <th>52419</th>\n",
       "      <td>567000.0</td>\n",
       "      <td>7221</td>\n",
       "      <td>2</td>\n",
       "      <td>2</td>\n",
       "      <td>3</td>\n",
       "      <td>0</td>\n",
       "      <td>3</td>\n",
       "      <td>0</td>\n",
       "      <td>0</td>\n",
       "      <td>0</td>\n",
       "      <td>...</td>\n",
       "      <td>0</td>\n",
       "      <td>0</td>\n",
       "      <td>0</td>\n",
       "      <td>0</td>\n",
       "      <td>0</td>\n",
       "      <td>0</td>\n",
       "      <td>0</td>\n",
       "      <td>0</td>\n",
       "      <td>39.042558</td>\n",
       "      <td>-89.322143</td>\n",
       "    </tr>\n",
       "  </tbody>\n",
       "</table>\n",
       "<p>52420 rows × 48 columns</p>\n",
       "</div>"
      ],
      "text/plain": [
       "       AppraisedValue  SqFtLot  WaterSystem  SewerSystem  Access  Topography  \\\n",
       "0            619000.0  6542712            1            1       4           0   \n",
       "1            708000.0   105850            2            1       3           0   \n",
       "2            297000.0     1667            2            2       4           0   \n",
       "3            523000.0     1872            2            2       4           0   \n",
       "4            288000.0     3480            2            2       4           0   \n",
       "...               ...      ...          ...          ...     ...         ...   \n",
       "52415        523000.0     6982            2            2       4           0   \n",
       "52416        425000.0     5481            2            2       4           0   \n",
       "52417        377000.0     6793            2            2       3           0   \n",
       "52418        581000.0     7200            2            2       4           0   \n",
       "52419        567000.0     7221            2            2       3           0   \n",
       "\n",
       "       StreetSurface  RestrictiveSzShape  InadequateParking  PcntUnusable  \\\n",
       "0                  1                   0                  0             0   \n",
       "1                  2                   0                  0             0   \n",
       "2                  1                   0                  2             0   \n",
       "3                  1                   0                  2             0   \n",
       "4                  1                   0                  0             0   \n",
       "...              ...                 ...                ...           ...   \n",
       "52415              1                   0                  0             0   \n",
       "52416              1                   0                  2             0   \n",
       "52417              1                   0                  0             0   \n",
       "52418              1                   0                  0             0   \n",
       "52419              3                   0                  0             0   \n",
       "\n",
       "       ...  NativeGrowthProtEsmt  Easements  OtherDesignation  \\\n",
       "0      ...                     0          0                 0   \n",
       "1      ...                     0          0                 0   \n",
       "2      ...                     0          0                 0   \n",
       "3      ...                     0          0                 0   \n",
       "4      ...                     0          0                 0   \n",
       "...    ...                   ...        ...               ...   \n",
       "52415  ...                     0          0                 0   \n",
       "52416  ...                     0          0                 0   \n",
       "52417  ...                     0          0                 0   \n",
       "52418  ...                     0          0                 0   \n",
       "52419  ...                     0          0                 0   \n",
       "\n",
       "       DeedRestrictions  DevelopmentRightsPurch  WaterProblems  \\\n",
       "0                     0                       1              0   \n",
       "1                     0                       0              0   \n",
       "2                     0                       0              0   \n",
       "3                     0                       0              0   \n",
       "4                     0                       0              0   \n",
       "...                 ...                     ...            ...   \n",
       "52415                 0                       0              0   \n",
       "52416                 0                       0              0   \n",
       "52417                 0                       0              0   \n",
       "52418                 0                       0              0   \n",
       "52419                 0                       0              0   \n",
       "\n",
       "       TranspConcurrency  OtherProblems        lat        long  \n",
       "0                      0              0  47.354019 -122.225166  \n",
       "1                      0              0  47.611248 -122.053154  \n",
       "2                      0              0  47.701248 -122.365784  \n",
       "3                      0              0  47.537918 -122.392845  \n",
       "4                      0              0  47.510227 -122.182167  \n",
       "...                  ...            ...        ...         ...  \n",
       "52415                  0              0  47.769810 -122.367447  \n",
       "52416                  0              0  47.510895 -122.366936  \n",
       "52417                  0              0  47.766289 -122.358192  \n",
       "52418                  0              0  47.769989 -122.364822  \n",
       "52419                  0              0  39.042558  -89.322143  \n",
       "\n",
       "[52420 rows x 48 columns]"
      ]
     },
     "execution_count": 4,
     "metadata": {},
     "output_type": "execute_result"
    }
   ],
   "source": [
    "houses"
   ]
  },
  {
   "cell_type": "code",
   "execution_count": 5,
   "id": "b5f7c312",
   "metadata": {},
   "outputs": [
    {
     "data": {
      "text/plain": [
       "Index(['AppraisedValue', 'SqFtLot', 'WaterSystem', 'SewerSystem', 'Access',\n",
       "       'Topography', 'StreetSurface', 'RestrictiveSzShape',\n",
       "       'InadequateParking', 'PcntUnusable', 'MtRainier', 'Olympics',\n",
       "       'Cascades', 'Territorial', 'SeattleSkyline', 'PugetSound',\n",
       "       'LakeWashington', 'LakeSammamish', 'SmallLakeRiverCreek', 'OtherView',\n",
       "       'WfntLocation', 'WfntFootage', 'WfntBank', 'WfntPoorQuality',\n",
       "       'WfntRestrictedAccess', 'WfntAccessRights', 'WfntProximityInfluence',\n",
       "       'TidelandShoreland', 'LotDepthFactor', 'TrafficNoise', 'PowerLines',\n",
       "       'OtherNuisances', 'NbrBldgSites', 'Contamination',\n",
       "       'AdjacentGolfFairway', 'AdjacentGreenbelt', 'HistoricSite',\n",
       "       'CurrentUseDesignation', 'NativeGrowthProtEsmt', 'Easements',\n",
       "       'OtherDesignation', 'DeedRestrictions', 'DevelopmentRightsPurch',\n",
       "       'WaterProblems', 'TranspConcurrency', 'OtherProblems', 'lat', 'long'],\n",
       "      dtype='object')"
      ]
     },
     "execution_count": 5,
     "metadata": {},
     "output_type": "execute_result"
    }
   ],
   "source": [
    "houses.columns"
   ]
  },
  {
   "cell_type": "code",
   "execution_count": 6,
   "id": "6558af8f",
   "metadata": {},
   "outputs": [
    {
     "data": {
      "text/plain": [
       "array(['AppraisedValue', 'SqFtLot', 'WaterSystem', 'SewerSystem',\n",
       "       'Access', 'Topography', 'StreetSurface', 'RestrictiveSzShape',\n",
       "       'InadequateParking', 'PcntUnusable', 'MtRainier', 'Olympics',\n",
       "       'Cascades', 'Territorial', 'SeattleSkyline', 'PugetSound',\n",
       "       'LakeWashington', 'LakeSammamish', 'SmallLakeRiverCreek',\n",
       "       'OtherView', 'WfntLocation', 'WfntFootage', 'WfntBank',\n",
       "       'WfntPoorQuality', 'WfntRestrictedAccess', 'WfntAccessRights',\n",
       "       'WfntProximityInfluence', 'TidelandShoreland', 'LotDepthFactor',\n",
       "       'TrafficNoise', 'PowerLines', 'OtherNuisances', 'NbrBldgSites',\n",
       "       'Contamination', 'AdjacentGolfFairway', 'AdjacentGreenbelt',\n",
       "       'HistoricSite', 'CurrentUseDesignation', 'NativeGrowthProtEsmt',\n",
       "       'Easements', 'OtherDesignation', 'DeedRestrictions',\n",
       "       'DevelopmentRightsPurch', 'WaterProblems', 'TranspConcurrency',\n",
       "       'OtherProblems', 'lat', 'long'], dtype=object)"
      ]
     },
     "execution_count": 6,
     "metadata": {},
     "output_type": "execute_result"
    }
   ],
   "source": [
    "houses.columns.values"
   ]
  },
  {
   "cell_type": "code",
   "execution_count": 7,
   "id": "a82ffa1e",
   "metadata": {},
   "outputs": [],
   "source": [
    "values = houses['AppraisedValue']"
   ]
  },
  {
   "cell_type": "markdown",
   "id": "77e12188",
   "metadata": {},
   "source": [
    "### Wybór atrybutów\n",
    "Wyscie : AppraisedValue\n",
    "Wesscie\n",
    "SqFtLot\n",
    "lat\n",
    "long\n"
   ]
  },
  {
   "cell_type": "code",
   "execution_count": 8,
   "id": "c2ed3e10",
   "metadata": {},
   "outputs": [
    {
     "name": "stderr",
     "output_type": "stream",
     "text": [
      "/tmp/ipykernel_8846/1526003396.py:1: FutureWarning: In a future version of pandas all arguments of DataFrame.drop except for the argument 'labels' will be keyword-only.\n",
      "  houses.drop('AppraisedValue',1, inplace=True)\n"
     ]
    }
   ],
   "source": [
    "houses.drop('AppraisedValue',1, inplace=True)"
   ]
  },
  {
   "cell_type": "markdown",
   "id": "addbb224",
   "metadata": {},
   "source": [
    " Normalizacja"
   ]
  },
  {
   "cell_type": "code",
   "execution_count": 9,
   "id": "9514db8f",
   "metadata": {},
   "outputs": [],
   "source": [
    "houses = (houses - houses.mean())/(houses.max()-houses.min())"
   ]
  },
  {
   "cell_type": "code",
   "execution_count": 10,
   "id": "e0430a20",
   "metadata": {},
   "outputs": [],
   "source": [
    "houses = houses[['SqFtLot','lat','long']]"
   ]
  },
  {
   "cell_type": "code",
   "execution_count": 11,
   "id": "1de15367",
   "metadata": {},
   "outputs": [
    {
     "data": {
      "text/html": [
       "<div>\n",
       "<style scoped>\n",
       "    .dataframe tbody tr th:only-of-type {\n",
       "        vertical-align: middle;\n",
       "    }\n",
       "\n",
       "    .dataframe tbody tr th {\n",
       "        vertical-align: top;\n",
       "    }\n",
       "\n",
       "    .dataframe thead th {\n",
       "        text-align: right;\n",
       "    }\n",
       "</style>\n",
       "<table border=\"1\" class=\"dataframe\">\n",
       "  <thead>\n",
       "    <tr style=\"text-align: right;\">\n",
       "      <th></th>\n",
       "      <th>SqFtLot</th>\n",
       "      <th>lat</th>\n",
       "      <th>long</th>\n",
       "    </tr>\n",
       "  </thead>\n",
       "  <tbody>\n",
       "    <tr>\n",
       "      <th>0</th>\n",
       "      <td>0.926695</td>\n",
       "      <td>-0.002260</td>\n",
       "      <td>-0.002427</td>\n",
       "    </tr>\n",
       "    <tr>\n",
       "      <th>1</th>\n",
       "      <td>0.012250</td>\n",
       "      <td>0.004289</td>\n",
       "      <td>-0.001374</td>\n",
       "    </tr>\n",
       "    <tr>\n",
       "      <th>2</th>\n",
       "      <td>-0.002550</td>\n",
       "      <td>0.006580</td>\n",
       "      <td>-0.003288</td>\n",
       "    </tr>\n",
       "    <tr>\n",
       "      <th>3</th>\n",
       "      <td>-0.002521</td>\n",
       "      <td>0.002422</td>\n",
       "      <td>-0.003454</td>\n",
       "    </tr>\n",
       "    <tr>\n",
       "      <th>4</th>\n",
       "      <td>-0.002293</td>\n",
       "      <td>0.001717</td>\n",
       "      <td>-0.002164</td>\n",
       "    </tr>\n",
       "    <tr>\n",
       "      <th>...</th>\n",
       "      <td>...</td>\n",
       "      <td>...</td>\n",
       "      <td>...</td>\n",
       "    </tr>\n",
       "    <tr>\n",
       "      <th>52415</th>\n",
       "      <td>-0.001795</td>\n",
       "      <td>0.008325</td>\n",
       "      <td>-0.003298</td>\n",
       "    </tr>\n",
       "    <tr>\n",
       "      <th>52416</th>\n",
       "      <td>-0.002008</td>\n",
       "      <td>0.001734</td>\n",
       "      <td>-0.003295</td>\n",
       "    </tr>\n",
       "    <tr>\n",
       "      <th>52417</th>\n",
       "      <td>-0.001822</td>\n",
       "      <td>0.008236</td>\n",
       "      <td>-0.003241</td>\n",
       "    </tr>\n",
       "    <tr>\n",
       "      <th>52418</th>\n",
       "      <td>-0.001764</td>\n",
       "      <td>0.008330</td>\n",
       "      <td>-0.003282</td>\n",
       "    </tr>\n",
       "    <tr>\n",
       "      <th>52419</th>\n",
       "      <td>-0.001761</td>\n",
       "      <td>-0.213866</td>\n",
       "      <td>0.199032</td>\n",
       "    </tr>\n",
       "  </tbody>\n",
       "</table>\n",
       "<p>52420 rows × 3 columns</p>\n",
       "</div>"
      ],
      "text/plain": [
       "        SqFtLot       lat      long\n",
       "0      0.926695 -0.002260 -0.002427\n",
       "1      0.012250  0.004289 -0.001374\n",
       "2     -0.002550  0.006580 -0.003288\n",
       "3     -0.002521  0.002422 -0.003454\n",
       "4     -0.002293  0.001717 -0.002164\n",
       "...         ...       ...       ...\n",
       "52415 -0.001795  0.008325 -0.003298\n",
       "52416 -0.002008  0.001734 -0.003295\n",
       "52417 -0.001822  0.008236 -0.003241\n",
       "52418 -0.001764  0.008330 -0.003282\n",
       "52419 -0.001761 -0.213866  0.199032\n",
       "\n",
       "[52420 rows x 3 columns]"
      ]
     },
     "execution_count": 11,
     "metadata": {},
     "output_type": "execute_result"
    }
   ],
   "source": [
    "houses"
   ]
  },
  {
   "cell_type": "markdown",
   "id": "95903b8c",
   "metadata": {},
   "source": [
    "### Podział danych\n",
    "trening 80% test 20%"
   ]
  },
  {
   "cell_type": "code",
   "execution_count": 12,
   "id": "3f8fbc5b",
   "metadata": {},
   "outputs": [],
   "source": [
    "test_rows = random.sample(houses.index.tolist(), int(round(len(houses)*.2)))\n",
    "train_rows=set(range(len(houses))) - set(test_rows)"
   ]
  },
  {
   "cell_type": "code",
   "execution_count": 13,
   "id": "6579d733",
   "metadata": {},
   "outputs": [
    {
     "name": "stderr",
     "output_type": "stream",
     "text": [
      "/tmp/ipykernel_8846/3802386928.py:2: FutureWarning: Passing a set as an indexer is deprecated and will raise in a future version. Use a list instead.\n",
      "  df_train = houses.loc[train_rows]\n",
      "/tmp/ipykernel_8846/3802386928.py:5: FutureWarning: Passing a set as an indexer is deprecated and will raise in a future version. Use a list instead.\n",
      "  train_values = values.loc[train_rows]\n"
     ]
    }
   ],
   "source": [
    "df_test = houses.loc[test_rows]\n",
    "df_train = houses.loc[train_rows]\n",
    "\n",
    "test_values = values.loc[test_rows]\n",
    "train_values = values.loc[train_rows]"
   ]
  },
  {
   "cell_type": "code",
   "execution_count": 14,
   "id": "d9d5b957",
   "metadata": {},
   "outputs": [],
   "source": [
    "# print(type(test_values))"
   ]
  },
  {
   "cell_type": "markdown",
   "id": "66332084",
   "metadata": {},
   "source": [
    "### KNN implementacja manualna"
   ]
  },
  {
   "cell_type": "code",
   "execution_count": 15,
   "id": "f655720b",
   "metadata": {},
   "outputs": [],
   "source": [
    "kdtree = KDTree(houses)"
   ]
  },
  {
   "cell_type": "markdown",
   "id": "feca4c8c",
   "metadata": {},
   "source": [
    "Funkcja przydzielająca predykcję"
   ]
  },
  {
   "cell_type": "code",
   "execution_count": 16,
   "id": "383c5b77",
   "metadata": {},
   "outputs": [],
   "source": [
    "def predict(query_point, k):\n",
    "    ''' k liczba sąsiadów'''\n",
    "    _, idx = kdtree.query(query_point, k)\n",
    "    return np.mean(values.iloc[idx])"
   ]
  },
  {
   "cell_type": "code",
   "execution_count": 17,
   "id": "a7084efa",
   "metadata": {},
   "outputs": [],
   "source": [
    "train_predicted_values = []\n",
    "train_actual_values = []"
   ]
  },
  {
   "cell_type": "code",
   "execution_count": 18,
   "id": "e0191382",
   "metadata": {},
   "outputs": [],
   "source": [
    "for _id, row in df_train.iterrows():\n",
    "  prediction = predict(row, 5)\n",
    "  train_predicted_values.append(prediction)\n",
    "  train_actual_values.append(train_values[_id])"
   ]
  },
  {
   "cell_type": "markdown",
   "id": "144f16af",
   "metadata": {},
   "source": [
    "### Wyznaczanie błędu regresji"
   ]
  },
  {
   "cell_type": "markdown",
   "id": "6fc7e637",
   "metadata": {},
   "source": [
    "Za pomocą MAE"
   ]
  },
  {
   "cell_type": "code",
   "execution_count": 19,
   "id": "b7a32243",
   "metadata": {},
   "outputs": [],
   "source": [
    "mae = mean_absolute_error(train_actual_values, train_predicted_values)"
   ]
  },
  {
   "cell_type": "code",
   "execution_count": 20,
   "id": "e626abf5",
   "metadata": {},
   "outputs": [
    {
     "data": {
      "text/plain": [
       "'Sredni blad bezwzgledny dla danych testowych wynosi: 59291.458031285765'"
      ]
     },
     "execution_count": 20,
     "metadata": {},
     "output_type": "execute_result"
    }
   ],
   "source": [
    "f'Sredni blad bezwzgledny dla danych testowych wynosi: {mae}'"
   ]
  },
  {
   "cell_type": "markdown",
   "id": "58b227d3",
   "metadata": {},
   "source": [
    "### Zad1. \n",
    "    Wykorzystać powyższy przykład w celu znalezienia takiej wartości K, dla której wartość średniego błędu bezwzględnego na systemie treningowym\n",
    "\n",
    "będzie najmniejsza. W tym celu należy stworzyć wykres liniowy, na którym oś x będzie przedstawiała wartość K, a oś y będzie przedstawiała wartość funkcji błędu. Następnie dla \"najlepszej\" wartości K sprawdzić wartość funkcji błędu na systemie testowym."
   ]
  },
  {
   "cell_type": "markdown",
   "id": "5a216d64",
   "metadata": {},
   "source": [
    "### Ilosc sąsiadow i błąd"
   ]
  },
  {
   "cell_type": "code",
   "execution_count": 25,
   "id": "e46dab06",
   "metadata": {},
   "outputs": [],
   "source": [
    "number_neigbours = []\n",
    "absolute_error = []\n",
    "for i in range(2,5):\n",
    "    number_neigbours.append(i)\n",
    "    for _id, row in df_train.iterrows():\n",
    "        prediction = predict(row, i)\n",
    "        train_predicted_values.append(prediction)\n",
    "        train_actual_values.append(train_values[_id])\n",
    "    mae = mean_absolute_error(train_actual_values, train_predicted_values)\n",
    "    absolute_error.append(mae)\n",
    "\n",
    "    "
   ]
  },
  {
   "cell_type": "code",
   "execution_count": 26,
   "id": "1c166050",
   "metadata": {},
   "outputs": [
    {
     "name": "stdout",
     "output_type": "stream",
     "text": [
      "3 [61417.93611777687, 60899.5095484982, 60674.890310936644]\n"
     ]
    }
   ],
   "source": [
    "print(len(number_neigbours),  absolute_error)"
   ]
  },
  {
   "cell_type": "markdown",
   "id": "f246fd2c",
   "metadata": {},
   "source": [
    "## Wykres"
   ]
  },
  {
   "cell_type": "code",
   "execution_count": 27,
   "id": "6422c1f7",
   "metadata": {},
   "outputs": [
    {
     "data": {
      "image/png": "[encoded data removed]",
      "text/plain": [
       "<Figure size 640x480 with 1 Axes>"
      ]
     },
     "metadata": {},
     "output_type": "display_data"
    }
   ],
   "source": [
    "fig, ax = plt.subplots()\n",
    "ax.plot(number_neigbours, absolute_error)\n",
    "\n",
    "plt.show()"
   ]
  },
  {
   "cell_type": "markdown",
   "id": "eafbfc0a",
   "metadata": {},
   "source": [
    "najmniejszy  blad"
   ]
  },
  {
   "cell_type": "code",
   "execution_count": 28,
   "id": "125c42dd",
   "metadata": {},
   "outputs": [],
   "source": [
    "min_error = np.min(absolute_error)"
   ]
  },
  {
   "cell_type": "code",
   "execution_count": 29,
   "id": "5db48225",
   "metadata": {},
   "outputs": [
    {
     "data": {
      "text/plain": [
       "60674.890310936644"
      ]
     },
     "execution_count": 29,
     "metadata": {},
     "output_type": "execute_result"
    }
   ],
   "source": [
    "min_error"
   ]
  },
  {
   "cell_type": "markdown",
   "id": "3b050bd1",
   "metadata": {},
   "source": [
    "#### Ilość sąsiadów"
   ]
  },
  {
   "cell_type": "code",
   "execution_count": 32,
   "id": "937c0c62",
   "metadata": {},
   "outputs": [
    {
     "data": {
      "text/plain": [
       "4"
      ]
     },
     "execution_count": 32,
     "metadata": {},
     "output_type": "execute_result"
    }
   ],
   "source": [
    "num_neighbour = [i for i, j in enumerate(absolute_error) if j == min_error]\n",
    "num_neighbour\n",
    "number_neigbours[num_neighbour[0]]"
   ]
  },
  {
   "cell_type": "code",
   "execution_count": 33,
   "id": "e81ec327",
   "metadata": {},
   "outputs": [
    {
     "data": {
      "text/plain": [
       "[2]"
      ]
     },
     "execution_count": 33,
     "metadata": {},
     "output_type": "execute_result"
    }
   ],
   "source": [
    "num_neighbour"
   ]
  },
  {
   "cell_type": "markdown",
   "id": "67606024",
   "metadata": {},
   "source": [
    "### Zad2. Znaleźć \"najlepszą\" wartość K dla następujących podziałów na system treningowy i testowy:\n",
    "\n",
    "    60% system treningowy i 40% system testowy\n",
    "    65% system treningowy i 35% system testowy\n",
    "    70% system treningowy i 30% system testowy\n",
    "    75% system treningowy i 25% system testowy\n"
   ]
  },
  {
   "cell_type": "markdown",
   "id": "78d73a92",
   "metadata": {},
   "source": [
    "Funkcja Podzial danych "
   ]
  },
  {
   "cell_type": "code",
   "execution_count": 31,
   "id": "066387c8",
   "metadata": {},
   "outputs": [],
   "source": [
    "def split_data_test(percent_test):\n",
    "    test_rows = set(random.sample(houses.index.tolist(), int(round(len(houses)* percent_test/100))))   \n",
    "    return test_rows"
   ]
  },
  {
   "cell_type": "code",
   "execution_count": null,
   "id": "002b4f2f",
   "metadata": {},
   "outputs": [],
   "source": [
    "list_percents_test = [40, 35, 30, 5]\n",
    "for percent in list_percents_test:\n",
    "    test_rows = split_data_test(percent)\n",
    "    train_rows = set(range(len(houses))) - test_rows\n",
    "    df_test = houses.loc[test_rows]\n",
    "    df_train = houses.loc[train_rows]\n",
    "    test_values = values.loc[test_rows]\n",
    "    train_values = values.loc[train_rows]\n",
    "    number_neigbours = []\n",
    "    absolute_error = []\n",
    "    for i in range(3,10):\n",
    "        number_neigbours.append(i)\n",
    "        for _id, row in df_train.iterrows():\n",
    "            prediction = predict(row, i)\n",
    "            #try:\n",
    "            train_predicted_values.append(prediction)\n",
    "            train_actual_values.append(train_values[_id])\n",
    "            #except:\n",
    "             #   import pdb\n",
    "              #  pdb.set_trace()\n",
    "        mae = mean_absolute_error(train_actual_values, train_predicted_values)\n",
    "        absolute_error.append(mae)\n",
    "    min_error = np.min(absolute_error)\n",
    "    num_neighbour = [i for i, j in enumerate(absolute_error) if j == min_error]\n",
    "    print(number_neigbours[num_neighbour[0]])\n",
    "    fig, ax = plt.subplots()\n",
    "    ax.plot(number_neigbours, absolute_error)\n",
    "    plt.show()\n",
    "   \n"
   ]
  },
  {
   "cell_type": "markdown",
   "id": "c6d86e4f",
   "metadata": {},
   "source": [
    "# Klasyfikacja KNN przy użyciu pakietu Scikit learn"
   ]
  },
  {
   "cell_type": "markdown",
   "id": "34963f26",
   "metadata": {},
   "source": [
    "## Wczytanie danych\n"
   ]
  },
  {
   "cell_type": "code",
   "execution_count": 35,
   "id": "373c1990",
   "metadata": {},
   "outputs": [],
   "source": [
    "houses = pd.read_csv('data.csv')"
   ]
  },
  {
   "cell_type": "markdown",
   "id": "877a154f",
   "metadata": {},
   "source": [
    "### Przygotowanie systemu decyzyjnego do klasyfikacji"
   ]
  },
  {
   "cell_type": "code",
   "execution_count": 36,
   "id": "98860021",
   "metadata": {},
   "outputs": [
    {
     "data": {
      "text/html": [
       "<div>\n",
       "<style scoped>\n",
       "    .dataframe tbody tr th:only-of-type {\n",
       "        vertical-align: middle;\n",
       "    }\n",
       "\n",
       "    .dataframe tbody tr th {\n",
       "        vertical-align: top;\n",
       "    }\n",
       "\n",
       "    .dataframe thead th {\n",
       "        text-align: right;\n",
       "    }\n",
       "</style>\n",
       "<table border=\"1\" class=\"dataframe\">\n",
       "  <thead>\n",
       "    <tr style=\"text-align: right;\">\n",
       "      <th></th>\n",
       "      <th>AppraisedValue</th>\n",
       "      <th>SqFtLot</th>\n",
       "      <th>WaterSystem</th>\n",
       "      <th>SewerSystem</th>\n",
       "      <th>Access</th>\n",
       "      <th>Topography</th>\n",
       "      <th>StreetSurface</th>\n",
       "      <th>RestrictiveSzShape</th>\n",
       "      <th>InadequateParking</th>\n",
       "      <th>PcntUnusable</th>\n",
       "      <th>...</th>\n",
       "      <th>NativeGrowthProtEsmt</th>\n",
       "      <th>Easements</th>\n",
       "      <th>OtherDesignation</th>\n",
       "      <th>DeedRestrictions</th>\n",
       "      <th>DevelopmentRightsPurch</th>\n",
       "      <th>WaterProblems</th>\n",
       "      <th>TranspConcurrency</th>\n",
       "      <th>OtherProblems</th>\n",
       "      <th>lat</th>\n",
       "      <th>long</th>\n",
       "    </tr>\n",
       "  </thead>\n",
       "  <tbody>\n",
       "    <tr>\n",
       "      <th>0</th>\n",
       "      <td>619000.0</td>\n",
       "      <td>6542712</td>\n",
       "      <td>1</td>\n",
       "      <td>1</td>\n",
       "      <td>4</td>\n",
       "      <td>0</td>\n",
       "      <td>1</td>\n",
       "      <td>0</td>\n",
       "      <td>0</td>\n",
       "      <td>0</td>\n",
       "      <td>...</td>\n",
       "      <td>0</td>\n",
       "      <td>0</td>\n",
       "      <td>0</td>\n",
       "      <td>0</td>\n",
       "      <td>1</td>\n",
       "      <td>0</td>\n",
       "      <td>0</td>\n",
       "      <td>0</td>\n",
       "      <td>47.354019</td>\n",
       "      <td>-122.225166</td>\n",
       "    </tr>\n",
       "    <tr>\n",
       "      <th>1</th>\n",
       "      <td>708000.0</td>\n",
       "      <td>105850</td>\n",
       "      <td>2</td>\n",
       "      <td>1</td>\n",
       "      <td>3</td>\n",
       "      <td>0</td>\n",
       "      <td>2</td>\n",
       "      <td>0</td>\n",
       "      <td>0</td>\n",
       "      <td>0</td>\n",
       "      <td>...</td>\n",
       "      <td>0</td>\n",
       "      <td>0</td>\n",
       "      <td>0</td>\n",
       "      <td>0</td>\n",
       "      <td>0</td>\n",
       "      <td>0</td>\n",
       "      <td>0</td>\n",
       "      <td>0</td>\n",
       "      <td>47.611248</td>\n",
       "      <td>-122.053154</td>\n",
       "    </tr>\n",
       "    <tr>\n",
       "      <th>2</th>\n",
       "      <td>297000.0</td>\n",
       "      <td>1667</td>\n",
       "      <td>2</td>\n",
       "      <td>2</td>\n",
       "      <td>4</td>\n",
       "      <td>0</td>\n",
       "      <td>1</td>\n",
       "      <td>0</td>\n",
       "      <td>2</td>\n",
       "      <td>0</td>\n",
       "      <td>...</td>\n",
       "      <td>0</td>\n",
       "      <td>0</td>\n",
       "      <td>0</td>\n",
       "      <td>0</td>\n",
       "      <td>0</td>\n",
       "      <td>0</td>\n",
       "      <td>0</td>\n",
       "      <td>0</td>\n",
       "      <td>47.701248</td>\n",
       "      <td>-122.365784</td>\n",
       "    </tr>\n",
       "    <tr>\n",
       "      <th>3</th>\n",
       "      <td>523000.0</td>\n",
       "      <td>1872</td>\n",
       "      <td>2</td>\n",
       "      <td>2</td>\n",
       "      <td>4</td>\n",
       "      <td>0</td>\n",
       "      <td>1</td>\n",
       "      <td>0</td>\n",
       "      <td>2</td>\n",
       "      <td>0</td>\n",
       "      <td>...</td>\n",
       "      <td>0</td>\n",
       "      <td>0</td>\n",
       "      <td>0</td>\n",
       "      <td>0</td>\n",
       "      <td>0</td>\n",
       "      <td>0</td>\n",
       "      <td>0</td>\n",
       "      <td>0</td>\n",
       "      <td>47.537918</td>\n",
       "      <td>-122.392845</td>\n",
       "    </tr>\n",
       "    <tr>\n",
       "      <th>4</th>\n",
       "      <td>288000.0</td>\n",
       "      <td>3480</td>\n",
       "      <td>2</td>\n",
       "      <td>2</td>\n",
       "      <td>4</td>\n",
       "      <td>0</td>\n",
       "      <td>1</td>\n",
       "      <td>0</td>\n",
       "      <td>0</td>\n",
       "      <td>0</td>\n",
       "      <td>...</td>\n",
       "      <td>0</td>\n",
       "      <td>0</td>\n",
       "      <td>0</td>\n",
       "      <td>0</td>\n",
       "      <td>0</td>\n",
       "      <td>0</td>\n",
       "      <td>0</td>\n",
       "      <td>0</td>\n",
       "      <td>47.510227</td>\n",
       "      <td>-122.182167</td>\n",
       "    </tr>\n",
       "    <tr>\n",
       "      <th>...</th>\n",
       "      <td>...</td>\n",
       "      <td>...</td>\n",
       "      <td>...</td>\n",
       "      <td>...</td>\n",
       "      <td>...</td>\n",
       "      <td>...</td>\n",
       "      <td>...</td>\n",
       "      <td>...</td>\n",
       "      <td>...</td>\n",
       "      <td>...</td>\n",
       "      <td>...</td>\n",
       "      <td>...</td>\n",
       "      <td>...</td>\n",
       "      <td>...</td>\n",
       "      <td>...</td>\n",
       "      <td>...</td>\n",
       "      <td>...</td>\n",
       "      <td>...</td>\n",
       "      <td>...</td>\n",
       "      <td>...</td>\n",
       "      <td>...</td>\n",
       "    </tr>\n",
       "    <tr>\n",
       "      <th>52415</th>\n",
       "      <td>523000.0</td>\n",
       "      <td>6982</td>\n",
       "      <td>2</td>\n",
       "      <td>2</td>\n",
       "      <td>4</td>\n",
       "      <td>0</td>\n",
       "      <td>1</td>\n",
       "      <td>0</td>\n",
       "      <td>0</td>\n",
       "      <td>0</td>\n",
       "      <td>...</td>\n",
       "      <td>0</td>\n",
       "      <td>0</td>\n",
       "      <td>0</td>\n",
       "      <td>0</td>\n",
       "      <td>0</td>\n",
       "      <td>0</td>\n",
       "      <td>0</td>\n",
       "      <td>0</td>\n",
       "      <td>47.769810</td>\n",
       "      <td>-122.367447</td>\n",
       "    </tr>\n",
       "    <tr>\n",
       "      <th>52416</th>\n",
       "      <td>425000.0</td>\n",
       "      <td>5481</td>\n",
       "      <td>2</td>\n",
       "      <td>2</td>\n",
       "      <td>4</td>\n",
       "      <td>0</td>\n",
       "      <td>1</td>\n",
       "      <td>0</td>\n",
       "      <td>2</td>\n",
       "      <td>0</td>\n",
       "      <td>...</td>\n",
       "      <td>0</td>\n",
       "      <td>0</td>\n",
       "      <td>0</td>\n",
       "      <td>0</td>\n",
       "      <td>0</td>\n",
       "      <td>0</td>\n",
       "      <td>0</td>\n",
       "      <td>0</td>\n",
       "      <td>47.510895</td>\n",
       "      <td>-122.366936</td>\n",
       "    </tr>\n",
       "    <tr>\n",
       "      <th>52417</th>\n",
       "      <td>377000.0</td>\n",
       "      <td>6793</td>\n",
       "      <td>2</td>\n",
       "      <td>2</td>\n",
       "      <td>3</td>\n",
       "      <td>0</td>\n",
       "      <td>1</td>\n",
       "      <td>0</td>\n",
       "      <td>0</td>\n",
       "      <td>0</td>\n",
       "      <td>...</td>\n",
       "      <td>0</td>\n",
       "      <td>0</td>\n",
       "      <td>0</td>\n",
       "      <td>0</td>\n",
       "      <td>0</td>\n",
       "      <td>0</td>\n",
       "      <td>0</td>\n",
       "      <td>0</td>\n",
       "      <td>47.766289</td>\n",
       "      <td>-122.358192</td>\n",
       "    </tr>\n",
       "    <tr>\n",
       "      <th>52418</th>\n",
       "      <td>581000.0</td>\n",
       "      <td>7200</td>\n",
       "      <td>2</td>\n",
       "      <td>2</td>\n",
       "      <td>4</td>\n",
       "      <td>0</td>\n",
       "      <td>1</td>\n",
       "      <td>0</td>\n",
       "      <td>0</td>\n",
       "      <td>0</td>\n",
       "      <td>...</td>\n",
       "      <td>0</td>\n",
       "      <td>0</td>\n",
       "      <td>0</td>\n",
       "      <td>0</td>\n",
       "      <td>0</td>\n",
       "      <td>0</td>\n",
       "      <td>0</td>\n",
       "      <td>0</td>\n",
       "      <td>47.769989</td>\n",
       "      <td>-122.364822</td>\n",
       "    </tr>\n",
       "    <tr>\n",
       "      <th>52419</th>\n",
       "      <td>567000.0</td>\n",
       "      <td>7221</td>\n",
       "      <td>2</td>\n",
       "      <td>2</td>\n",
       "      <td>3</td>\n",
       "      <td>0</td>\n",
       "      <td>3</td>\n",
       "      <td>0</td>\n",
       "      <td>0</td>\n",
       "      <td>0</td>\n",
       "      <td>...</td>\n",
       "      <td>0</td>\n",
       "      <td>0</td>\n",
       "      <td>0</td>\n",
       "      <td>0</td>\n",
       "      <td>0</td>\n",
       "      <td>0</td>\n",
       "      <td>0</td>\n",
       "      <td>0</td>\n",
       "      <td>39.042558</td>\n",
       "      <td>-89.322143</td>\n",
       "    </tr>\n",
       "  </tbody>\n",
       "</table>\n",
       "<p>52420 rows × 48 columns</p>\n",
       "</div>"
      ],
      "text/plain": [
       "       AppraisedValue  SqFtLot  WaterSystem  SewerSystem  Access  Topography  \\\n",
       "0            619000.0  6542712            1            1       4           0   \n",
       "1            708000.0   105850            2            1       3           0   \n",
       "2            297000.0     1667            2            2       4           0   \n",
       "3            523000.0     1872            2            2       4           0   \n",
       "4            288000.0     3480            2            2       4           0   \n",
       "...               ...      ...          ...          ...     ...         ...   \n",
       "52415        523000.0     6982            2            2       4           0   \n",
       "52416        425000.0     5481            2            2       4           0   \n",
       "52417        377000.0     6793            2            2       3           0   \n",
       "52418        581000.0     7200            2            2       4           0   \n",
       "52419        567000.0     7221            2            2       3           0   \n",
       "\n",
       "       StreetSurface  RestrictiveSzShape  InadequateParking  PcntUnusable  \\\n",
       "0                  1                   0                  0             0   \n",
       "1                  2                   0                  0             0   \n",
       "2                  1                   0                  2             0   \n",
       "3                  1                   0                  2             0   \n",
       "4                  1                   0                  0             0   \n",
       "...              ...                 ...                ...           ...   \n",
       "52415              1                   0                  0             0   \n",
       "52416              1                   0                  2             0   \n",
       "52417              1                   0                  0             0   \n",
       "52418              1                   0                  0             0   \n",
       "52419              3                   0                  0             0   \n",
       "\n",
       "       ...  NativeGrowthProtEsmt  Easements  OtherDesignation  \\\n",
       "0      ...                     0          0                 0   \n",
       "1      ...                     0          0                 0   \n",
       "2      ...                     0          0                 0   \n",
       "3      ...                     0          0                 0   \n",
       "4      ...                     0          0                 0   \n",
       "...    ...                   ...        ...               ...   \n",
       "52415  ...                     0          0                 0   \n",
       "52416  ...                     0          0                 0   \n",
       "52417  ...                     0          0                 0   \n",
       "52418  ...                     0          0                 0   \n",
       "52419  ...                     0          0                 0   \n",
       "\n",
       "       DeedRestrictions  DevelopmentRightsPurch  WaterProblems  \\\n",
       "0                     0                       1              0   \n",
       "1                     0                       0              0   \n",
       "2                     0                       0              0   \n",
       "3                     0                       0              0   \n",
       "4                     0                       0              0   \n",
       "...                 ...                     ...            ...   \n",
       "52415                 0                       0              0   \n",
       "52416                 0                       0              0   \n",
       "52417                 0                       0              0   \n",
       "52418                 0                       0              0   \n",
       "52419                 0                       0              0   \n",
       "\n",
       "       TranspConcurrency  OtherProblems        lat        long  \n",
       "0                      0              0  47.354019 -122.225166  \n",
       "1                      0              0  47.611248 -122.053154  \n",
       "2                      0              0  47.701248 -122.365784  \n",
       "3                      0              0  47.537918 -122.392845  \n",
       "4                      0              0  47.510227 -122.182167  \n",
       "...                  ...            ...        ...         ...  \n",
       "52415                  0              0  47.769810 -122.367447  \n",
       "52416                  0              0  47.510895 -122.366936  \n",
       "52417                  0              0  47.766289 -122.358192  \n",
       "52418                  0              0  47.769989 -122.364822  \n",
       "52419                  0              0  39.042558  -89.322143  \n",
       "\n",
       "[52420 rows x 48 columns]"
      ]
     },
     "execution_count": 36,
     "metadata": {},
     "output_type": "execute_result"
    }
   ],
   "source": [
    "houses"
   ]
  },
  {
   "cell_type": "markdown",
   "id": "beb43bb4",
   "metadata": {},
   "source": [
    "##### Zbadamy atrybut WaterSystem jako atrybut decyzyjny"
   ]
  },
  {
   "cell_type": "code",
   "execution_count": 37,
   "id": "81b6af7b",
   "metadata": {},
   "outputs": [
    {
     "data": {
      "text/plain": [
       "2    50448\n",
       "1     1947\n",
       "0       20\n",
       "3        3\n",
       "4        2\n",
       "Name: WaterSystem, dtype: int64"
      ]
     },
     "execution_count": 37,
     "metadata": {},
     "output_type": "execute_result"
    }
   ],
   "source": [
    "houses['WaterSystem'].value_counts()"
   ]
  },
  {
   "cell_type": "markdown",
   "id": "f51f2125",
   "metadata": {},
   "source": [
    "#### Podział na atrybuty wejściowe (X) i decyzyjny (y) oraz na system treningowy i testowy w stosunku 80%:20%"
   ]
  },
  {
   "cell_type": "code",
   "execution_count": 38,
   "id": "24dae018",
   "metadata": {},
   "outputs": [],
   "source": [
    "houses=houses.query('WaterSystem in [1,2]').reset_index()"
   ]
  },
  {
   "cell_type": "code",
   "execution_count": 39,
   "id": "ca9deb3f",
   "metadata": {},
   "outputs": [
    {
     "name": "stderr",
     "output_type": "stream",
     "text": [
      "/tmp/ipykernel_8846/3670161529.py:2: FutureWarning: In a future version of pandas all arguments of DataFrame.drop except for the argument 'labels' will be keyword-only.\n",
      "  houses.drop('WaterSystem',1, inplace=True)\n"
     ]
    }
   ],
   "source": [
    "values = houses['WaterSystem']\n",
    "houses.drop('WaterSystem',1, inplace=True)\n"
   ]
  },
  {
   "cell_type": "code",
   "execution_count": null,
   "id": "63f0441c",
   "metadata": {},
   "outputs": [],
   "source": [
    "houses"
   ]
  },
  {
   "cell_type": "code",
   "execution_count": null,
   "id": "712bba1d",
   "metadata": {},
   "outputs": [],
   "source": []
  },
  {
   "cell_type": "markdown",
   "id": "74388e62",
   "metadata": {},
   "source": [
    "Normalizacja"
   ]
  },
  {
   "cell_type": "code",
   "execution_count": null,
   "id": "ca8bb879",
   "metadata": {},
   "outputs": [],
   "source": [
    "houses = (houses - houses.mean())/(houses.max()-houses.min())"
   ]
  },
  {
   "cell_type": "code",
   "execution_count": null,
   "id": "b6770653",
   "metadata": {},
   "outputs": [],
   "source": [
    "houses = houses[['SqFtLot','lat','long','AppraisedValue']]"
   ]
  },
  {
   "cell_type": "code",
   "execution_count": null,
   "id": "97b5e50c",
   "metadata": {},
   "outputs": [],
   "source": [
    "values"
   ]
  },
  {
   "cell_type": "code",
   "execution_count": null,
   "id": "a7c551fe",
   "metadata": {},
   "outputs": [],
   "source": [
    "houses"
   ]
  },
  {
   "cell_type": "markdown",
   "id": "08813437",
   "metadata": {},
   "source": [
    "Podział na dane treningowe i testowe"
   ]
  },
  {
   "cell_type": "code",
   "execution_count": null,
   "id": "5b8911d0",
   "metadata": {},
   "outputs": [],
   "source": [
    "test_rows = random.sample(houses.index.tolist(), int(round(len(houses)*.2)))\n",
    "train_rows=set(range(len(houses))) - set(test_rows)"
   ]
  },
  {
   "cell_type": "code",
   "execution_count": null,
   "id": "a3ca84c6",
   "metadata": {},
   "outputs": [],
   "source": [
    "df_test = houses.loc[test_rows]\n",
    "df_train = houses.loc[train_rows]\n",
    "\n",
    "test_values = values.loc[test_rows]\n",
    "train_values = values.loc[train_rows]"
   ]
  },
  {
   "cell_type": "code",
   "execution_count": null,
   "id": "6104f673",
   "metadata": {},
   "outputs": [],
   "source": [
    "train_rows"
   ]
  },
  {
   "cell_type": "code",
   "execution_count": null,
   "id": "23432e60",
   "metadata": {},
   "outputs": [],
   "source": [
    "df_train"
   ]
  },
  {
   "cell_type": "markdown",
   "id": "b029141c",
   "metadata": {},
   "source": [
    "### KNN implementacja manualna"
   ]
  },
  {
   "cell_type": "code",
   "execution_count": null,
   "id": "77e3a5ba",
   "metadata": {},
   "outputs": [],
   "source": [
    "kdtree = KDTree(houses)"
   ]
  },
  {
   "cell_type": "markdown",
   "id": "f46c1888",
   "metadata": {},
   "source": [
    "Funkcja przydzielająca decyzję"
   ]
  },
  {
   "cell_type": "code",
   "execution_count": null,
   "id": "74b5a97b",
   "metadata": {},
   "outputs": [],
   "source": [
    "def classify(query_point, k):\n",
    "    _, idx =kdtree.query(query_point, k)\n",
    "    return np.argmax(np.bincount(values.iloc[idx]))"
   ]
  },
  {
   "cell_type": "code",
   "execution_count": null,
   "id": "8775553a",
   "metadata": {},
   "outputs": [],
   "source": [
    "train_predicted_values = []\n",
    "train_actual_values = []"
   ]
  },
  {
   "cell_type": "code",
   "execution_count": null,
   "id": "8843fb8f",
   "metadata": {},
   "outputs": [],
   "source": [
    "for _id, row in df_train.iterrows():\n",
    "  prediction = classify(row,7)\n",
    "  train_predicted_values.append(prediction)\n",
    "  train_actual_values.append(train_values[_id])"
   ]
  },
  {
   "cell_type": "markdown",
   "id": "58ea1721",
   "metadata": {},
   "source": [
    "### Wyznaczanie błędu klasyfikacji\n",
    "#### za pomocą entropii krzyżowej"
   ]
  },
  {
   "cell_type": "code",
   "execution_count": null,
   "id": "bbe50b08",
   "metadata": {},
   "outputs": [],
   "source": [
    "ce = log_loss(train_actual_values, train_predicted_values)"
   ]
  },
  {
   "cell_type": "code",
   "execution_count": null,
   "id": "d76d9705",
   "metadata": {},
   "outputs": [],
   "source": [
    "ce"
   ]
  },
  {
   "cell_type": "markdown",
   "id": "15b70464",
   "metadata": {},
   "source": [
    "### Wyznaczanie dokładności klasyfikacji"
   ]
  },
  {
   "cell_type": "code",
   "execution_count": 34,
   "id": "887b8957",
   "metadata": {},
   "outputs": [
    {
     "ename": "ValueError",
     "evalue": "Classification metrics can't handle a mix of multiclass and continuous targets",
     "output_type": "error",
     "traceback": [
      "\u001b[0;31m---------------------------------------------------------------------------\u001b[0m",
      "\u001b[0;31mValueError\u001b[0m                                Traceback (most recent call last)",
      "\u001b[0;32m/tmp/ipykernel_8846/1624796710.py\u001b[0m in \u001b[0;36m<module>\u001b[0;34m\u001b[0m\n\u001b[0;32m----> 1\u001b[0;31m \u001b[0macc\u001b[0m \u001b[0;34m=\u001b[0m \u001b[0mbalanced_accuracy_score\u001b[0m\u001b[0;34m(\u001b[0m\u001b[0mtrain_actual_values\u001b[0m\u001b[0;34m,\u001b[0m \u001b[0mtrain_predicted_values\u001b[0m\u001b[0;34m)\u001b[0m\u001b[0;34m\u001b[0m\u001b[0;34m\u001b[0m\u001b[0m\n\u001b[0m",
      "\u001b[0;32m~/anaconda3/lib/python3.9/site-packages/sklearn/metrics/_classification.py\u001b[0m in \u001b[0;36mbalanced_accuracy_score\u001b[0;34m(y_true, y_pred, sample_weight, adjusted)\u001b[0m\n\u001b[1;32m   1981\u001b[0m     \u001b[0;36m0.625\u001b[0m\u001b[0;34m\u001b[0m\u001b[0;34m\u001b[0m\u001b[0m\n\u001b[1;32m   1982\u001b[0m     \"\"\"\n\u001b[0;32m-> 1983\u001b[0;31m     \u001b[0mC\u001b[0m \u001b[0;34m=\u001b[0m \u001b[0mconfusion_matrix\u001b[0m\u001b[0;34m(\u001b[0m\u001b[0my_true\u001b[0m\u001b[0;34m,\u001b[0m \u001b[0my_pred\u001b[0m\u001b[0;34m,\u001b[0m \u001b[0msample_weight\u001b[0m\u001b[0;34m=\u001b[0m\u001b[0msample_weight\u001b[0m\u001b[0;34m)\u001b[0m\u001b[0;34m\u001b[0m\u001b[0;34m\u001b[0m\u001b[0m\n\u001b[0m\u001b[1;32m   1984\u001b[0m     \u001b[0;32mwith\u001b[0m \u001b[0mnp\u001b[0m\u001b[0;34m.\u001b[0m\u001b[0merrstate\u001b[0m\u001b[0;34m(\u001b[0m\u001b[0mdivide\u001b[0m\u001b[0;34m=\u001b[0m\u001b[0;34m\"ignore\"\u001b[0m\u001b[0;34m,\u001b[0m \u001b[0minvalid\u001b[0m\u001b[0;34m=\u001b[0m\u001b[0;34m\"ignore\"\u001b[0m\u001b[0;34m)\u001b[0m\u001b[0;34m:\u001b[0m\u001b[0;34m\u001b[0m\u001b[0;34m\u001b[0m\u001b[0m\n\u001b[1;32m   1985\u001b[0m         \u001b[0mper_class\u001b[0m \u001b[0;34m=\u001b[0m \u001b[0mnp\u001b[0m\u001b[0;34m.\u001b[0m\u001b[0mdiag\u001b[0m\u001b[0;34m(\u001b[0m\u001b[0mC\u001b[0m\u001b[0;34m)\u001b[0m \u001b[0;34m/\u001b[0m \u001b[0mC\u001b[0m\u001b[0;34m.\u001b[0m\u001b[0msum\u001b[0m\u001b[0;34m(\u001b[0m\u001b[0maxis\u001b[0m\u001b[0;34m=\u001b[0m\u001b[0;36m1\u001b[0m\u001b[0;34m)\u001b[0m\u001b[0;34m\u001b[0m\u001b[0;34m\u001b[0m\u001b[0m\n",
      "\u001b[0;32m~/anaconda3/lib/python3.9/site-packages/sklearn/metrics/_classification.py\u001b[0m in \u001b[0;36mconfusion_matrix\u001b[0;34m(y_true, y_pred, labels, sample_weight, normalize)\u001b[0m\n\u001b[1;32m    305\u001b[0m     \u001b[0;34m(\u001b[0m\u001b[0;36m0\u001b[0m\u001b[0;34m,\u001b[0m \u001b[0;36m2\u001b[0m\u001b[0;34m,\u001b[0m \u001b[0;36m1\u001b[0m\u001b[0;34m,\u001b[0m \u001b[0;36m1\u001b[0m\u001b[0;34m)\u001b[0m\u001b[0;34m\u001b[0m\u001b[0;34m\u001b[0m\u001b[0m\n\u001b[1;32m    306\u001b[0m     \"\"\"\n\u001b[0;32m--> 307\u001b[0;31m     \u001b[0my_type\u001b[0m\u001b[0;34m,\u001b[0m \u001b[0my_true\u001b[0m\u001b[0;34m,\u001b[0m \u001b[0my_pred\u001b[0m \u001b[0;34m=\u001b[0m \u001b[0m_check_targets\u001b[0m\u001b[0;34m(\u001b[0m\u001b[0my_true\u001b[0m\u001b[0;34m,\u001b[0m \u001b[0my_pred\u001b[0m\u001b[0;34m)\u001b[0m\u001b[0;34m\u001b[0m\u001b[0;34m\u001b[0m\u001b[0m\n\u001b[0m\u001b[1;32m    308\u001b[0m     \u001b[0;32mif\u001b[0m \u001b[0my_type\u001b[0m \u001b[0;32mnot\u001b[0m \u001b[0;32min\u001b[0m \u001b[0;34m(\u001b[0m\u001b[0;34m\"binary\"\u001b[0m\u001b[0;34m,\u001b[0m \u001b[0;34m\"multiclass\"\u001b[0m\u001b[0;34m)\u001b[0m\u001b[0;34m:\u001b[0m\u001b[0;34m\u001b[0m\u001b[0;34m\u001b[0m\u001b[0m\n\u001b[1;32m    309\u001b[0m         \u001b[0;32mraise\u001b[0m \u001b[0mValueError\u001b[0m\u001b[0;34m(\u001b[0m\u001b[0;34m\"%s is not supported\"\u001b[0m \u001b[0;34m%\u001b[0m \u001b[0my_type\u001b[0m\u001b[0;34m)\u001b[0m\u001b[0;34m\u001b[0m\u001b[0;34m\u001b[0m\u001b[0m\n",
      "\u001b[0;32m~/anaconda3/lib/python3.9/site-packages/sklearn/metrics/_classification.py\u001b[0m in \u001b[0;36m_check_targets\u001b[0;34m(y_true, y_pred)\u001b[0m\n\u001b[1;32m     91\u001b[0m \u001b[0;34m\u001b[0m\u001b[0m\n\u001b[1;32m     92\u001b[0m     \u001b[0;32mif\u001b[0m \u001b[0mlen\u001b[0m\u001b[0;34m(\u001b[0m\u001b[0my_type\u001b[0m\u001b[0;34m)\u001b[0m \u001b[0;34m>\u001b[0m \u001b[0;36m1\u001b[0m\u001b[0;34m:\u001b[0m\u001b[0;34m\u001b[0m\u001b[0;34m\u001b[0m\u001b[0m\n\u001b[0;32m---> 93\u001b[0;31m         raise ValueError(\n\u001b[0m\u001b[1;32m     94\u001b[0m             \"Classification metrics can't handle a mix of {0} and {1} targets\".format(\n\u001b[1;32m     95\u001b[0m                 \u001b[0mtype_true\u001b[0m\u001b[0;34m,\u001b[0m \u001b[0mtype_pred\u001b[0m\u001b[0;34m\u001b[0m\u001b[0;34m\u001b[0m\u001b[0m\n",
      "\u001b[0;31mValueError\u001b[0m: Classification metrics can't handle a mix of multiclass and continuous targets"
     ]
    }
   ],
   "source": [
    "acc = balanced_accuracy_score(train_actual_values, train_predicted_values)"
   ]
  },
  {
   "cell_type": "code",
   "execution_count": null,
   "id": "a7bd330a",
   "metadata": {},
   "outputs": [],
   "source": [
    "acc"
   ]
  },
  {
   "cell_type": "markdown",
   "id": "1c509011",
   "metadata": {},
   "source": [
    "### Ilość sąsiadów i decyzja"
   ]
  },
  {
   "cell_type": "code",
   "execution_count": null,
   "id": "60a62ea1",
   "metadata": {},
   "outputs": [],
   "source": [
    "number_neigbours = []\n",
    "absolute_error = []\n",
    "for i in range(2,5):\n",
    "    number_neigbours.append(i)\n",
    "    for _id, row in df_train.iterrows():\n",
    "        decision = classify(row, i)\n",
    "        train_predicted_values.append(decision)\n",
    "        train_actual_values.append(train_values[_id])\n",
    "    ce = log_loss(train_actual_values, train_predicted_values)\n",
    "    absolute_error.append(ce)\n"
   ]
  },
  {
   "cell_type": "code",
   "execution_count": null,
   "id": "77be506f",
   "metadata": {},
   "outputs": [],
   "source": [
    "absolute_error"
   ]
  },
  {
   "cell_type": "code",
   "execution_count": null,
   "id": "5d9da00a",
   "metadata": {},
   "outputs": [],
   "source": [
    "fig, ax = plt.subplots()\n",
    "ax.plot(number_neigbours, absolute_error)\n",
    "\n",
    "plt.show()"
   ]
  }
 ],
 "metadata": {
  "kernelspec": {
   "display_name": "Python 3 (ipykernel)",
   "language": "python",
   "name": "python3"
  },
  "language_info": {
   "codemirror_mode": {
    "name": "ipython",
    "version": 3
   },
   "file_extension": ".py",
   "mimetype": "text/x-python",
   "name": "python",
   "nbconvert_exporter": "python",
   "pygments_lexer": "ipython3",
   "version": "3.9.13"
  }
 },
 "nbformat": 4,
 "nbformat_minor": 5
}
