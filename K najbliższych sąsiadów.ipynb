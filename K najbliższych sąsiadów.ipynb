{
 "cells": [
  {
   "cell_type": "markdown",
   "id": "46dcdeac",
   "metadata": {},
   "source": [
    "# KMN K najbliższych sąsiadów"
   ]
  },
  {
   "cell_type": "code",
   "execution_count": 47,
   "id": "7107b759",
   "metadata": {},
   "outputs": [],
   "source": [
    "import random\n",
    "import pandas as pd\n",
    "import numpy as np\n",
    "from scipy.spatial import KDTree\n",
    "from sklearn.metrics import mean_absolute_error\n",
    "import random\n",
    "import matplotlib.pyplot as plt"
   ]
  },
  {
   "cell_type": "code",
   "execution_count": 2,
   "id": "2b913279",
   "metadata": {},
   "outputs": [
    {
     "name": "stdout",
     "output_type": "stream",
     "text": [
      "--2023-03-18 08:10:57--  https://raw.githubusercontent.com/betacord/ML/master/lab1/data/data.csv\n",
      "Translacja raw.githubusercontent.com (raw.githubusercontent.com)... 185.199.110.133, 185.199.108.133, 185.199.111.133, ...\n",
      "Łączenie się z raw.githubusercontent.com (raw.githubusercontent.com)|185.199.110.133|:443... połączono.\n",
      "Żądanie HTTP wysłano, oczekiwanie na odpowiedź... 200 OK\n",
      "Długość: 7381541 (7,0M) [text/plain]\n",
      "Zapis do: ‘data.csv’\n",
      "\n",
      "data.csv            100%[===================>]   7,04M  9,50MB/s    w 0,7s     \n",
      "\n",
      "2023-03-18 08:10:59 (9,50 MB/s) - zapisano ‘data.csv’ [7381541/7381541]\n",
      "\n"
     ]
    }
   ],
   "source": [
    "!wget https://raw.githubusercontent.com/betacord/ML/master/lab1/data/data.csv"
   ]
  },
  {
   "cell_type": "code",
   "execution_count": 4,
   "id": "27f7a75a",
   "metadata": {},
   "outputs": [
    {
     "data": {
      "text/html": [
       "<div>\n",
       "<style scoped>\n",
       "    .dataframe tbody tr th:only-of-type {\n",
       "        vertical-align: middle;\n",
       "    }\n",
       "\n",
       "    .dataframe tbody tr th {\n",
       "        vertical-align: top;\n",
       "    }\n",
       "\n",
       "    .dataframe thead th {\n",
       "        text-align: right;\n",
       "    }\n",
       "</style>\n",
       "<table border=\"1\" class=\"dataframe\">\n",
       "  <thead>\n",
       "    <tr style=\"text-align: right;\">\n",
       "      <th></th>\n",
       "      <th>AppraisedValue</th>\n",
       "      <th>SqFtLot</th>\n",
       "      <th>WaterSystem</th>\n",
       "      <th>SewerSystem</th>\n",
       "      <th>Access</th>\n",
       "      <th>Topography</th>\n",
       "      <th>StreetSurface</th>\n",
       "      <th>RestrictiveSzShape</th>\n",
       "      <th>InadequateParking</th>\n",
       "      <th>PcntUnusable</th>\n",
       "      <th>...</th>\n",
       "      <th>NativeGrowthProtEsmt</th>\n",
       "      <th>Easements</th>\n",
       "      <th>OtherDesignation</th>\n",
       "      <th>DeedRestrictions</th>\n",
       "      <th>DevelopmentRightsPurch</th>\n",
       "      <th>WaterProblems</th>\n",
       "      <th>TranspConcurrency</th>\n",
       "      <th>OtherProblems</th>\n",
       "      <th>lat</th>\n",
       "      <th>long</th>\n",
       "    </tr>\n",
       "  </thead>\n",
       "  <tbody>\n",
       "    <tr>\n",
       "      <th>0</th>\n",
       "      <td>619000.0</td>\n",
       "      <td>6542712</td>\n",
       "      <td>1</td>\n",
       "      <td>1</td>\n",
       "      <td>4</td>\n",
       "      <td>0</td>\n",
       "      <td>1</td>\n",
       "      <td>0</td>\n",
       "      <td>0</td>\n",
       "      <td>0</td>\n",
       "      <td>...</td>\n",
       "      <td>0</td>\n",
       "      <td>0</td>\n",
       "      <td>0</td>\n",
       "      <td>0</td>\n",
       "      <td>1</td>\n",
       "      <td>0</td>\n",
       "      <td>0</td>\n",
       "      <td>0</td>\n",
       "      <td>47.354019</td>\n",
       "      <td>-122.225166</td>\n",
       "    </tr>\n",
       "    <tr>\n",
       "      <th>1</th>\n",
       "      <td>708000.0</td>\n",
       "      <td>105850</td>\n",
       "      <td>2</td>\n",
       "      <td>1</td>\n",
       "      <td>3</td>\n",
       "      <td>0</td>\n",
       "      <td>2</td>\n",
       "      <td>0</td>\n",
       "      <td>0</td>\n",
       "      <td>0</td>\n",
       "      <td>...</td>\n",
       "      <td>0</td>\n",
       "      <td>0</td>\n",
       "      <td>0</td>\n",
       "      <td>0</td>\n",
       "      <td>0</td>\n",
       "      <td>0</td>\n",
       "      <td>0</td>\n",
       "      <td>0</td>\n",
       "      <td>47.611248</td>\n",
       "      <td>-122.053154</td>\n",
       "    </tr>\n",
       "    <tr>\n",
       "      <th>2</th>\n",
       "      <td>297000.0</td>\n",
       "      <td>1667</td>\n",
       "      <td>2</td>\n",
       "      <td>2</td>\n",
       "      <td>4</td>\n",
       "      <td>0</td>\n",
       "      <td>1</td>\n",
       "      <td>0</td>\n",
       "      <td>2</td>\n",
       "      <td>0</td>\n",
       "      <td>...</td>\n",
       "      <td>0</td>\n",
       "      <td>0</td>\n",
       "      <td>0</td>\n",
       "      <td>0</td>\n",
       "      <td>0</td>\n",
       "      <td>0</td>\n",
       "      <td>0</td>\n",
       "      <td>0</td>\n",
       "      <td>47.701248</td>\n",
       "      <td>-122.365784</td>\n",
       "    </tr>\n",
       "  </tbody>\n",
       "</table>\n",
       "<p>3 rows × 48 columns</p>\n",
       "</div>"
      ],
      "text/plain": [
       "   AppraisedValue  SqFtLot  WaterSystem  SewerSystem  Access  Topography  \\\n",
       "0        619000.0  6542712            1            1       4           0   \n",
       "1        708000.0   105850            2            1       3           0   \n",
       "2        297000.0     1667            2            2       4           0   \n",
       "\n",
       "   StreetSurface  RestrictiveSzShape  InadequateParking  PcntUnusable  ...  \\\n",
       "0              1                   0                  0             0  ...   \n",
       "1              2                   0                  0             0  ...   \n",
       "2              1                   0                  2             0  ...   \n",
       "\n",
       "   NativeGrowthProtEsmt  Easements  OtherDesignation  DeedRestrictions  \\\n",
       "0                     0          0                 0                 0   \n",
       "1                     0          0                 0                 0   \n",
       "2                     0          0                 0                 0   \n",
       "\n",
       "   DevelopmentRightsPurch  WaterProblems  TranspConcurrency  OtherProblems  \\\n",
       "0                       1              0                  0              0   \n",
       "1                       0              0                  0              0   \n",
       "2                       0              0                  0              0   \n",
       "\n",
       "         lat        long  \n",
       "0  47.354019 -122.225166  \n",
       "1  47.611248 -122.053154  \n",
       "2  47.701248 -122.365784  \n",
       "\n",
       "[3 rows x 48 columns]"
      ]
     },
     "execution_count": 4,
     "metadata": {},
     "output_type": "execute_result"
    }
   ],
   "source": [
    "houses = pd.read_csv('data.csv')\n",
    "houses.head(3)"
   ]
  },
  {
   "cell_type": "code",
   "execution_count": 5,
   "id": "f9caa4ca",
   "metadata": {},
   "outputs": [
    {
     "data": {
      "text/html": [
       "<div>\n",
       "<style scoped>\n",
       "    .dataframe tbody tr th:only-of-type {\n",
       "        vertical-align: middle;\n",
       "    }\n",
       "\n",
       "    .dataframe tbody tr th {\n",
       "        vertical-align: top;\n",
       "    }\n",
       "\n",
       "    .dataframe thead th {\n",
       "        text-align: right;\n",
       "    }\n",
       "</style>\n",
       "<table border=\"1\" class=\"dataframe\">\n",
       "  <thead>\n",
       "    <tr style=\"text-align: right;\">\n",
       "      <th></th>\n",
       "      <th>AppraisedValue</th>\n",
       "      <th>SqFtLot</th>\n",
       "      <th>WaterSystem</th>\n",
       "      <th>SewerSystem</th>\n",
       "      <th>Access</th>\n",
       "      <th>Topography</th>\n",
       "      <th>StreetSurface</th>\n",
       "      <th>RestrictiveSzShape</th>\n",
       "      <th>InadequateParking</th>\n",
       "      <th>PcntUnusable</th>\n",
       "      <th>...</th>\n",
       "      <th>NativeGrowthProtEsmt</th>\n",
       "      <th>Easements</th>\n",
       "      <th>OtherDesignation</th>\n",
       "      <th>DeedRestrictions</th>\n",
       "      <th>DevelopmentRightsPurch</th>\n",
       "      <th>WaterProblems</th>\n",
       "      <th>TranspConcurrency</th>\n",
       "      <th>OtherProblems</th>\n",
       "      <th>lat</th>\n",
       "      <th>long</th>\n",
       "    </tr>\n",
       "  </thead>\n",
       "  <tbody>\n",
       "    <tr>\n",
       "      <th>0</th>\n",
       "      <td>619000.0</td>\n",
       "      <td>6542712</td>\n",
       "      <td>1</td>\n",
       "      <td>1</td>\n",
       "      <td>4</td>\n",
       "      <td>0</td>\n",
       "      <td>1</td>\n",
       "      <td>0</td>\n",
       "      <td>0</td>\n",
       "      <td>0</td>\n",
       "      <td>...</td>\n",
       "      <td>0</td>\n",
       "      <td>0</td>\n",
       "      <td>0</td>\n",
       "      <td>0</td>\n",
       "      <td>1</td>\n",
       "      <td>0</td>\n",
       "      <td>0</td>\n",
       "      <td>0</td>\n",
       "      <td>47.354019</td>\n",
       "      <td>-122.225166</td>\n",
       "    </tr>\n",
       "    <tr>\n",
       "      <th>1</th>\n",
       "      <td>708000.0</td>\n",
       "      <td>105850</td>\n",
       "      <td>2</td>\n",
       "      <td>1</td>\n",
       "      <td>3</td>\n",
       "      <td>0</td>\n",
       "      <td>2</td>\n",
       "      <td>0</td>\n",
       "      <td>0</td>\n",
       "      <td>0</td>\n",
       "      <td>...</td>\n",
       "      <td>0</td>\n",
       "      <td>0</td>\n",
       "      <td>0</td>\n",
       "      <td>0</td>\n",
       "      <td>0</td>\n",
       "      <td>0</td>\n",
       "      <td>0</td>\n",
       "      <td>0</td>\n",
       "      <td>47.611248</td>\n",
       "      <td>-122.053154</td>\n",
       "    </tr>\n",
       "    <tr>\n",
       "      <th>2</th>\n",
       "      <td>297000.0</td>\n",
       "      <td>1667</td>\n",
       "      <td>2</td>\n",
       "      <td>2</td>\n",
       "      <td>4</td>\n",
       "      <td>0</td>\n",
       "      <td>1</td>\n",
       "      <td>0</td>\n",
       "      <td>2</td>\n",
       "      <td>0</td>\n",
       "      <td>...</td>\n",
       "      <td>0</td>\n",
       "      <td>0</td>\n",
       "      <td>0</td>\n",
       "      <td>0</td>\n",
       "      <td>0</td>\n",
       "      <td>0</td>\n",
       "      <td>0</td>\n",
       "      <td>0</td>\n",
       "      <td>47.701248</td>\n",
       "      <td>-122.365784</td>\n",
       "    </tr>\n",
       "    <tr>\n",
       "      <th>3</th>\n",
       "      <td>523000.0</td>\n",
       "      <td>1872</td>\n",
       "      <td>2</td>\n",
       "      <td>2</td>\n",
       "      <td>4</td>\n",
       "      <td>0</td>\n",
       "      <td>1</td>\n",
       "      <td>0</td>\n",
       "      <td>2</td>\n",
       "      <td>0</td>\n",
       "      <td>...</td>\n",
       "      <td>0</td>\n",
       "      <td>0</td>\n",
       "      <td>0</td>\n",
       "      <td>0</td>\n",
       "      <td>0</td>\n",
       "      <td>0</td>\n",
       "      <td>0</td>\n",
       "      <td>0</td>\n",
       "      <td>47.537918</td>\n",
       "      <td>-122.392845</td>\n",
       "    </tr>\n",
       "    <tr>\n",
       "      <th>4</th>\n",
       "      <td>288000.0</td>\n",
       "      <td>3480</td>\n",
       "      <td>2</td>\n",
       "      <td>2</td>\n",
       "      <td>4</td>\n",
       "      <td>0</td>\n",
       "      <td>1</td>\n",
       "      <td>0</td>\n",
       "      <td>0</td>\n",
       "      <td>0</td>\n",
       "      <td>...</td>\n",
       "      <td>0</td>\n",
       "      <td>0</td>\n",
       "      <td>0</td>\n",
       "      <td>0</td>\n",
       "      <td>0</td>\n",
       "      <td>0</td>\n",
       "      <td>0</td>\n",
       "      <td>0</td>\n",
       "      <td>47.510227</td>\n",
       "      <td>-122.182167</td>\n",
       "    </tr>\n",
       "    <tr>\n",
       "      <th>...</th>\n",
       "      <td>...</td>\n",
       "      <td>...</td>\n",
       "      <td>...</td>\n",
       "      <td>...</td>\n",
       "      <td>...</td>\n",
       "      <td>...</td>\n",
       "      <td>...</td>\n",
       "      <td>...</td>\n",
       "      <td>...</td>\n",
       "      <td>...</td>\n",
       "      <td>...</td>\n",
       "      <td>...</td>\n",
       "      <td>...</td>\n",
       "      <td>...</td>\n",
       "      <td>...</td>\n",
       "      <td>...</td>\n",
       "      <td>...</td>\n",
       "      <td>...</td>\n",
       "      <td>...</td>\n",
       "      <td>...</td>\n",
       "      <td>...</td>\n",
       "    </tr>\n",
       "    <tr>\n",
       "      <th>52415</th>\n",
       "      <td>523000.0</td>\n",
       "      <td>6982</td>\n",
       "      <td>2</td>\n",
       "      <td>2</td>\n",
       "      <td>4</td>\n",
       "      <td>0</td>\n",
       "      <td>1</td>\n",
       "      <td>0</td>\n",
       "      <td>0</td>\n",
       "      <td>0</td>\n",
       "      <td>...</td>\n",
       "      <td>0</td>\n",
       "      <td>0</td>\n",
       "      <td>0</td>\n",
       "      <td>0</td>\n",
       "      <td>0</td>\n",
       "      <td>0</td>\n",
       "      <td>0</td>\n",
       "      <td>0</td>\n",
       "      <td>47.769810</td>\n",
       "      <td>-122.367447</td>\n",
       "    </tr>\n",
       "    <tr>\n",
       "      <th>52416</th>\n",
       "      <td>425000.0</td>\n",
       "      <td>5481</td>\n",
       "      <td>2</td>\n",
       "      <td>2</td>\n",
       "      <td>4</td>\n",
       "      <td>0</td>\n",
       "      <td>1</td>\n",
       "      <td>0</td>\n",
       "      <td>2</td>\n",
       "      <td>0</td>\n",
       "      <td>...</td>\n",
       "      <td>0</td>\n",
       "      <td>0</td>\n",
       "      <td>0</td>\n",
       "      <td>0</td>\n",
       "      <td>0</td>\n",
       "      <td>0</td>\n",
       "      <td>0</td>\n",
       "      <td>0</td>\n",
       "      <td>47.510895</td>\n",
       "      <td>-122.366936</td>\n",
       "    </tr>\n",
       "    <tr>\n",
       "      <th>52417</th>\n",
       "      <td>377000.0</td>\n",
       "      <td>6793</td>\n",
       "      <td>2</td>\n",
       "      <td>2</td>\n",
       "      <td>3</td>\n",
       "      <td>0</td>\n",
       "      <td>1</td>\n",
       "      <td>0</td>\n",
       "      <td>0</td>\n",
       "      <td>0</td>\n",
       "      <td>...</td>\n",
       "      <td>0</td>\n",
       "      <td>0</td>\n",
       "      <td>0</td>\n",
       "      <td>0</td>\n",
       "      <td>0</td>\n",
       "      <td>0</td>\n",
       "      <td>0</td>\n",
       "      <td>0</td>\n",
       "      <td>47.766289</td>\n",
       "      <td>-122.358192</td>\n",
       "    </tr>\n",
       "    <tr>\n",
       "      <th>52418</th>\n",
       "      <td>581000.0</td>\n",
       "      <td>7200</td>\n",
       "      <td>2</td>\n",
       "      <td>2</td>\n",
       "      <td>4</td>\n",
       "      <td>0</td>\n",
       "      <td>1</td>\n",
       "      <td>0</td>\n",
       "      <td>0</td>\n",
       "      <td>0</td>\n",
       "      <td>...</td>\n",
       "      <td>0</td>\n",
       "      <td>0</td>\n",
       "      <td>0</td>\n",
       "      <td>0</td>\n",
       "      <td>0</td>\n",
       "      <td>0</td>\n",
       "      <td>0</td>\n",
       "      <td>0</td>\n",
       "      <td>47.769989</td>\n",
       "      <td>-122.364822</td>\n",
       "    </tr>\n",
       "    <tr>\n",
       "      <th>52419</th>\n",
       "      <td>567000.0</td>\n",
       "      <td>7221</td>\n",
       "      <td>2</td>\n",
       "      <td>2</td>\n",
       "      <td>3</td>\n",
       "      <td>0</td>\n",
       "      <td>3</td>\n",
       "      <td>0</td>\n",
       "      <td>0</td>\n",
       "      <td>0</td>\n",
       "      <td>...</td>\n",
       "      <td>0</td>\n",
       "      <td>0</td>\n",
       "      <td>0</td>\n",
       "      <td>0</td>\n",
       "      <td>0</td>\n",
       "      <td>0</td>\n",
       "      <td>0</td>\n",
       "      <td>0</td>\n",
       "      <td>39.042558</td>\n",
       "      <td>-89.322143</td>\n",
       "    </tr>\n",
       "  </tbody>\n",
       "</table>\n",
       "<p>52420 rows × 48 columns</p>\n",
       "</div>"
      ],
      "text/plain": [
       "       AppraisedValue  SqFtLot  WaterSystem  SewerSystem  Access  Topography  \\\n",
       "0            619000.0  6542712            1            1       4           0   \n",
       "1            708000.0   105850            2            1       3           0   \n",
       "2            297000.0     1667            2            2       4           0   \n",
       "3            523000.0     1872            2            2       4           0   \n",
       "4            288000.0     3480            2            2       4           0   \n",
       "...               ...      ...          ...          ...     ...         ...   \n",
       "52415        523000.0     6982            2            2       4           0   \n",
       "52416        425000.0     5481            2            2       4           0   \n",
       "52417        377000.0     6793            2            2       3           0   \n",
       "52418        581000.0     7200            2            2       4           0   \n",
       "52419        567000.0     7221            2            2       3           0   \n",
       "\n",
       "       StreetSurface  RestrictiveSzShape  InadequateParking  PcntUnusable  \\\n",
       "0                  1                   0                  0             0   \n",
       "1                  2                   0                  0             0   \n",
       "2                  1                   0                  2             0   \n",
       "3                  1                   0                  2             0   \n",
       "4                  1                   0                  0             0   \n",
       "...              ...                 ...                ...           ...   \n",
       "52415              1                   0                  0             0   \n",
       "52416              1                   0                  2             0   \n",
       "52417              1                   0                  0             0   \n",
       "52418              1                   0                  0             0   \n",
       "52419              3                   0                  0             0   \n",
       "\n",
       "       ...  NativeGrowthProtEsmt  Easements  OtherDesignation  \\\n",
       "0      ...                     0          0                 0   \n",
       "1      ...                     0          0                 0   \n",
       "2      ...                     0          0                 0   \n",
       "3      ...                     0          0                 0   \n",
       "4      ...                     0          0                 0   \n",
       "...    ...                   ...        ...               ...   \n",
       "52415  ...                     0          0                 0   \n",
       "52416  ...                     0          0                 0   \n",
       "52417  ...                     0          0                 0   \n",
       "52418  ...                     0          0                 0   \n",
       "52419  ...                     0          0                 0   \n",
       "\n",
       "       DeedRestrictions  DevelopmentRightsPurch  WaterProblems  \\\n",
       "0                     0                       1              0   \n",
       "1                     0                       0              0   \n",
       "2                     0                       0              0   \n",
       "3                     0                       0              0   \n",
       "4                     0                       0              0   \n",
       "...                 ...                     ...            ...   \n",
       "52415                 0                       0              0   \n",
       "52416                 0                       0              0   \n",
       "52417                 0                       0              0   \n",
       "52418                 0                       0              0   \n",
       "52419                 0                       0              0   \n",
       "\n",
       "       TranspConcurrency  OtherProblems        lat        long  \n",
       "0                      0              0  47.354019 -122.225166  \n",
       "1                      0              0  47.611248 -122.053154  \n",
       "2                      0              0  47.701248 -122.365784  \n",
       "3                      0              0  47.537918 -122.392845  \n",
       "4                      0              0  47.510227 -122.182167  \n",
       "...                  ...            ...        ...         ...  \n",
       "52415                  0              0  47.769810 -122.367447  \n",
       "52416                  0              0  47.510895 -122.366936  \n",
       "52417                  0              0  47.766289 -122.358192  \n",
       "52418                  0              0  47.769989 -122.364822  \n",
       "52419                  0              0  39.042558  -89.322143  \n",
       "\n",
       "[52420 rows x 48 columns]"
      ]
     },
     "execution_count": 5,
     "metadata": {},
     "output_type": "execute_result"
    }
   ],
   "source": [
    "houses"
   ]
  },
  {
   "cell_type": "code",
   "execution_count": 6,
   "id": "66e891c2",
   "metadata": {},
   "outputs": [
    {
     "data": {
      "text/plain": [
       "Index(['AppraisedValue', 'SqFtLot', 'WaterSystem', 'SewerSystem', 'Access',\n",
       "       'Topography', 'StreetSurface', 'RestrictiveSzShape',\n",
       "       'InadequateParking', 'PcntUnusable', 'MtRainier', 'Olympics',\n",
       "       'Cascades', 'Territorial', 'SeattleSkyline', 'PugetSound',\n",
       "       'LakeWashington', 'LakeSammamish', 'SmallLakeRiverCreek', 'OtherView',\n",
       "       'WfntLocation', 'WfntFootage', 'WfntBank', 'WfntPoorQuality',\n",
       "       'WfntRestrictedAccess', 'WfntAccessRights', 'WfntProximityInfluence',\n",
       "       'TidelandShoreland', 'LotDepthFactor', 'TrafficNoise', 'PowerLines',\n",
       "       'OtherNuisances', 'NbrBldgSites', 'Contamination',\n",
       "       'AdjacentGolfFairway', 'AdjacentGreenbelt', 'HistoricSite',\n",
       "       'CurrentUseDesignation', 'NativeGrowthProtEsmt', 'Easements',\n",
       "       'OtherDesignation', 'DeedRestrictions', 'DevelopmentRightsPurch',\n",
       "       'WaterProblems', 'TranspConcurrency', 'OtherProblems', 'lat', 'long'],\n",
       "      dtype='object')"
      ]
     },
     "execution_count": 6,
     "metadata": {},
     "output_type": "execute_result"
    }
   ],
   "source": [
    "houses.columns"
   ]
  },
  {
   "cell_type": "code",
   "execution_count": 8,
   "id": "8dd04c91",
   "metadata": {},
   "outputs": [
    {
     "data": {
      "text/plain": [
       "array(['AppraisedValue', 'SqFtLot', 'WaterSystem', 'SewerSystem',\n",
       "       'Access', 'Topography', 'StreetSurface', 'RestrictiveSzShape',\n",
       "       'InadequateParking', 'PcntUnusable', 'MtRainier', 'Olympics',\n",
       "       'Cascades', 'Territorial', 'SeattleSkyline', 'PugetSound',\n",
       "       'LakeWashington', 'LakeSammamish', 'SmallLakeRiverCreek',\n",
       "       'OtherView', 'WfntLocation', 'WfntFootage', 'WfntBank',\n",
       "       'WfntPoorQuality', 'WfntRestrictedAccess', 'WfntAccessRights',\n",
       "       'WfntProximityInfluence', 'TidelandShoreland', 'LotDepthFactor',\n",
       "       'TrafficNoise', 'PowerLines', 'OtherNuisances', 'NbrBldgSites',\n",
       "       'Contamination', 'AdjacentGolfFairway', 'AdjacentGreenbelt',\n",
       "       'HistoricSite', 'CurrentUseDesignation', 'NativeGrowthProtEsmt',\n",
       "       'Easements', 'OtherDesignation', 'DeedRestrictions',\n",
       "       'DevelopmentRightsPurch', 'WaterProblems', 'TranspConcurrency',\n",
       "       'OtherProblems', 'lat', 'long'], dtype=object)"
      ]
     },
     "execution_count": 8,
     "metadata": {},
     "output_type": "execute_result"
    }
   ],
   "source": [
    "houses.columns.values"
   ]
  },
  {
   "cell_type": "markdown",
   "id": "233ff50a",
   "metadata": {},
   "source": [
    "### Wybór atrybutów\n",
    "Wyscie : AppraisedValue\n",
    "Wesscie\n",
    "SqFtLot\n",
    "lat\n",
    "long\n"
   ]
  },
  {
   "cell_type": "code",
   "execution_count": 9,
   "id": "eba4ec27",
   "metadata": {},
   "outputs": [],
   "source": [
    "values = houses['AppraisedValue']"
   ]
  },
  {
   "cell_type": "code",
   "execution_count": 11,
   "id": "9a71c401",
   "metadata": {},
   "outputs": [
    {
     "name": "stderr",
     "output_type": "stream",
     "text": [
      "/tmp/ipykernel_9018/1526003396.py:1: FutureWarning: In a future version of pandas all arguments of DataFrame.drop except for the argument 'labels' will be keyword-only\n",
      "  houses.drop('AppraisedValue',1, inplace=True)\n"
     ]
    }
   ],
   "source": [
    "houses.drop('AppraisedValue',1, inplace=True)"
   ]
  },
  {
   "cell_type": "markdown",
   "id": "8a231a71",
   "metadata": {},
   "source": [
    " Normalizacja"
   ]
  },
  {
   "cell_type": "code",
   "execution_count": 13,
   "id": "127d86cd",
   "metadata": {},
   "outputs": [],
   "source": [
    "houses = (houses - houses.mean())/(houses.max()-houses.min())"
   ]
  },
  {
   "cell_type": "code",
   "execution_count": 15,
   "id": "5fbb99ae",
   "metadata": {},
   "outputs": [],
   "source": [
    "houses = houses[['SqFtLot','lat','long']]"
   ]
  },
  {
   "cell_type": "code",
   "execution_count": 16,
   "id": "2f8e4cd2",
   "metadata": {},
   "outputs": [
    {
     "data": {
      "text/html": [
       "<div>\n",
       "<style scoped>\n",
       "    .dataframe tbody tr th:only-of-type {\n",
       "        vertical-align: middle;\n",
       "    }\n",
       "\n",
       "    .dataframe tbody tr th {\n",
       "        vertical-align: top;\n",
       "    }\n",
       "\n",
       "    .dataframe thead th {\n",
       "        text-align: right;\n",
       "    }\n",
       "</style>\n",
       "<table border=\"1\" class=\"dataframe\">\n",
       "  <thead>\n",
       "    <tr style=\"text-align: right;\">\n",
       "      <th></th>\n",
       "      <th>SqFtLot</th>\n",
       "      <th>lat</th>\n",
       "      <th>long</th>\n",
       "    </tr>\n",
       "  </thead>\n",
       "  <tbody>\n",
       "    <tr>\n",
       "      <th>0</th>\n",
       "      <td>0.926695</td>\n",
       "      <td>-0.002260</td>\n",
       "      <td>-0.002427</td>\n",
       "    </tr>\n",
       "    <tr>\n",
       "      <th>1</th>\n",
       "      <td>0.012250</td>\n",
       "      <td>0.004289</td>\n",
       "      <td>-0.001374</td>\n",
       "    </tr>\n",
       "    <tr>\n",
       "      <th>2</th>\n",
       "      <td>-0.002550</td>\n",
       "      <td>0.006580</td>\n",
       "      <td>-0.003288</td>\n",
       "    </tr>\n",
       "    <tr>\n",
       "      <th>3</th>\n",
       "      <td>-0.002521</td>\n",
       "      <td>0.002422</td>\n",
       "      <td>-0.003454</td>\n",
       "    </tr>\n",
       "    <tr>\n",
       "      <th>4</th>\n",
       "      <td>-0.002293</td>\n",
       "      <td>0.001717</td>\n",
       "      <td>-0.002164</td>\n",
       "    </tr>\n",
       "    <tr>\n",
       "      <th>...</th>\n",
       "      <td>...</td>\n",
       "      <td>...</td>\n",
       "      <td>...</td>\n",
       "    </tr>\n",
       "    <tr>\n",
       "      <th>52415</th>\n",
       "      <td>-0.001795</td>\n",
       "      <td>0.008325</td>\n",
       "      <td>-0.003298</td>\n",
       "    </tr>\n",
       "    <tr>\n",
       "      <th>52416</th>\n",
       "      <td>-0.002008</td>\n",
       "      <td>0.001734</td>\n",
       "      <td>-0.003295</td>\n",
       "    </tr>\n",
       "    <tr>\n",
       "      <th>52417</th>\n",
       "      <td>-0.001822</td>\n",
       "      <td>0.008236</td>\n",
       "      <td>-0.003241</td>\n",
       "    </tr>\n",
       "    <tr>\n",
       "      <th>52418</th>\n",
       "      <td>-0.001764</td>\n",
       "      <td>0.008330</td>\n",
       "      <td>-0.003282</td>\n",
       "    </tr>\n",
       "    <tr>\n",
       "      <th>52419</th>\n",
       "      <td>-0.001761</td>\n",
       "      <td>-0.213866</td>\n",
       "      <td>0.199032</td>\n",
       "    </tr>\n",
       "  </tbody>\n",
       "</table>\n",
       "<p>52420 rows × 3 columns</p>\n",
       "</div>"
      ],
      "text/plain": [
       "        SqFtLot       lat      long\n",
       "0      0.926695 -0.002260 -0.002427\n",
       "1      0.012250  0.004289 -0.001374\n",
       "2     -0.002550  0.006580 -0.003288\n",
       "3     -0.002521  0.002422 -0.003454\n",
       "4     -0.002293  0.001717 -0.002164\n",
       "...         ...       ...       ...\n",
       "52415 -0.001795  0.008325 -0.003298\n",
       "52416 -0.002008  0.001734 -0.003295\n",
       "52417 -0.001822  0.008236 -0.003241\n",
       "52418 -0.001764  0.008330 -0.003282\n",
       "52419 -0.001761 -0.213866  0.199032\n",
       "\n",
       "[52420 rows x 3 columns]"
      ]
     },
     "execution_count": 16,
     "metadata": {},
     "output_type": "execute_result"
    }
   ],
   "source": [
    "houses"
   ]
  },
  {
   "cell_type": "markdown",
   "id": "5fb5df2d",
   "metadata": {},
   "source": [
    "### Podział danych\n",
    "trening 80% test 20%"
   ]
  },
  {
   "cell_type": "code",
   "execution_count": 23,
   "id": "4ce8974b",
   "metadata": {},
   "outputs": [],
   "source": [
    "test_rows = random.sample(houses.index.tolist(), int(round(len(houses)*.2)))\n",
    "train_rows=set(range(len(houses))) - set(test_rows)"
   ]
  },
  {
   "cell_type": "code",
   "execution_count": 30,
   "id": "c1754eb5",
   "metadata": {},
   "outputs": [],
   "source": [
    "df_test = houses.loc[test_rows]\n",
    "df_train = houses.loc[train_rows]\n",
    "\n",
    "test_values = values.loc[test_rows]\n",
    "train_values = values.loc[train_rows]"
   ]
  },
  {
   "cell_type": "markdown",
   "id": "2cbd0ec8",
   "metadata": {},
   "source": [
    "### KNN implementacja manualna"
   ]
  },
  {
   "cell_type": "code",
   "execution_count": 18,
   "id": "057248eb",
   "metadata": {},
   "outputs": [],
   "source": [
    "kdtree = KDTree(houses)"
   ]
  },
  {
   "cell_type": "markdown",
   "id": "1f0205fe",
   "metadata": {},
   "source": [
    "Funkcja przydzielająca predykcję"
   ]
  },
  {
   "cell_type": "code",
   "execution_count": 19,
   "id": "d486a670",
   "metadata": {},
   "outputs": [],
   "source": [
    "def predict(query_point, k):\n",
    "    ''' k liczba sąsiadów'''\n",
    "    _, idx = kdtree.query(query_point, k)\n",
    "    return np.mean(values.iloc[idx])"
   ]
  },
  {
   "cell_type": "code",
   "execution_count": 34,
   "id": "1339c511",
   "metadata": {},
   "outputs": [],
   "source": [
    "train_predicted_values = []\n",
    "train_actual_values = []"
   ]
  },
  {
   "cell_type": "code",
   "execution_count": 35,
   "id": "2f37c099",
   "metadata": {},
   "outputs": [],
   "source": [
    "for _id, row in df_train.iterrows():\n",
    "  prediction = predict(row, 5)\n",
    "  train_predicted_values.append(prediction)\n",
    "  train_actual_values.append(train_values[_id])"
   ]
  },
  {
   "cell_type": "markdown",
   "id": "f5261958",
   "metadata": {},
   "source": [
    "### Wyznaczanie błędu regresji"
   ]
  },
  {
   "cell_type": "markdown",
   "id": "0b145b13",
   "metadata": {},
   "source": [
    "Za pomocą MAE"
   ]
  },
  {
   "cell_type": "code",
   "execution_count": 36,
   "id": "87bfd130",
   "metadata": {},
   "outputs": [],
   "source": [
    "mae = mean_absolute_error(train_actual_values, train_predicted_values)"
   ]
  },
  {
   "cell_type": "code",
   "execution_count": 37,
   "id": "f8024842",
   "metadata": {},
   "outputs": [
    {
     "data": {
      "text/plain": [
       "'Sredni blad bezwzgledny dla danych testowych wynosi: 59441.91897653568'"
      ]
     },
     "execution_count": 37,
     "metadata": {},
     "output_type": "execute_result"
    }
   ],
   "source": [
    "f'Sredni blad bezwzgledny dla danych testowych wynosi: {mae}'"
   ]
  },
  {
   "cell_type": "markdown",
   "id": "337a9142",
   "metadata": {},
   "source": [
    "### Zad1. \n",
    "    Wykorzystać powyższy przykład w celu znalezienia takiej wartości K, dla której wartość średniego błędu bezwzględnego na systemie treningowym\n",
    "\n",
    "będzie najmniejsza. W tym celu należy stworzyć wykres liniowy, na którym oś x będzie przedstawiała wartość K, a oś y będzie przedstawiała wartość funkcji błędu. Następnie dla \"najlepszej\" wartości K sprawdzić wartość funkcji błędu na systemie testowym."
   ]
  },
  {
   "cell_type": "markdown",
   "id": "3bbc40c1",
   "metadata": {},
   "source": [
    "### Ilosc sąsiadow"
   ]
  },
  {
   "cell_type": "code",
   "execution_count": 41,
   "id": "c3ffb739",
   "metadata": {},
   "outputs": [
    {
     "name": "stdout",
     "output_type": "stream",
     "text": [
      "[3, 4, 5, 6, 7, 8, 9, 10, 11, 12, 13, 14, 15, 16, 17, 18, 19] [64649.291240942905, 64250.57967125316, 64021.595828647565, 63910.43313466131, 63878.96820680524, 63905.108493272935, 63975.494537619335, 64076.20424331593, 64200.69390130813, 64341.13505956522, 64492.90743260195, 64651.223946183294, 64816.5376624705, 64986.77893206259, 65161.262864372715, 65338.2010864641, 65516.12474340509]\n"
     ]
    }
   ],
   "source": [
    "number_neigbours = []\n",
    "absolute_error = []\n",
    "for i in range(3,20):\n",
    "    number_neigbours.append(i)\n",
    "    for _id, row in df_train.iterrows():\n",
    "        prediction = predict(row, i)\n",
    "        train_predicted_values.append(prediction)\n",
    "        train_actual_values.append(train_values[_id])\n",
    "    mae = mean_absolute_error(train_actual_values, train_predicted_values)\n",
    "    absolute_error.append(mae)\n",
    "\n",
    "    "
   ]
  },
  {
   "cell_type": "code",
   "execution_count": 43,
   "id": "e1a425f0",
   "metadata": {},
   "outputs": [
    {
     "name": "stdout",
     "output_type": "stream",
     "text": [
      "17 [64649.291240942905, 64250.57967125316, 64021.595828647565, 63910.43313466131, 63878.96820680524, 63905.108493272935, 63975.494537619335, 64076.20424331593, 64200.69390130813, 64341.13505956522, 64492.90743260195, 64651.223946183294, 64816.5376624705, 64986.77893206259, 65161.262864372715, 65338.2010864641, 65516.12474340509]\n"
     ]
    }
   ],
   "source": [
    "print(len(number_neigbours),  absolute_error)"
   ]
  },
  {
   "cell_type": "code",
   "execution_count": 49,
   "id": "685b08ec",
   "metadata": {},
   "outputs": [
    {
     "data": {
      "image/png": "[encoded data removed]",
      "text/plain": [
       "<Figure size 432x288 with 1 Axes>"
      ]
     },
     "metadata": {
      "needs_background": "light"
     },
     "output_type": "display_data"
    }
   ],
   "source": [
    "fig, ax = plt.subplots()\n",
    "ax.plot(number_neigbours, absolute_error)\n",
    "\n",
    "plt.show()"
   ]
  },
  {
   "cell_type": "markdown",
   "id": "5e06128f",
   "metadata": {},
   "source": [
    "najmniejszy  blad"
   ]
  },
  {
   "cell_type": "code",
   "execution_count": 50,
   "id": "ff5ffc2c",
   "metadata": {},
   "outputs": [],
   "source": [
    "min_error = np.min(absolute_error)"
   ]
  },
  {
   "cell_type": "code",
   "execution_count": 51,
   "id": "017d6b75",
   "metadata": {},
   "outputs": [
    {
     "data": {
      "text/plain": [
       "63878.96820680524"
      ]
     },
     "execution_count": 51,
     "metadata": {},
     "output_type": "execute_result"
    }
   ],
   "source": [
    "min_error"
   ]
  },
  {
   "cell_type": "code",
   "execution_count": 57,
   "id": "bf3f9c46",
   "metadata": {},
   "outputs": [
    {
     "data": {
      "text/plain": [
       "7"
      ]
     },
     "execution_count": 57,
     "metadata": {},
     "output_type": "execute_result"
    }
   ],
   "source": [
    "num_neighbour = [i for i, j in enumerate(absolute_error) if j == min_error]\n",
    "number_neigbours[num_neighbour[0]]"
   ]
  },
  {
   "cell_type": "code",
   "execution_count": null,
   "id": "b0230c70",
   "metadata": {},
   "outputs": [],
   "source": []
  }
 ],
 "metadata": {
  "kernelspec": {
   "display_name": "Python 3 (ipykernel)",
   "language": "python",
   "name": "python3"
  },
  "language_info": {
   "codemirror_mode": {
    "name": "ipython",
    "version": 3
   },
   "file_extension": ".py",
   "mimetype": "text/x-python",
   "name": "python",
   "nbconvert_exporter": "python",
   "pygments_lexer": "ipython3",
   "version": "3.10.6"
  }
 },
 "nbformat": 4,
 "nbformat_minor": 5
}
