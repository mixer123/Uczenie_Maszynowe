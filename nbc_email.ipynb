{
 "cells": [
  {
   "cell_type": "markdown",
   "metadata": {
    "id": "G9HSjjaBxWj2"
   },
   "source": [
    "# Naiwny Klasyfikator Bayesowski - klasyfikacja spamu"
   ]
  },
  {
   "cell_type": "code",
   "execution_count": 71,
   "metadata": {
    "colab": {
     "base_uri": "https://localhost:8080/"
    },
    "id": "5RdSWtvRxC1G",
    "outputId": "0c434f30-bd51-4b83-9dd5-018cac88803d"
   },
   "outputs": [
    {
     "name": "stdout",
     "output_type": "stream",
     "text": [
      "--2023-04-23 15:03:48--  https://github.com/betacord/ML/archive/refs/heads/master.zip\n",
      "Translacja github.com (github.com)... 140.82.121.3\n",
      "Łączenie się z github.com (github.com)|140.82.121.3|:443... połączono.\n",
      "Żądanie HTTP wysłano, oczekiwanie na odpowiedź... 302 Found\n",
      "Lokalizacja: https://codeload.github.com/betacord/ML/zip/refs/heads/master [podążanie]\n",
      "--2023-04-23 15:03:49--  https://codeload.github.com/betacord/ML/zip/refs/heads/master\n",
      "Translacja codeload.github.com (codeload.github.com)... 140.82.121.10\n",
      "Łączenie się z codeload.github.com (codeload.github.com)|140.82.121.10|:443... połączono.\n",
      "Żądanie HTTP wysłano, oczekiwanie na odpowiedź... 200 OK\n",
      "Długość: nieznana [application/zip]\n",
      "Zapis do: ‘master.zip.1’\n",
      "\n",
      "master.zip.1            [         <=>        ]  13,63M  8,21MB/s    w 1,7s     \n",
      "\n",
      "2023-04-23 15:03:51 (8,21 MB/s) - zapisano ‘master.zip.1’ [14293941]\n",
      "\n"
     ]
    }
   ],
   "source": [
    "# !wget https://github.com/betacord/ML/archive/refs/heads/master.zip"
   ]
  },
  {
   "cell_type": "code",
   "execution_count": 72,
   "metadata": {
    "colab": {
     "base_uri": "https://localhost:8080/"
    },
    "id": "7PTxASZgxalj",
    "outputId": "07d8a577-692b-4149-de4b-3c5931b56733"
   },
   "outputs": [
    {
     "name": "stdout",
     "output_type": "stream",
     "text": [
      "Archive:  master.zip\n",
      "00a33d80fb0de76fb3e87c41db948c3881f9acbb\n",
      "replace ML-master/.gitignore? [y]es, [n]o, [A]ll, [N]one, [r]ename: ^C\n"
     ]
    }
   ],
   "source": [
    "# !unzip master.zip"
   ]
  },
  {
   "cell_type": "code",
   "execution_count": 105,
   "metadata": {
    "id": "hBjk7Byp0FBX"
   },
   "outputs": [],
   "source": [
    "import email\n",
    "import io\n",
    "import re\n",
    "import os\n",
    "import pandas as pd\n",
    "from collections import defaultdict\n",
    "from bs4 import BeautifulSoup"
   ]
  },
  {
   "cell_type": "markdown",
   "metadata": {
    "id": "2FDUn6m3xqTg"
   },
   "source": [
    "## klasa EmailObject\n",
    "\n",
    "parsowanie i reprezentacja wiadomości email"
   ]
  },
  {
   "cell_type": "code",
   "execution_count": 106,
   "metadata": {
    "id": "gSy46ql9xhfB"
   },
   "outputs": [],
   "source": [
    "class EmailObject:\n",
    "  def __init__(self, file, category=None):\n",
    "    self.mail = email.message_from_file(file)\n",
    "    self.category = category\n",
    "\n",
    "  def subject(self):\n",
    "    return self.mail.get('Subject')\n",
    "\n",
    "  def body(self):\n",
    "    content_type = self.mail.get_content_type()\n",
    "    body = self.mail.get_payload(decode=False)\n",
    "\n",
    "    # import pdb; pdb.set_trace()\n",
    "    if content_type == 'text/html':\n",
    "      return BeautifulSoup(body, 'html.parser').text\n",
    "    elif content_type == 'text/plain':\n",
    "      return body\n",
    "    else:\n",
    "      return ''"
   ]
  },
  {
   "cell_type": "code",
   "execution_count": 107,
   "metadata": {
    "id": "VugM9sFS10T7"
   },
   "outputs": [],
   "source": [
    "email_obj_0 = EmailObject(io.open('master/ML-master/lab2/data/TRAINING/TRAIN_00001.eml', 'r', encoding='latin-1'))"
   ]
  },
  {
   "cell_type": "code",
   "execution_count": 108,
   "metadata": {
    "colab": {
     "base_uri": "https://localhost:8080/",
     "height": 35
    },
    "id": "nleqc97Q2WFL",
    "outputId": "beef6ce3-3740-49b0-d527-b2c58f605e6b"
   },
   "outputs": [
    {
     "data": {
      "text/plain": [
       "'link to my webcam you wanted '"
      ]
     },
     "execution_count": 108,
     "metadata": {},
     "output_type": "execute_result"
    }
   ],
   "source": [
    "email_obj_0.subject()"
   ]
  },
  {
   "cell_type": "code",
   "execution_count": 109,
   "metadata": {
    "colab": {
     "base_uri": "https://localhost:8080/",
     "height": 69
    },
    "id": "ovtoF6Hy2Y-2",
    "outputId": "b3560af7-9a81-49db-cdd3-1d1e5f6fb0d2"
   },
   "outputs": [
    {
     "data": {
      "text/plain": [
       "'Wanna see sexually curious teens playing with each other?\\n\\nhttp://www.site-personals.com <-- click here=)\\n\\nme and my horny girlfriends are waiting for you... we are probably eating each other out on webcam in our dormitory as ur reading this! (inbetween classes of course *wink*)\\n\\nsee you soon baby,\\n-Veronica\\n\\n\\n\\n\\n\\n\\n\\n\\n\\n\\n\\n\\n\\n\\n\\n\\n\\n\\n\\n\\n\\n\\nmcmfkhcpedgetqj\\n\\n'"
      ]
     },
     "execution_count": 109,
     "metadata": {},
     "output_type": "execute_result"
    }
   ],
   "source": [
    "email_obj_0.body()"
   ]
  },
  {
   "cell_type": "markdown",
   "metadata": {
    "id": "-FLyfzNC3J5-"
   },
   "source": [
    "## klasa Tokenizer\n",
    "\n",
    "tokenizacja tekstu"
   ]
  },
  {
   "cell_type": "code",
   "execution_count": 110,
   "metadata": {
    "id": "5u3dTPAs2lAY"
   },
   "outputs": [],
   "source": [
    "class Tokenizer:\n",
    "  NULL = u'\\u0000'\n",
    "\n",
    "  @staticmethod\n",
    "  def tokenize(txt):\n",
    "    return re.findall('\\w+', txt.lower())\n",
    "\n",
    "  @staticmethod\n",
    "  def unique_tokenizer(txt):\n",
    "    tokens = Tokenizer.tokenize(txt)\n",
    "    return set(tokens)"
   ]
  },
  {
   "cell_type": "code",
   "execution_count": 111,
   "metadata": {
    "id": "iNTfy1183-dF"
   },
   "outputs": [],
   "source": [
    "tokens = Tokenizer.unique_tokenizer('Ala ma kota, a kot ma ale')"
   ]
  },
  {
   "cell_type": "code",
   "execution_count": 112,
   "metadata": {
    "colab": {
     "base_uri": "https://localhost:8080/"
    },
    "id": "Ej7dHViI4Idi",
    "outputId": "02946842-091b-4ecd-d418-501f2b210b46"
   },
   "outputs": [
    {
     "data": {
      "text/plain": [
       "{'a', 'ala', 'ale', 'kot', 'kota', 'ma'}"
      ]
     },
     "execution_count": 112,
     "metadata": {},
     "output_type": "execute_result"
    }
   ],
   "source": [
    "tokens"
   ]
  },
  {
   "cell_type": "markdown",
   "metadata": {
    "id": "fU2zFt1l6-vE"
   },
   "source": [
    "## klasa SpamTrainer\n",
    "\n",
    "- uczenie modelu\n",
    "- klasyfikacja"
   ]
  },
  {
   "cell_type": "code",
   "execution_count": 113,
   "metadata": {
    "id": "hhAdbTKV4JZY"
   },
   "outputs": [],
   "source": [
    "class SpamTrainer:\n",
    "  def __init__(self, training_files):\n",
    "    self.categories = set()\n",
    "\n",
    "    for category, file in training_files:\n",
    "      self.categories.add(category)\n",
    "\n",
    "    self.totals = defaultdict(float)\n",
    "    self.training = {c: defaultdict(float) for c in self.categories}\n",
    "    self.to_train = training_files\n",
    "\n",
    "  def total_for(self, category):\n",
    "    return self.totals[category]\n",
    "\n",
    "  def train(self):\n",
    "    for category, file in self.to_train:\n",
    "      filepath = f'master/ML-master/lab2/data/TRAINING/{os.path.basename(file)}'\n",
    "\n",
    "      with io.open(filepath, 'r', encoding='latin-1') as f:\n",
    "        mail = EmailObject(f)\n",
    "\n",
    "      self.categories.add(category)\n",
    "\n",
    "      for token in Tokenizer.unique_tokenizer(mail.body()):\n",
    "        self.training[category][token] += 1\n",
    "        self.totals['_all'] += 1\n",
    "        self.totals[category] += 1\n",
    "\n",
    "    self.to_train = {}\n",
    "\n",
    "  def score(self, mail):\n",
    "    self.train()\n",
    "    cat_totals = self.totals\n",
    "\n",
    "    aggregates = {c: cat_totals[c] / cat_totals['_all'] for c in self.categories}\n",
    "\n",
    "    for token in Tokenizer.unique_tokenizer(mail.body()):\n",
    "      for cat in self.categories:\n",
    "        value = self.training[cat][token]\n",
    "        r = (value + 1) / (cat_totals[cat] + 1)\n",
    "        aggregates[cat] *= r\n",
    "\n",
    "    return aggregates\n",
    "\n",
    "  def normalized_score(self, mail):\n",
    "    score = self.score(mail)\n",
    "    scoresum = sum(score.values())\n",
    "\n",
    "    normalized = {cat: (agg / scoresum) for cat, agg in score.items()}\n",
    "\n",
    "    return normalized\n",
    "\n",
    "  def preference(self):\n",
    "    return sorted(self.categories, key=lambda cat: self.total_for(cat))\n",
    "\n",
    "  class Classification:\n",
    "    def __init__(self, guess, score):\n",
    "      self.guess = guess\n",
    "      self.score = score\n",
    "\n",
    "    def __eq__(self, other):\n",
    "      return self.guess == other.guess and self.score == other.score\n",
    "\n",
    "  def classify(self, mail):\n",
    "    score = self.score(mail)\n",
    "\n",
    "    max_score = 0.0\n",
    "    preference = self.preference()\n",
    "    max_key = preference[-1]\n",
    "\n",
    "    for k, v in score.items():\n",
    "      if v > max_score:\n",
    "        max_key = k\n",
    "        max_score = v\n",
    "      elif v == max_score and preference.index(k) > preference.index(max_key):\n",
    "        max_key = k\n",
    "        max_value = v\n",
    "    \n",
    "    return self.Classification(max_key, max_score)"
   ]
  },
  {
   "cell_type": "code",
   "execution_count": 114,
   "metadata": {
    "id": "lNkGTgis_osQ"
   },
   "outputs": [],
   "source": [
    "training_data = [\n",
    "    ('ham', 'master/ML-master/lab2/data/TRAINING/TRAIN_00002.eml'),\n",
    "    ('spam', 'master/ML-master/lab2/data/TRAINING/TRAIN_00000.eml'),\n",
    "    ('ham', 'master/ML-master/lab2/data/TRAINING/TRAIN_00006.eml'),\n",
    "    ('spam', 'master/ML-master/lab2/data/TRAINING/TRAIN_00003.eml'),\n",
    "]\n",
    "\n",
    "spam_trainer = SpamTrainer(training_data)"
   ]
  },
  {
   "cell_type": "code",
   "execution_count": 115,
   "metadata": {
    "id": "sYKRHZiXCJze"
   },
   "outputs": [],
   "source": [
    "email_obj0_score = spam_trainer.classify(email_obj_0)"
   ]
  },
  {
   "cell_type": "markdown",
   "metadata": {
    "id": "IAtmBkucKtlF"
   },
   "source": [
    "## walidacja modelu"
   ]
  },
  {
   "cell_type": "code",
   "execution_count": 116,
   "metadata": {
    "id": "bz9SQ96wC1_q"
   },
   "outputs": [],
   "source": [
    "def label_to_training_data(fold_file):\n",
    "  training_data = []\n",
    "\n",
    "  with open(fold_file, 'r') as f:\n",
    "    for line in f:\n",
    "      target, filepath = line.rstrip().split(' ')\n",
    "      training_data.append((target, filepath))\n",
    "\n",
    "  return SpamTrainer(training_data)"
   ]
  },
  {
   "cell_type": "code",
   "execution_count": 117,
   "metadata": {
    "id": "-NspENhVLek8"
   },
   "outputs": [],
   "source": [
    "def parse_emails(keyfile):\n",
    "  emails = []\n",
    "\n",
    "  with open(keyfile, 'r') as f:\n",
    "    for line in f:\n",
    "      label, file = line.rstrip().split(' ')\n",
    "\n",
    "      filepath = f'master/ML-master/lab2/data/TRAINING/{os.path.basename(file)}'\n",
    "      \n",
    "      with io.open(filepath, 'r', encoding='latin-1') as labelfile:\n",
    "        emails.append(EmailObject(labelfile, category=label))\n",
    "\n",
    "  \n",
    "  return emails"
   ]
  },
  {
   "cell_type": "code",
   "execution_count": 118,
   "metadata": {
    "id": "k-rmqtDUL9F-"
   },
   "outputs": [],
   "source": [
    "def validate(trainer, set_of_emails):\n",
    "  correct = 0\n",
    "  false_positives = 0.\n",
    "  false_negatives = 0.\n",
    "  confidence = 0.\n",
    "\n",
    "  for mail in set_of_emails:\n",
    "    classification = trainer.classify(mail)\n",
    "    confidence += classification.score\n",
    "\n",
    "    if classification.guess == 'spam' and mail.category == 'ham':\n",
    "      false_positives += 1\n",
    "    elif classification.guess == 'ham' and mail.category == 'spam':\n",
    "      false_negatives += 1\n",
    "    else:\n",
    "      correct += 1\n",
    "\n",
    "  total = false_positives + false_negatives + correct\n",
    "\n",
    "  false_positive_rate = false_positives / total\n",
    "  false_negative_rate = false_negatives / total\n",
    "  err = (false_positives + false_negatives) / total\n",
    "\n",
    "  return false_positive_rate, false_negative_rate, err"
   ]
  },
  {
   "cell_type": "code",
   "execution_count": 119,
   "metadata": {
    "id": "pYZrGj6JNc_F"
   },
   "outputs": [],
   "source": [
    "trainer = label_to_training_data('master/ML-master/lab2/data/fold2.label')\n",
    "emails = parse_emails('master/ML-master/lab2/data/fold1.label')"
   ]
  },
  {
   "cell_type": "code",
   "execution_count": 120,
   "metadata": {
    "id": "-YAYKcelONh-"
   },
   "outputs": [],
   "source": [
    "fpr, fnr, err = validate(trainer, emails)"
   ]
  },
  {
   "cell_type": "code",
   "execution_count": 121,
   "metadata": {
    "colab": {
     "base_uri": "https://localhost:8080/",
     "height": 35
    },
    "id": "kURhPxp8Nv5t",
    "outputId": "6e21bb9d-8c97-4c7a-fc21-cc285fd4ea9b"
   },
   "outputs": [
    {
     "data": {
      "text/plain": [
       "'FPR: 0.0018484288354898336, FNR: 0.20841035120147874, error: 0.21025878003696857'"
      ]
     },
     "execution_count": 121,
     "metadata": {},
     "output_type": "execute_result"
    }
   ],
   "source": [
    "f'FPR: {fpr}, FNR: {fnr}, error: {err}'"
   ]
  },
  {
   "cell_type": "code",
   "execution_count": 122,
   "metadata": {
    "id": "KxaOWcEgOod_"
   },
   "outputs": [
    {
     "data": {
      "text/plain": [
       "<__main__.SpamTrainer.Classification at 0x7f8cac649990>"
      ]
     },
     "execution_count": 122,
     "metadata": {},
     "output_type": "execute_result"
    }
   ],
   "source": [
    "spam_trainer.classify(email_obj_0)"
   ]
  },
  {
   "cell_type": "code",
   "execution_count": 123,
   "metadata": {},
   "outputs": [
    {
     "data": {
      "text/plain": [
       "<__main__.SpamTrainer at 0x7f8caec18670>"
      ]
     },
     "execution_count": 123,
     "metadata": {},
     "output_type": "execute_result"
    }
   ],
   "source": [
    "trainer"
   ]
  },
  {
   "cell_type": "code",
   "execution_count": 124,
   "metadata": {},
   "outputs": [],
   "source": [
    "# zadanie samodzielne"
   ]
  },
  {
   "cell_type": "code",
   "execution_count": 125,
   "metadata": {},
   "outputs": [
    {
     "name": "stdout",
     "output_type": "stream",
     "text": [
      "['ham ./data/TRAINING/TRAIN_00005.eml\\n', 'spam ./data/TRAINING/TRAIN_00001.eml\\n', 'ham ./data/TRAINING/TRAIN_00007.eml\\n', 'spam ./data/TRAINING/TRAIN_00004.eml\\n', 'ham ./data/TRAINING/TRAIN_00009.eml\\n', 'spam ./data/TRAINING/TRAIN_00013.eml\\n', 'ham ./data/TRAINING/TRAIN_00012.eml\\n', 'spam ./data/TRAINING/TRAIN_00015.eml\\n', 'ham ./data/TRAINING/TRAIN_00017.eml\\n', 'spam ./data/TRAINING/TRAIN_00022.eml\\n', 'ham ./data/TRAINING/TRAIN_00019.eml\\n', 'spam ./data/TRAINING/TRAIN_00027.eml\\n', 'ham ./data/TRAINING/TRAIN_00023.eml\\n', 'spam ./data/TRAINING/TRAIN_00033.eml\\n', 'ham ./data/TRAINING/TRAIN_00026.eml\\n', 'spam ./data/TRAINING/TRAIN_00040.eml\\n', 'ham ./data/TRAINING/TRAIN_00029.eml\\n', 'spam ./data/TRAINING/TRAIN_00042.eml\\n', 'ham ./data/TRAINING/TRAIN_00032.eml\\n', 'spam ./data/TRAINING/TRAIN_00050.eml\\n', 'ham ./data/TRAINING/TRAIN_00035.eml\\n', 'spam ./data/TRAINING/TRAIN_00059.eml\\n', 'ham ./data/TRAINING/TRAIN_00037.eml\\n', 'spam ./data/TRAINING/TRAIN_00065.eml\\n', 'ham ./data/TRAINING/TRAIN_00043.eml\\n', 'spam ./data/TRAINING/TRAIN_00068.eml\\n', 'ham ./data/TRAINING/TRAIN_00046.eml\\n', 'spam ./data/TRAINING/TRAIN_00073.eml\\n', 'ham ./data/TRAINING/TRAIN_00048.eml\\n', 'spam ./data/TRAINING/TRAIN_00076.eml\\n', 'ham ./data/TRAINING/TRAIN_00051.eml\\n', 'spam ./data/TRAINING/TRAIN_00082.eml\\n', 'ham ./data/TRAINING/TRAIN_00053.eml\\n', 'spam ./data/TRAINING/TRAIN_00093.eml\\n', 'ham ./data/TRAINING/TRAIN_00056.eml\\n', 'spam ./data/TRAINING/TRAIN_00099.eml\\n', 'ham ./data/TRAINING/TRAIN_00058.eml\\n', 'spam ./data/TRAINING/TRAIN_00104.eml\\n', 'ham ./data/TRAINING/TRAIN_00062.eml\\n', 'spam ./data/TRAINING/TRAIN_00107.eml\\n', 'ham ./data/TRAINING/TRAIN_00064.eml\\n', 'spam ./data/TRAINING/TRAIN_00110.eml\\n', 'ham ./data/TRAINING/TRAIN_00069.eml\\n', 'spam ./data/TRAINING/TRAIN_00116.eml\\n', 'ham ./data/TRAINING/TRAIN_00071.eml\\n', 'spam ./data/TRAINING/TRAIN_00121.eml\\n', 'ham ./data/TRAINING/TRAIN_00077.eml\\n', 'spam ./data/TRAINING/TRAIN_00123.eml\\n', 'ham ./data/TRAINING/TRAIN_00079.eml\\n', 'spam ./data/TRAINING/TRAIN_00132.eml\\n', 'ham ./data/TRAINING/TRAIN_00083.eml\\n', 'spam ./data/TRAINING/TRAIN_00142.eml\\n', 'ham ./data/TRAINING/TRAIN_00085.eml\\n', 'spam ./data/TRAINING/TRAIN_00146.eml\\n', 'ham ./data/TRAINING/TRAIN_00087.eml\\n', 'spam ./data/TRAINING/TRAIN_00153.eml\\n', 'ham ./data/TRAINING/TRAIN_00089.eml\\n', 'spam ./data/TRAINING/TRAIN_00163.eml\\n', 'ham ./data/TRAINING/TRAIN_00091.eml\\n', 'spam ./data/TRAINING/TRAIN_00170.eml\\n', 'ham ./data/TRAINING/TRAIN_00095.eml\\n', 'spam ./data/TRAINING/TRAIN_00187.eml\\n', 'ham ./data/TRAINING/TRAIN_00098.eml\\n', 'spam ./data/TRAINING/TRAIN_00190.eml\\n', 'ham ./data/TRAINING/TRAIN_00102.eml\\n', 'spam ./data/TRAINING/TRAIN_00194.eml\\n', 'ham ./data/TRAINING/TRAIN_00106.eml\\n', 'spam ./data/TRAINING/TRAIN_00199.eml\\n', 'ham ./data/TRAINING/TRAIN_00111.eml\\n', 'spam ./data/TRAINING/TRAIN_00201.eml\\n', 'ham ./data/TRAINING/TRAIN_00113.eml\\n', 'spam ./data/TRAINING/TRAIN_00208.eml\\n', 'ham ./data/TRAINING/TRAIN_00117.eml\\n', 'spam ./data/TRAINING/TRAIN_00215.eml\\n', 'ham ./data/TRAINING/TRAIN_00119.eml\\n', 'spam ./data/TRAINING/TRAIN_00217.eml\\n', 'ham ./data/TRAINING/TRAIN_00126.eml\\n', 'spam ./data/TRAINING/TRAIN_00220.eml\\n', 'ham ./data/TRAINING/TRAIN_00128.eml\\n', 'spam ./data/TRAINING/TRAIN_00223.eml\\n', 'ham ./data/TRAINING/TRAIN_00130.eml\\n', 'spam ./data/TRAINING/TRAIN_00226.eml\\n', 'ham ./data/TRAINING/TRAIN_00133.eml\\n', 'spam ./data/TRAINING/TRAIN_00230.eml\\n', 'ham ./data/TRAINING/TRAIN_00135.eml\\n', 'spam ./data/TRAINING/TRAIN_00235.eml\\n', 'ham ./data/TRAINING/TRAIN_00138.eml\\n', 'spam ./data/TRAINING/TRAIN_00248.eml\\n', 'ham ./data/TRAINING/TRAIN_00140.eml\\n', 'spam ./data/TRAINING/TRAIN_00255.eml\\n', 'ham ./data/TRAINING/TRAIN_00143.eml\\n', 'spam ./data/TRAINING/TRAIN_00258.eml\\n', 'ham ./data/TRAINING/TRAIN_00147.eml\\n', 'spam ./data/TRAINING/TRAIN_00265.eml\\n', 'ham ./data/TRAINING/TRAIN_00149.eml\\n', 'spam ./data/TRAINING/TRAIN_00273.eml\\n', 'ham ./data/TRAINING/TRAIN_00152.eml\\n', 'spam ./data/TRAINING/TRAIN_00281.eml\\n', 'ham ./data/TRAINING/TRAIN_00156.eml\\n', 'spam ./data/TRAINING/TRAIN_00285.eml\\n', 'ham ./data/TRAINING/TRAIN_00158.eml\\n', 'spam ./data/TRAINING/TRAIN_00287.eml\\n', 'ham ./data/TRAINING/TRAIN_00160.eml\\n', 'spam ./data/TRAINING/TRAIN_00289.eml\\n', 'ham ./data/TRAINING/TRAIN_00162.eml\\n', 'spam ./data/TRAINING/TRAIN_00295.eml\\n', 'ham ./data/TRAINING/TRAIN_00165.eml\\n', 'spam ./data/TRAINING/TRAIN_00303.eml\\n', 'ham ./data/TRAINING/TRAIN_00168.eml\\n', 'spam ./data/TRAINING/TRAIN_00308.eml\\n', 'ham ./data/TRAINING/TRAIN_00171.eml\\n', 'spam ./data/TRAINING/TRAIN_00310.eml\\n', 'ham ./data/TRAINING/TRAIN_00173.eml\\n', 'spam ./data/TRAINING/TRAIN_00314.eml\\n', 'ham ./data/TRAINING/TRAIN_00175.eml\\n', 'spam ./data/TRAINING/TRAIN_00318.eml\\n', 'ham ./data/TRAINING/TRAIN_00178.eml\\n', 'spam ./data/TRAINING/TRAIN_00321.eml\\n', 'ham ./data/TRAINING/TRAIN_00180.eml\\n', 'spam ./data/TRAINING/TRAIN_00324.eml\\n', 'ham ./data/TRAINING/TRAIN_00182.eml\\n', 'spam ./data/TRAINING/TRAIN_00336.eml\\n', 'ham ./data/TRAINING/TRAIN_00184.eml\\n', 'spam ./data/TRAINING/TRAIN_00344.eml\\n', 'ham ./data/TRAINING/TRAIN_00186.eml\\n', 'spam ./data/TRAINING/TRAIN_00354.eml\\n', 'ham ./data/TRAINING/TRAIN_00191.eml\\n', 'spam ./data/TRAINING/TRAIN_00356.eml\\n', 'ham ./data/TRAINING/TRAIN_00195.eml\\n', 'spam ./data/TRAINING/TRAIN_00361.eml\\n', 'ham ./data/TRAINING/TRAIN_00197.eml\\n', 'spam ./data/TRAINING/TRAIN_00371.eml\\n', 'ham ./data/TRAINING/TRAIN_00204.eml\\n', 'spam ./data/TRAINING/TRAIN_00379.eml\\n', 'ham ./data/TRAINING/TRAIN_00206.eml\\n', 'spam ./data/TRAINING/TRAIN_00384.eml\\n', 'ham ./data/TRAINING/TRAIN_00209.eml\\n', 'spam ./data/TRAINING/TRAIN_00386.eml\\n', 'ham ./data/TRAINING/TRAIN_00211.eml\\n', 'spam ./data/TRAINING/TRAIN_00392.eml\\n', 'ham ./data/TRAINING/TRAIN_00214.eml\\n', 'spam ./data/TRAINING/TRAIN_00400.eml\\n', 'ham ./data/TRAINING/TRAIN_00222.eml\\n', 'spam ./data/TRAINING/TRAIN_00408.eml\\n', 'ham ./data/TRAINING/TRAIN_00228.eml\\n', 'spam ./data/TRAINING/TRAIN_00419.eml\\n', 'ham ./data/TRAINING/TRAIN_00232.eml\\n', 'spam ./data/TRAINING/TRAIN_00423.eml\\n', 'ham ./data/TRAINING/TRAIN_00234.eml\\n', 'spam ./data/TRAINING/TRAIN_00427.eml\\n', 'ham ./data/TRAINING/TRAIN_00237.eml\\n', 'spam ./data/TRAINING/TRAIN_00440.eml\\n', 'ham ./data/TRAINING/TRAIN_00239.eml\\n', 'spam ./data/TRAINING/TRAIN_00445.eml\\n', 'ham ./data/TRAINING/TRAIN_00241.eml\\n', 'spam ./data/TRAINING/TRAIN_00448.eml\\n', 'ham ./data/TRAINING/TRAIN_00244.eml\\n', 'spam ./data/TRAINING/TRAIN_00459.eml\\n', 'ham ./data/TRAINING/TRAIN_00246.eml\\n', 'spam ./data/TRAINING/TRAIN_00467.eml\\n', 'ham ./data/TRAINING/TRAIN_00249.eml\\n', 'spam ./data/TRAINING/TRAIN_00473.eml\\n', 'ham ./data/TRAINING/TRAIN_00251.eml\\n', 'spam ./data/TRAINING/TRAIN_00480.eml\\n', 'ham ./data/TRAINING/TRAIN_00253.eml\\n', 'spam ./data/TRAINING/TRAIN_00486.eml\\n', 'ham ./data/TRAINING/TRAIN_00259.eml\\n', 'spam ./data/TRAINING/TRAIN_00491.eml\\n', 'ham ./data/TRAINING/TRAIN_00262.eml\\n', 'spam ./data/TRAINING/TRAIN_00494.eml\\n', 'ham ./data/TRAINING/TRAIN_00264.eml\\n', 'spam ./data/TRAINING/TRAIN_00501.eml\\n', 'ham ./data/TRAINING/TRAIN_00268.eml\\n', 'spam ./data/TRAINING/TRAIN_00503.eml\\n', 'ham ./data/TRAINING/TRAIN_00270.eml\\n', 'spam ./data/TRAINING/TRAIN_00516.eml\\n', 'ham ./data/TRAINING/TRAIN_00272.eml\\n', 'spam ./data/TRAINING/TRAIN_00520.eml\\n', 'ham ./data/TRAINING/TRAIN_00275.eml\\n', 'spam ./data/TRAINING/TRAIN_00529.eml\\n', 'ham ./data/TRAINING/TRAIN_00277.eml\\n', 'spam ./data/TRAINING/TRAIN_00532.eml\\n', 'ham ./data/TRAINING/TRAIN_00280.eml\\n', 'spam ./data/TRAINING/TRAIN_00536.eml\\n', 'ham ./data/TRAINING/TRAIN_00284.eml\\n', 'spam ./data/TRAINING/TRAIN_00543.eml\\n', 'ham ./data/TRAINING/TRAIN_00292.eml\\n', 'spam ./data/TRAINING/TRAIN_00552.eml\\n', 'ham ./data/TRAINING/TRAIN_00294.eml\\n', 'spam ./data/TRAINING/TRAIN_00559.eml\\n', 'ham ./data/TRAINING/TRAIN_00297.eml\\n', 'spam ./data/TRAINING/TRAIN_00562.eml\\n', 'ham ./data/TRAINING/TRAIN_00300.eml\\n', 'spam ./data/TRAINING/TRAIN_00567.eml\\n', 'ham ./data/TRAINING/TRAIN_00302.eml\\n', 'spam ./data/TRAINING/TRAIN_00570.eml\\n', 'ham ./data/TRAINING/TRAIN_00305.eml\\n', 'spam ./data/TRAINING/TRAIN_00575.eml\\n', 'ham ./data/TRAINING/TRAIN_00311.eml\\n', 'spam ./data/TRAINING/TRAIN_00590.eml\\n', 'ham ./data/TRAINING/TRAIN_00316.eml\\n', 'spam ./data/TRAINING/TRAIN_00593.eml\\n', 'ham ./data/TRAINING/TRAIN_00320.eml\\n', 'spam ./data/TRAINING/TRAIN_00598.eml\\n', 'ham ./data/TRAINING/TRAIN_00325.eml\\n', 'spam ./data/TRAINING/TRAIN_00600.eml\\n', 'ham ./data/TRAINING/TRAIN_00327.eml\\n', 'spam ./data/TRAINING/TRAIN_00605.eml\\n', 'ham ./data/TRAINING/TRAIN_00330.eml\\n', 'spam ./data/TRAINING/TRAIN_00611.eml\\n', 'ham ./data/TRAINING/TRAIN_00332.eml\\n', 'spam ./data/TRAINING/TRAIN_00626.eml\\n', 'ham ./data/TRAINING/TRAIN_00334.eml\\n', 'spam ./data/TRAINING/TRAIN_00632.eml\\n', 'ham ./data/TRAINING/TRAIN_00337.eml\\n', 'spam ./data/TRAINING/TRAIN_00637.eml\\n', 'ham ./data/TRAINING/TRAIN_00340.eml\\n', 'spam ./data/TRAINING/TRAIN_00642.eml\\n', 'ham ./data/TRAINING/TRAIN_00342.eml\\n', 'spam ./data/TRAINING/TRAIN_00648.eml\\n', 'ham ./data/TRAINING/TRAIN_00345.eml\\n', 'spam ./data/TRAINING/TRAIN_00650.eml\\n', 'ham ./data/TRAINING/TRAIN_00347.eml\\n', 'spam ./data/TRAINING/TRAIN_00652.eml\\n', 'ham ./data/TRAINING/TRAIN_00349.eml\\n', 'spam ./data/TRAINING/TRAIN_00661.eml\\n', 'ham ./data/TRAINING/TRAIN_00351.eml\\n', 'spam ./data/TRAINING/TRAIN_00665.eml\\n', 'ham ./data/TRAINING/TRAIN_00357.eml\\n', 'spam ./data/TRAINING/TRAIN_00669.eml\\n', 'ham ./data/TRAINING/TRAIN_00359.eml\\n', 'spam ./data/TRAINING/TRAIN_00671.eml\\n', 'ham ./data/TRAINING/TRAIN_00363.eml\\n', 'spam ./data/TRAINING/TRAIN_00676.eml\\n', 'ham ./data/TRAINING/TRAIN_00366.eml\\n', 'spam ./data/TRAINING/TRAIN_00684.eml\\n', 'ham ./data/TRAINING/TRAIN_00368.eml\\n', 'spam ./data/TRAINING/TRAIN_00690.eml\\n', 'ham ./data/TRAINING/TRAIN_00370.eml\\n', 'spam ./data/TRAINING/TRAIN_00693.eml\\n', 'ham ./data/TRAINING/TRAIN_00373.eml\\n', 'spam ./data/TRAINING/TRAIN_00696.eml\\n', 'ham ./data/TRAINING/TRAIN_00376.eml\\n', 'spam ./data/TRAINING/TRAIN_00698.eml\\n', 'ham ./data/TRAINING/TRAIN_00378.eml\\n', 'spam ./data/TRAINING/TRAIN_00705.eml\\n', 'ham ./data/TRAINING/TRAIN_00382.eml\\n', 'spam ./data/TRAINING/TRAIN_00710.eml\\n', 'ham ./data/TRAINING/TRAIN_00387.eml\\n', 'spam ./data/TRAINING/TRAIN_00720.eml\\n', 'ham ./data/TRAINING/TRAIN_00389.eml\\n', 'spam ./data/TRAINING/TRAIN_00726.eml\\n', 'ham ./data/TRAINING/TRAIN_00393.eml\\n', 'spam ./data/TRAINING/TRAIN_00729.eml\\n', 'ham ./data/TRAINING/TRAIN_00396.eml\\n', 'spam ./data/TRAINING/TRAIN_00734.eml\\n', 'ham ./data/TRAINING/TRAIN_00398.eml\\n', 'spam ./data/TRAINING/TRAIN_00738.eml\\n', 'ham ./data/TRAINING/TRAIN_00401.eml\\n', 'spam ./data/TRAINING/TRAIN_00744.eml\\n', 'ham ./data/TRAINING/TRAIN_00403.eml\\n', 'spam ./data/TRAINING/TRAIN_00759.eml\\n', 'ham ./data/TRAINING/TRAIN_00406.eml\\n', 'spam ./data/TRAINING/TRAIN_00769.eml\\n', 'ham ./data/TRAINING/TRAIN_00409.eml\\n', 'spam ./data/TRAINING/TRAIN_00773.eml\\n', 'ham ./data/TRAINING/TRAIN_00412.eml\\n', 'spam ./data/TRAINING/TRAIN_00776.eml\\n', 'ham ./data/TRAINING/TRAIN_00414.eml\\n', 'spam ./data/TRAINING/TRAIN_00781.eml\\n', 'ham ./data/TRAINING/TRAIN_00416.eml\\n', 'spam ./data/TRAINING/TRAIN_00791.eml\\n', 'ham ./data/TRAINING/TRAIN_00418.eml\\n', 'spam ./data/TRAINING/TRAIN_00798.eml\\n', 'ham ./data/TRAINING/TRAIN_00422.eml\\n', 'spam ./data/TRAINING/TRAIN_00801.eml\\n', 'ham ./data/TRAINING/TRAIN_00425.eml\\n', 'spam ./data/TRAINING/TRAIN_00811.eml\\n', 'ham ./data/TRAINING/TRAIN_00429.eml\\n', 'spam ./data/TRAINING/TRAIN_00821.eml\\n', 'ham ./data/TRAINING/TRAIN_00431.eml\\n', 'spam ./data/TRAINING/TRAIN_00828.eml\\n', 'ham ./data/TRAINING/TRAIN_00434.eml\\n', 'spam ./data/TRAINING/TRAIN_00839.eml\\n', 'ham ./data/TRAINING/TRAIN_00436.eml\\n', 'spam ./data/TRAINING/TRAIN_00844.eml\\n', 'ham ./data/TRAINING/TRAIN_00438.eml\\n', 'spam ./data/TRAINING/TRAIN_00855.eml\\n', 'ham ./data/TRAINING/TRAIN_00442.eml\\n', 'spam ./data/TRAINING/TRAIN_00857.eml\\n', 'ham ./data/TRAINING/TRAIN_00444.eml\\n', 'spam ./data/TRAINING/TRAIN_00875.eml\\n', 'ham ./data/TRAINING/TRAIN_00449.eml\\n', 'spam ./data/TRAINING/TRAIN_00881.eml\\n', 'ham ./data/TRAINING/TRAIN_00451.eml\\n', 'spam ./data/TRAINING/TRAIN_00885.eml\\n', 'ham ./data/TRAINING/TRAIN_00453.eml\\n', 'spam ./data/TRAINING/TRAIN_00895.eml\\n', 'ham ./data/TRAINING/TRAIN_00455.eml\\n', 'spam ./data/TRAINING/TRAIN_00898.eml\\n', 'ham ./data/TRAINING/TRAIN_00458.eml\\n', 'spam ./data/TRAINING/TRAIN_00903.eml\\n', 'ham ./data/TRAINING/TRAIN_00461.eml\\n', 'spam ./data/TRAINING/TRAIN_00905.eml\\n', 'ham ./data/TRAINING/TRAIN_00463.eml\\n', 'spam ./data/TRAINING/TRAIN_00907.eml\\n', 'ham ./data/TRAINING/TRAIN_00466.eml\\n', 'spam ./data/TRAINING/TRAIN_00914.eml\\n', 'ham ./data/TRAINING/TRAIN_00469.eml\\n', 'spam ./data/TRAINING/TRAIN_00917.eml\\n', 'ham ./data/TRAINING/TRAIN_00471.eml\\n', 'spam ./data/TRAINING/TRAIN_00921.eml\\n', 'ham ./data/TRAINING/TRAIN_00475.eml\\n', 'spam ./data/TRAINING/TRAIN_00924.eml\\n', 'ham ./data/TRAINING/TRAIN_00477.eml\\n', 'spam ./data/TRAINING/TRAIN_00934.eml\\n', 'ham ./data/TRAINING/TRAIN_00482.eml\\n', 'spam ./data/TRAINING/TRAIN_00936.eml\\n', 'ham ./data/TRAINING/TRAIN_00484.eml\\n', 'spam ./data/TRAINING/TRAIN_00941.eml\\n', 'ham ./data/TRAINING/TRAIN_00487.eml\\n', 'spam ./data/TRAINING/TRAIN_00947.eml\\n', 'ham ./data/TRAINING/TRAIN_00489.eml\\n', 'spam ./data/TRAINING/TRAIN_00955.eml\\n', 'ham ./data/TRAINING/TRAIN_00495.eml\\n', 'spam ./data/TRAINING/TRAIN_00960.eml\\n', 'ham ./data/TRAINING/TRAIN_00497.eml\\n', 'spam ./data/TRAINING/TRAIN_00970.eml\\n', 'ham ./data/TRAINING/TRAIN_00500.eml\\n', 'spam ./data/TRAINING/TRAIN_00973.eml\\n', 'ham ./data/TRAINING/TRAIN_00505.eml\\n', 'spam ./data/TRAINING/TRAIN_00979.eml\\n', 'ham ./data/TRAINING/TRAIN_00507.eml\\n', 'spam ./data/TRAINING/TRAIN_00982.eml\\n', 'ham ./data/TRAINING/TRAIN_00509.eml\\n', 'spam ./data/TRAINING/TRAIN_00986.eml\\n', 'ham ./data/TRAINING/TRAIN_00511.eml\\n', 'spam ./data/TRAINING/TRAIN_00991.eml\\n', 'ham ./data/TRAINING/TRAIN_00514.eml\\n', 'spam ./data/TRAINING/TRAIN_01003.eml\\n', 'ham ./data/TRAINING/TRAIN_00517.eml\\n', 'spam ./data/TRAINING/TRAIN_01011.eml\\n', 'ham ./data/TRAINING/TRAIN_00521.eml\\n', 'spam ./data/TRAINING/TRAIN_01014.eml\\n', 'ham ./data/TRAINING/TRAIN_00524.eml\\n', 'spam ./data/TRAINING/TRAIN_01024.eml\\n', 'ham ./data/TRAINING/TRAIN_00526.eml\\n', 'spam ./data/TRAINING/TRAIN_01029.eml\\n', 'ham ./data/TRAINING/TRAIN_00528.eml\\n', 'spam ./data/TRAINING/TRAIN_01033.eml\\n', 'ham ./data/TRAINING/TRAIN_00533.eml\\n', 'spam ./data/TRAINING/TRAIN_01040.eml\\n', 'ham ./data/TRAINING/TRAIN_00537.eml\\n', 'spam ./data/TRAINING/TRAIN_01045.eml\\n', 'ham ./data/TRAINING/TRAIN_00539.eml\\n', 'spam ./data/TRAINING/TRAIN_01052.eml\\n', 'ham ./data/TRAINING/TRAIN_00542.eml\\n', 'spam ./data/TRAINING/TRAIN_01058.eml\\n', 'ham ./data/TRAINING/TRAIN_00545.eml\\n', 'spam ./data/TRAINING/TRAIN_01064.eml\\n', 'ham ./data/TRAINING/TRAIN_00547.eml\\n', 'spam ./data/TRAINING/TRAIN_01068.eml\\n', 'ham ./data/TRAINING/TRAIN_00550.eml\\n', 'spam ./data/TRAINING/TRAIN_01073.eml\\n', 'ham ./data/TRAINING/TRAIN_00554.eml\\n', 'spam ./data/TRAINING/TRAIN_01075.eml\\n', 'ham ./data/TRAINING/TRAIN_00556.eml\\n', 'spam ./data/TRAINING/TRAIN_01082.eml\\n', 'ham ./data/TRAINING/TRAIN_00558.eml\\n', 'spam ./data/TRAINING/TRAIN_01084.eml\\n', 'ham ./data/TRAINING/TRAIN_00563.eml\\n', 'spam ./data/TRAINING/TRAIN_01089.eml\\n', 'ham ./data/TRAINING/TRAIN_00565.eml\\n', 'spam ./data/TRAINING/TRAIN_01102.eml\\n', 'ham ./data/TRAINING/TRAIN_00571.eml\\n', 'spam ./data/TRAINING/TRAIN_01104.eml\\n', 'ham ./data/TRAINING/TRAIN_00574.eml\\n', 'spam ./data/TRAINING/TRAIN_01111.eml\\n', 'ham ./data/TRAINING/TRAIN_00578.eml\\n', 'spam ./data/TRAINING/TRAIN_01115.eml\\n', 'ham ./data/TRAINING/TRAIN_00580.eml\\n', 'spam ./data/TRAINING/TRAIN_01119.eml\\n', 'ham ./data/TRAINING/TRAIN_00582.eml\\n', 'spam ./data/TRAINING/TRAIN_01121.eml\\n', 'ham ./data/TRAINING/TRAIN_00584.eml\\n', 'spam ./data/TRAINING/TRAIN_01130.eml\\n', 'ham ./data/TRAINING/TRAIN_00586.eml\\n', 'spam ./data/TRAINING/TRAIN_01138.eml\\n', 'ham ./data/TRAINING/TRAIN_00588.eml\\n', 'spam ./data/TRAINING/TRAIN_01141.eml\\n', 'ham ./data/TRAINING/TRAIN_00591.eml\\n', 'spam ./data/TRAINING/TRAIN_01145.eml\\n', 'ham ./data/TRAINING/TRAIN_00596.eml\\n', 'spam ./data/TRAINING/TRAIN_01148.eml\\n', 'ham ./data/TRAINING/TRAIN_00601.eml\\n', 'spam ./data/TRAINING/TRAIN_01151.eml\\n', 'ham ./data/TRAINING/TRAIN_00604.eml\\n', 'spam ./data/TRAINING/TRAIN_01155.eml\\n', 'ham ./data/TRAINING/TRAIN_00608.eml\\n', 'spam ./data/TRAINING/TRAIN_01164.eml\\n', 'ham ./data/TRAINING/TRAIN_00610.eml\\n', 'spam ./data/TRAINING/TRAIN_01174.eml\\n', 'ham ./data/TRAINING/TRAIN_00613.eml\\n', 'spam ./data/TRAINING/TRAIN_01176.eml\\n', 'ham ./data/TRAINING/TRAIN_00615.eml\\n', 'spam ./data/TRAINING/TRAIN_01181.eml\\n', 'ham ./data/TRAINING/TRAIN_00617.eml\\n', 'spam ./data/TRAINING/TRAIN_01183.eml\\n', 'ham ./data/TRAINING/TRAIN_00619.eml\\n', 'spam ./data/TRAINING/TRAIN_01194.eml\\n', 'ham ./data/TRAINING/TRAIN_00621.eml\\n', 'spam ./data/TRAINING/TRAIN_01197.eml\\n', 'ham ./data/TRAINING/TRAIN_00623.eml\\n', 'spam ./data/TRAINING/TRAIN_01202.eml\\n', 'ham ./data/TRAINING/TRAIN_00627.eml\\n', 'spam ./data/TRAINING/TRAIN_01204.eml\\n', 'ham ./data/TRAINING/TRAIN_00629.eml\\n', 'spam ./data/TRAINING/TRAIN_01208.eml\\n', 'ham ./data/TRAINING/TRAIN_00633.eml\\n', 'spam ./data/TRAINING/TRAIN_01216.eml\\n', 'ham ./data/TRAINING/TRAIN_00636.eml\\n', 'spam ./data/TRAINING/TRAIN_01223.eml\\n', 'ham ./data/TRAINING/TRAIN_00639.eml\\n', 'spam ./data/TRAINING/TRAIN_01229.eml\\n', 'ham ./data/TRAINING/TRAIN_00643.eml\\n', 'spam ./data/TRAINING/TRAIN_01236.eml\\n', 'ham ./data/TRAINING/TRAIN_00646.eml\\n', 'spam ./data/TRAINING/TRAIN_01244.eml\\n', 'ham ./data/TRAINING/TRAIN_00653.eml\\n', 'spam ./data/TRAINING/TRAIN_01248.eml\\n', 'ham ./data/TRAINING/TRAIN_00656.eml\\n', 'spam ./data/TRAINING/TRAIN_01253.eml\\n', 'ham ./data/TRAINING/TRAIN_00658.eml\\n', 'spam ./data/TRAINING/TRAIN_01257.eml\\n', 'ham ./data/TRAINING/TRAIN_00660.eml\\n', 'spam ./data/TRAINING/TRAIN_01267.eml\\n', 'ham ./data/TRAINING/TRAIN_00663.eml\\n', 'spam ./data/TRAINING/TRAIN_01277.eml\\n', 'ham ./data/TRAINING/TRAIN_00668.eml\\n', 'spam ./data/TRAINING/TRAIN_01288.eml\\n', 'ham ./data/TRAINING/TRAIN_00674.eml\\n', 'spam ./data/TRAINING/TRAIN_01298.eml\\n', 'ham ./data/TRAINING/TRAIN_00678.eml\\n', 'spam ./data/TRAINING/TRAIN_01301.eml\\n', 'ham ./data/TRAINING/TRAIN_00680.eml\\n', 'spam ./data/TRAINING/TRAIN_01320.eml\\n', 'ham ./data/TRAINING/TRAIN_00682.eml\\n', 'spam ./data/TRAINING/TRAIN_01322.eml\\n', 'ham ./data/TRAINING/TRAIN_00685.eml\\n', 'spam ./data/TRAINING/TRAIN_01324.eml\\n', 'ham ./data/TRAINING/TRAIN_00687.eml\\n', 'spam ./data/TRAINING/TRAIN_01332.eml\\n', 'ham ./data/TRAINING/TRAIN_00691.eml\\n', 'spam ./data/TRAINING/TRAIN_01336.eml\\n', 'ham ./data/TRAINING/TRAIN_00699.eml\\n', 'spam ./data/TRAINING/TRAIN_01344.eml\\n', 'ham ./data/TRAINING/TRAIN_00701.eml\\n', 'spam ./data/TRAINING/TRAIN_01350.eml\\n', 'ham ./data/TRAINING/TRAIN_00704.eml\\n', 'spam ./data/TRAINING/TRAIN_01355.eml\\n', 'ham ./data/TRAINING/TRAIN_00707.eml\\n', 'spam ./data/TRAINING/TRAIN_01370.eml\\n', 'ham ./data/TRAINING/TRAIN_00711.eml\\n', 'spam ./data/TRAINING/TRAIN_01381.eml\\n', 'ham ./data/TRAINING/TRAIN_00713.eml\\n', 'spam ./data/TRAINING/TRAIN_01395.eml\\n', 'ham ./data/TRAINING/TRAIN_00715.eml\\n', 'spam ./data/TRAINING/TRAIN_01402.eml\\n', 'ham ./data/TRAINING/TRAIN_00717.eml\\n', 'spam ./data/TRAINING/TRAIN_01406.eml\\n', 'ham ./data/TRAINING/TRAIN_00721.eml\\n', 'spam ./data/TRAINING/TRAIN_01413.eml\\n', 'ham ./data/TRAINING/TRAIN_00724.eml\\n', 'spam ./data/TRAINING/TRAIN_01421.eml\\n', 'ham ./data/TRAINING/TRAIN_00728.eml\\n', 'spam ./data/TRAINING/TRAIN_01425.eml\\n', 'ham ./data/TRAINING/TRAIN_00731.eml\\n', 'spam ./data/TRAINING/TRAIN_01432.eml\\n', 'ham ./data/TRAINING/TRAIN_00735.eml\\n', 'spam ./data/TRAINING/TRAIN_01439.eml\\n', 'ham ./data/TRAINING/TRAIN_00739.eml\\n', 'spam ./data/TRAINING/TRAIN_01445.eml\\n', 'ham ./data/TRAINING/TRAIN_00742.eml\\n', 'spam ./data/TRAINING/TRAIN_01448.eml\\n', 'ham ./data/TRAINING/TRAIN_00745.eml\\n', 'spam ./data/TRAINING/TRAIN_01453.eml\\n', 'ham ./data/TRAINING/TRAIN_00747.eml\\n', 'spam ./data/TRAINING/TRAIN_01459.eml\\n', 'ham ./data/TRAINING/TRAIN_00749.eml\\n', 'spam ./data/TRAINING/TRAIN_01466.eml\\n', 'ham ./data/TRAINING/TRAIN_00751.eml\\n', 'spam ./data/TRAINING/TRAIN_01486.eml\\n', 'ham ./data/TRAINING/TRAIN_00753.eml\\n', 'spam ./data/TRAINING/TRAIN_01495.eml\\n', 'ham ./data/TRAINING/TRAIN_00756.eml\\n', 'spam ./data/TRAINING/TRAIN_01501.eml\\n', 'ham ./data/TRAINING/TRAIN_00758.eml\\n', 'spam ./data/TRAINING/TRAIN_01506.eml\\n', 'ham ./data/TRAINING/TRAIN_00761.eml\\n', 'spam ./data/TRAINING/TRAIN_01513.eml\\n', 'ham ./data/TRAINING/TRAIN_00764.eml\\n', 'spam ./data/TRAINING/TRAIN_01517.eml\\n', 'ham ./data/TRAINING/TRAIN_00766.eml\\n', 'spam ./data/TRAINING/TRAIN_01526.eml\\n', 'ham ./data/TRAINING/TRAIN_00768.eml\\n', 'spam ./data/TRAINING/TRAIN_01532.eml\\n', 'ham ./data/TRAINING/TRAIN_00772.eml\\n', 'spam ./data/TRAINING/TRAIN_01538.eml\\n', 'ham ./data/TRAINING/TRAIN_00778.eml\\n', 'spam ./data/TRAINING/TRAIN_01547.eml\\n', 'ham ./data/TRAINING/TRAIN_00780.eml\\n', 'spam ./data/TRAINING/TRAIN_01549.eml\\n', 'ham ./data/TRAINING/TRAIN_00784.eml\\n', 'spam ./data/TRAINING/TRAIN_01557.eml\\n', 'ham ./data/TRAINING/TRAIN_00786.eml\\n', 'spam ./data/TRAINING/TRAIN_01562.eml\\n', 'ham ./data/TRAINING/TRAIN_00788.eml\\n', 'spam ./data/TRAINING/TRAIN_01564.eml\\n', 'ham ./data/TRAINING/TRAIN_00790.eml\\n', 'spam ./data/TRAINING/TRAIN_01567.eml\\n', 'ham ./data/TRAINING/TRAIN_00793.eml\\n', 'spam ./data/TRAINING/TRAIN_01571.eml\\n', 'ham ./data/TRAINING/TRAIN_00796.eml\\n', 'spam ./data/TRAINING/TRAIN_01577.eml\\n', 'ham ./data/TRAINING/TRAIN_00799.eml\\n', 'spam ./data/TRAINING/TRAIN_01583.eml\\n', 'ham ./data/TRAINING/TRAIN_00804.eml\\n', 'spam ./data/TRAINING/TRAIN_01588.eml\\n', 'ham ./data/TRAINING/TRAIN_00806.eml\\n', 'spam ./data/TRAINING/TRAIN_01601.eml\\n', 'ham ./data/TRAINING/TRAIN_00808.eml\\n', 'spam ./data/TRAINING/TRAIN_01604.eml\\n', 'ham ./data/TRAINING/TRAIN_00810.eml\\n', 'spam ./data/TRAINING/TRAIN_01616.eml\\n', 'ham ./data/TRAINING/TRAIN_00813.eml\\n', 'spam ./data/TRAINING/TRAIN_01623.eml\\n', 'ham ./data/TRAINING/TRAIN_00815.eml\\n', 'spam ./data/TRAINING/TRAIN_01631.eml\\n', 'ham ./data/TRAINING/TRAIN_00817.eml\\n', 'spam ./data/TRAINING/TRAIN_01637.eml\\n', 'ham ./data/TRAINING/TRAIN_00819.eml\\n', 'spam ./data/TRAINING/TRAIN_01641.eml\\n', 'ham ./data/TRAINING/TRAIN_00823.eml\\n', 'spam ./data/TRAINING/TRAIN_01643.eml\\n', 'ham ./data/TRAINING/TRAIN_00825.eml\\n', 'spam ./data/TRAINING/TRAIN_01647.eml\\n', 'ham ./data/TRAINING/TRAIN_00829.eml\\n', 'spam ./data/TRAINING/TRAIN_01657.eml\\n', 'ham ./data/TRAINING/TRAIN_00831.eml\\n', 'spam ./data/TRAINING/TRAIN_01662.eml\\n', 'ham ./data/TRAINING/TRAIN_00834.eml\\n', 'spam ./data/TRAINING/TRAIN_01669.eml\\n', 'ham ./data/TRAINING/TRAIN_00836.eml\\n', 'spam ./data/TRAINING/TRAIN_01677.eml\\n', 'ham ./data/TRAINING/TRAIN_00838.eml\\n', 'spam ./data/TRAINING/TRAIN_01682.eml\\n', 'ham ./data/TRAINING/TRAIN_00841.eml\\n', 'spam ./data/TRAINING/TRAIN_01684.eml\\n', 'ham ./data/TRAINING/TRAIN_00845.eml\\n', 'spam ./data/TRAINING/TRAIN_01687.eml\\n', 'ham ./data/TRAINING/TRAIN_00847.eml\\n', 'spam ./data/TRAINING/TRAIN_01700.eml\\n', 'ham ./data/TRAINING/TRAIN_00849.eml\\n', 'spam ./data/TRAINING/TRAIN_01705.eml\\n', 'ham ./data/TRAINING/TRAIN_00852.eml\\n', 'spam ./data/TRAINING/TRAIN_01709.eml\\n', 'ham ./data/TRAINING/TRAIN_00854.eml\\n', 'spam ./data/TRAINING/TRAIN_01714.eml\\n', 'ham ./data/TRAINING/TRAIN_00859.eml\\n', 'spam ./data/TRAINING/TRAIN_01716.eml\\n', 'ham ./data/TRAINING/TRAIN_00861.eml\\n', 'spam ./data/TRAINING/TRAIN_01728.eml\\n', 'ham ./data/TRAINING/TRAIN_00863.eml\\n', 'spam ./data/TRAINING/TRAIN_01731.eml\\n', 'ham ./data/TRAINING/TRAIN_00866.eml\\n', 'spam ./data/TRAINING/TRAIN_01735.eml\\n', 'ham ./data/TRAINING/TRAIN_00868.eml\\n', 'spam ./data/TRAINING/TRAIN_01747.eml\\n', 'ham ./data/TRAINING/TRAIN_00870.eml\\n', 'spam ./data/TRAINING/TRAIN_01757.eml\\n', 'ham ./data/TRAINING/TRAIN_00872.eml\\n', 'spam ./data/TRAINING/TRAIN_01759.eml\\n', 'ham ./data/TRAINING/TRAIN_00874.eml\\n', 'spam ./data/TRAINING/TRAIN_01767.eml\\n', 'ham ./data/TRAINING/TRAIN_00877.eml\\n', 'spam ./data/TRAINING/TRAIN_01776.eml\\n', 'ham ./data/TRAINING/TRAIN_00879.eml\\n', 'spam ./data/TRAINING/TRAIN_01780.eml\\n', 'ham ./data/TRAINING/TRAIN_00883.eml\\n', 'spam ./data/TRAINING/TRAIN_01786.eml\\n', 'ham ./data/TRAINING/TRAIN_00887.eml\\n', 'spam ./data/TRAINING/TRAIN_01790.eml\\n', 'ham ./data/TRAINING/TRAIN_00889.eml\\n', 'spam ./data/TRAINING/TRAIN_01793.eml\\n', 'ham ./data/TRAINING/TRAIN_00891.eml\\n', 'spam ./data/TRAINING/TRAIN_01800.eml\\n', 'ham ./data/TRAINING/TRAIN_00894.eml\\n', 'spam ./data/TRAINING/TRAIN_01809.eml\\n', 'ham ./data/TRAINING/TRAIN_00899.eml\\n', 'spam ./data/TRAINING/TRAIN_01812.eml\\n', 'ham ./data/TRAINING/TRAIN_00902.eml\\n', 'spam ./data/TRAINING/TRAIN_01830.eml\\n', 'ham ./data/TRAINING/TRAIN_00909.eml\\n', 'spam ./data/TRAINING/TRAIN_01838.eml\\n', 'ham ./data/TRAINING/TRAIN_00911.eml\\n', 'spam ./data/TRAINING/TRAIN_01851.eml\\n', 'ham ./data/TRAINING/TRAIN_00916.eml\\n', 'spam ./data/TRAINING/TRAIN_01854.eml\\n', 'ham ./data/TRAINING/TRAIN_00920.eml\\n', 'spam ./data/TRAINING/TRAIN_01858.eml\\n', 'ham ./data/TRAINING/TRAIN_00925.eml\\n', 'spam ./data/TRAINING/TRAIN_01869.eml\\n', 'ham ./data/TRAINING/TRAIN_00927.eml\\n', 'spam ./data/TRAINING/TRAIN_01875.eml\\n', 'ham ./data/TRAINING/TRAIN_00929.eml\\n', 'spam ./data/TRAINING/TRAIN_01879.eml\\n', 'ham ./data/TRAINING/TRAIN_00932.eml\\n', 'spam ./data/TRAINING/TRAIN_01887.eml\\n', 'ham ./data/TRAINING/TRAIN_00937.eml\\n', 'spam ./data/TRAINING/TRAIN_01889.eml\\n', 'ham ./data/TRAINING/TRAIN_00940.eml\\n', 'spam ./data/TRAINING/TRAIN_01893.eml\\n', 'ham ./data/TRAINING/TRAIN_00943.eml\\n', 'spam ./data/TRAINING/TRAIN_01897.eml\\n', 'ham ./data/TRAINING/TRAIN_00946.eml\\n', 'spam ./data/TRAINING/TRAIN_01907.eml\\n', 'ham ./data/TRAINING/TRAIN_00949.eml\\n', 'spam ./data/TRAINING/TRAIN_01912.eml\\n', 'ham ./data/TRAINING/TRAIN_00951.eml\\n', 'spam ./data/TRAINING/TRAIN_01922.eml\\n', 'ham ./data/TRAINING/TRAIN_00954.eml\\n', 'spam ./data/TRAINING/TRAIN_01927.eml\\n', 'ham ./data/TRAINING/TRAIN_00958.eml\\n', 'spam ./data/TRAINING/TRAIN_01929.eml\\n', 'ham ./data/TRAINING/TRAIN_00961.eml\\n', 'spam ./data/TRAINING/TRAIN_01934.eml\\n', 'ham ./data/TRAINING/TRAIN_00963.eml\\n', 'spam ./data/TRAINING/TRAIN_01940.eml\\n', 'ham ./data/TRAINING/TRAIN_00966.eml\\n', 'spam ./data/TRAINING/TRAIN_01950.eml\\n', 'ham ./data/TRAINING/TRAIN_00968.eml\\n', 'spam ./data/TRAINING/TRAIN_01954.eml\\n', 'ham ./data/TRAINING/TRAIN_00971.eml\\n', 'spam ./data/TRAINING/TRAIN_01961.eml\\n', 'ham ./data/TRAINING/TRAIN_00975.eml\\n', 'spam ./data/TRAINING/TRAIN_01963.eml\\n', 'ham ./data/TRAINING/TRAIN_00977.eml\\n', 'spam ./data/TRAINING/TRAIN_01968.eml\\n', 'ham ./data/TRAINING/TRAIN_00983.eml\\n', 'spam ./data/TRAINING/TRAIN_01972.eml\\n', 'ham ./data/TRAINING/TRAIN_00987.eml\\n', 'spam ./data/TRAINING/TRAIN_01977.eml\\n', 'ham ./data/TRAINING/TRAIN_00990.eml\\n', 'spam ./data/TRAINING/TRAIN_01987.eml\\n', 'ham ./data/TRAINING/TRAIN_00993.eml\\n', 'spam ./data/TRAINING/TRAIN_01992.eml\\n', 'ham ./data/TRAINING/TRAIN_00995.eml\\n', 'spam ./data/TRAINING/TRAIN_01996.eml\\n', 'ham ./data/TRAINING/TRAIN_00997.eml\\n', 'spam ./data/TRAINING/TRAIN_02002.eml\\n', 'ham ./data/TRAINING/TRAIN_01000.eml\\n', 'spam ./data/TRAINING/TRAIN_02005.eml\\n', 'ham ./data/TRAINING/TRAIN_01002.eml\\n', 'spam ./data/TRAINING/TRAIN_02011.eml\\n', 'ham ./data/TRAINING/TRAIN_01005.eml\\n', 'spam ./data/TRAINING/TRAIN_02016.eml\\n', 'ham ./data/TRAINING/TRAIN_01008.eml\\n', 'spam ./data/TRAINING/TRAIN_02022.eml\\n', 'ham ./data/TRAINING/TRAIN_01010.eml\\n', 'spam ./data/TRAINING/TRAIN_02033.eml\\n', 'ham ./data/TRAINING/TRAIN_01015.eml\\n', 'spam ./data/TRAINING/TRAIN_02036.eml\\n', 'ham ./data/TRAINING/TRAIN_01017.eml\\n', 'spam ./data/TRAINING/TRAIN_02042.eml\\n', 'ham ./data/TRAINING/TRAIN_01020.eml\\n', 'spam ./data/TRAINING/TRAIN_02047.eml\\n', 'ham ./data/TRAINING/TRAIN_01022.eml\\n', 'spam ./data/TRAINING/TRAIN_02056.eml\\n', 'ham ./data/TRAINING/TRAIN_01026.eml\\n', 'spam ./data/TRAINING/TRAIN_02064.eml\\n', 'ham ./data/TRAINING/TRAIN_01028.eml\\n', 'spam ./data/TRAINING/TRAIN_02070.eml\\n', 'ham ./data/TRAINING/TRAIN_01032.eml\\n', 'spam ./data/TRAINING/TRAIN_02073.eml\\n', 'ham ./data/TRAINING/TRAIN_01035.eml\\n', 'spam ./data/TRAINING/TRAIN_02082.eml\\n', 'ham ./data/TRAINING/TRAIN_01038.eml\\n', 'spam ./data/TRAINING/TRAIN_02087.eml\\n', 'ham ./data/TRAINING/TRAIN_01041.eml\\n', 'spam ./data/TRAINING/TRAIN_02101.eml\\n', 'ham ./data/TRAINING/TRAIN_01043.eml\\n', 'spam ./data/TRAINING/TRAIN_02111.eml\\n', 'ham ./data/TRAINING/TRAIN_01048.eml\\n', 'spam ./data/TRAINING/TRAIN_02115.eml\\n', 'ham ./data/TRAINING/TRAIN_01050.eml\\n', 'spam ./data/TRAINING/TRAIN_02118.eml\\n', 'ham ./data/TRAINING/TRAIN_01053.eml\\n', 'spam ./data/TRAINING/TRAIN_02128.eml\\n', 'ham ./data/TRAINING/TRAIN_01056.eml\\n', 'spam ./data/TRAINING/TRAIN_02145.eml\\n', 'ham ./data/TRAINING/TRAIN_01059.eml\\n', 'spam ./data/TRAINING/TRAIN_02157.eml\\n', 'ham ./data/TRAINING/TRAIN_01061.eml\\n', 'spam ./data/TRAINING/TRAIN_02164.eml\\n', 'ham ./data/TRAINING/TRAIN_01065.eml\\n', 'spam ./data/TRAINING/TRAIN_02186.eml\\n', 'ham ./data/TRAINING/TRAIN_01069.eml\\n', 'spam ./data/TRAINING/TRAIN_02196.eml\\n', 'ham ./data/TRAINING/TRAIN_01072.eml\\n', 'spam ./data/TRAINING/TRAIN_02199.eml\\n', 'ham ./data/TRAINING/TRAIN_01077.eml\\n', 'spam ./data/TRAINING/TRAIN_02202.eml\\n', 'ham ./data/TRAINING/TRAIN_01080.eml\\n', 'spam ./data/TRAINING/TRAIN_02207.eml\\n', 'ham ./data/TRAINING/TRAIN_01085.eml\\n', 'spam ./data/TRAINING/TRAIN_02212.eml\\n', 'ham ./data/TRAINING/TRAIN_01088.eml\\n', 'spam ./data/TRAINING/TRAIN_02220.eml\\n', 'ham ./data/TRAINING/TRAIN_01092.eml\\n', 'spam ./data/TRAINING/TRAIN_02225.eml\\n', 'ham ./data/TRAINING/TRAIN_01094.eml\\n', 'spam ./data/TRAINING/TRAIN_02236.eml\\n', 'ham ./data/TRAINING/TRAIN_01096.eml\\n', 'spam ./data/TRAINING/TRAIN_02240.eml\\n', 'ham ./data/TRAINING/TRAIN_01098.eml\\n', 'spam ./data/TRAINING/TRAIN_02251.eml\\n', 'ham ./data/TRAINING/TRAIN_01100.eml\\n', 'spam ./data/TRAINING/TRAIN_02258.eml\\n', 'ham ./data/TRAINING/TRAIN_01105.eml\\n', 'spam ./data/TRAINING/TRAIN_02264.eml\\n', 'ham ./data/TRAINING/TRAIN_01108.eml\\n', 'spam ./data/TRAINING/TRAIN_02273.eml\\n', 'ham ./data/TRAINING/TRAIN_01110.eml\\n', 'spam ./data/TRAINING/TRAIN_02277.eml\\n', 'ham ./data/TRAINING/TRAIN_01113.eml\\n', 'spam ./data/TRAINING/TRAIN_02282.eml\\n', 'ham ./data/TRAINING/TRAIN_01117.eml\\n', 'spam ./data/TRAINING/TRAIN_02284.eml\\n', 'ham ./data/TRAINING/TRAIN_01123.eml\\n', 'spam ./data/TRAINING/TRAIN_02293.eml\\n', 'ham ./data/TRAINING/TRAIN_01126.eml\\n', 'spam ./data/TRAINING/TRAIN_02297.eml\\n', 'ham ./data/TRAINING/TRAIN_01128.eml\\n', 'spam ./data/TRAINING/TRAIN_02302.eml\\n', 'ham ./data/TRAINING/TRAIN_01131.eml\\n', 'spam ./data/TRAINING/TRAIN_02311.eml\\n', 'ham ./data/TRAINING/TRAIN_01134.eml\\n', 'spam ./data/TRAINING/TRAIN_02317.eml\\n', 'ham ./data/TRAINING/TRAIN_01136.eml\\n', 'spam ./data/TRAINING/TRAIN_02325.eml\\n', 'ham ./data/TRAINING/TRAIN_01140.eml\\n', 'spam ./data/TRAINING/TRAIN_02333.eml\\n', 'ham ./data/TRAINING/TRAIN_01144.eml\\n', 'spam ./data/TRAINING/TRAIN_02336.eml\\n', 'ham ./data/TRAINING/TRAIN_01149.eml\\n', 'spam ./data/TRAINING/TRAIN_02346.eml\\n', 'ham ./data/TRAINING/TRAIN_01154.eml\\n', 'spam ./data/TRAINING/TRAIN_02348.eml\\n', 'ham ./data/TRAINING/TRAIN_01157.eml\\n', 'spam ./data/TRAINING/TRAIN_02363.eml\\n', 'ham ./data/TRAINING/TRAIN_01159.eml\\n', 'spam ./data/TRAINING/TRAIN_02367.eml\\n', 'ham ./data/TRAINING/TRAIN_01162.eml\\n', 'spam ./data/TRAINING/TRAIN_02371.eml\\n', 'ham ./data/TRAINING/TRAIN_01166.eml\\n', 'spam ./data/TRAINING/TRAIN_02373.eml\\n', 'ham ./data/TRAINING/TRAIN_01168.eml\\n', 'spam ./data/TRAINING/TRAIN_02390.eml\\n', 'ham ./data/TRAINING/TRAIN_01170.eml\\n', 'spam ./data/TRAINING/TRAIN_02395.eml\\n', 'ham ./data/TRAINING/TRAIN_01172.eml\\n', 'spam ./data/TRAINING/TRAIN_02402.eml\\n', 'ham ./data/TRAINING/TRAIN_01177.eml\\n', 'spam ./data/TRAINING/TRAIN_02408.eml\\n', 'ham ./data/TRAINING/TRAIN_01179.eml\\n', 'spam ./data/TRAINING/TRAIN_02412.eml\\n', 'ham ./data/TRAINING/TRAIN_01186.eml\\n', 'spam ./data/TRAINING/TRAIN_02419.eml\\n', 'ham ./data/TRAINING/TRAIN_01188.eml\\n', 'spam ./data/TRAINING/TRAIN_02422.eml\\n', 'ham ./data/TRAINING/TRAIN_01190.eml\\n', 'spam ./data/TRAINING/TRAIN_02429.eml\\n', 'ham ./data/TRAINING/TRAIN_01192.eml\\n', 'spam ./data/TRAINING/TRAIN_02434.eml\\n', 'ham ./data/TRAINING/TRAIN_01196.eml\\n', 'spam ./data/TRAINING/TRAIN_02439.eml\\n', 'ham ./data/TRAINING/TRAIN_01199.eml\\n', 'spam ./data/TRAINING/TRAIN_02442.eml\\n', 'ham ./data/TRAINING/TRAIN_01205.eml\\n', 'spam ./data/TRAINING/TRAIN_02446.eml\\n', 'ham ./data/TRAINING/TRAIN_01209.eml\\n', 'spam ./data/TRAINING/TRAIN_02457.eml\\n', 'ham ./data/TRAINING/TRAIN_01211.eml\\n', 'spam ./data/TRAINING/TRAIN_02464.eml\\n', 'ham ./data/TRAINING/TRAIN_01213.eml\\n', 'spam ./data/TRAINING/TRAIN_02468.eml\\n', 'ham ./data/TRAINING/TRAIN_01217.eml\\n', 'spam ./data/TRAINING/TRAIN_02472.eml\\n', 'ham ./data/TRAINING/TRAIN_01220.eml\\n', 'spam ./data/TRAINING/TRAIN_02481.eml\\n', 'ham ./data/TRAINING/TRAIN_01222.eml\\n', 'spam ./data/TRAINING/TRAIN_02489.eml\\n', 'ham ./data/TRAINING/TRAIN_01226.eml\\n', 'spam ./data/TRAINING/TRAIN_02494.eml\\n', 'ham ./data/TRAINING/TRAIN_01228.eml\\n', 'spam ./data/TRAINING/TRAIN_02498.eml\\n', 'ham ./data/TRAINING/TRAIN_01231.eml\\n', 'spam ./data/TRAINING/TRAIN_02504.eml\\n', 'ham ./data/TRAINING/TRAIN_01233.eml\\n', 'spam ./data/TRAINING/TRAIN_02513.eml\\n', 'ham ./data/TRAINING/TRAIN_01237.eml\\n', 'spam ./data/TRAINING/TRAIN_02530.eml\\n', 'ham ./data/TRAINING/TRAIN_01240.eml\\n', 'spam ./data/TRAINING/TRAIN_02540.eml\\n', 'ham ./data/TRAINING/TRAIN_01242.eml\\n', 'spam ./data/TRAINING/TRAIN_02543.eml\\n', 'ham ./data/TRAINING/TRAIN_01245.eml\\n', 'spam ./data/TRAINING/TRAIN_02551.eml\\n', 'ham ./data/TRAINING/TRAIN_01249.eml\\n', 'spam ./data/TRAINING/TRAIN_02555.eml\\n', 'ham ./data/TRAINING/TRAIN_01252.eml\\n', 'spam ./data/TRAINING/TRAIN_02560.eml\\n', 'ham ./data/TRAINING/TRAIN_01255.eml\\n', 'spam ./data/TRAINING/TRAIN_02563.eml\\n', 'ham ./data/TRAINING/TRAIN_01259.eml\\n', 'spam ./data/TRAINING/TRAIN_02571.eml\\n', 'ham ./data/TRAINING/TRAIN_01261.eml\\n', 'spam ./data/TRAINING/TRAIN_02576.eml\\n', 'ham ./data/TRAINING/TRAIN_01264.eml\\n', 'spam ./data/TRAINING/TRAIN_02581.eml\\n', 'ham ./data/TRAINING/TRAIN_01266.eml\\n', 'spam ./data/TRAINING/TRAIN_02585.eml\\n', 'ham ./data/TRAINING/TRAIN_01269.eml\\n', 'spam ./data/TRAINING/TRAIN_02595.eml\\n', 'ham ./data/TRAINING/TRAIN_01271.eml\\n', 'spam ./data/TRAINING/TRAIN_02602.eml\\n', 'ham ./data/TRAINING/TRAIN_01273.eml\\n', 'spam ./data/TRAINING/TRAIN_02606.eml\\n', 'ham ./data/TRAINING/TRAIN_01275.eml\\n', 'spam ./data/TRAINING/TRAIN_02610.eml\\n', 'ham ./data/TRAINING/TRAIN_01279.eml\\n', 'spam ./data/TRAINING/TRAIN_02619.eml\\n', 'ham ./data/TRAINING/TRAIN_01281.eml\\n', 'spam ./data/TRAINING/TRAIN_02622.eml\\n', 'ham ./data/TRAINING/TRAIN_01283.eml\\n', 'spam ./data/TRAINING/TRAIN_02625.eml\\n', 'ham ./data/TRAINING/TRAIN_01285.eml\\n', 'spam ./data/TRAINING/TRAIN_02629.eml\\n', 'ham ./data/TRAINING/TRAIN_01289.eml\\n', 'spam ./data/TRAINING/TRAIN_02642.eml\\n', 'ham ./data/TRAINING/TRAIN_01291.eml\\n', 'spam ./data/TRAINING/TRAIN_02644.eml\\n', 'ham ./data/TRAINING/TRAIN_01294.eml\\n', 'spam ./data/TRAINING/TRAIN_02646.eml\\n', 'ham ./data/TRAINING/TRAIN_01296.eml\\n', 'spam ./data/TRAINING/TRAIN_02649.eml\\n', 'ham ./data/TRAINING/TRAIN_01299.eml\\n', 'spam ./data/TRAINING/TRAIN_02654.eml\\n', 'ham ./data/TRAINING/TRAIN_01304.eml\\n', 'spam ./data/TRAINING/TRAIN_02664.eml\\n', 'ham ./data/TRAINING/TRAIN_01306.eml\\n', 'spam ./data/TRAINING/TRAIN_02676.eml\\n', 'ham ./data/TRAINING/TRAIN_01308.eml\\n', 'spam ./data/TRAINING/TRAIN_02680.eml\\n', 'ham ./data/TRAINING/TRAIN_01310.eml\\n', 'spam ./data/TRAINING/TRAIN_02687.eml\\n', 'ham ./data/TRAINING/TRAIN_01312.eml\\n', 'spam ./data/TRAINING/TRAIN_02692.eml\\n', 'ham ./data/TRAINING/TRAIN_01314.eml\\n', 'spam ./data/TRAINING/TRAIN_02694.eml\\n', 'ham ./data/TRAINING/TRAIN_01316.eml\\n', 'spam ./data/TRAINING/TRAIN_02707.eml\\n', 'ham ./data/TRAINING/TRAIN_01318.eml\\n', 'spam ./data/TRAINING/TRAIN_02710.eml\\n', 'ham ./data/TRAINING/TRAIN_01325.eml\\n', 'spam ./data/TRAINING/TRAIN_02715.eml\\n', 'ham ./data/TRAINING/TRAIN_01327.eml\\n', 'spam ./data/TRAINING/TRAIN_02718.eml\\n', 'ham ./data/TRAINING/TRAIN_01329.eml\\n', 'spam ./data/TRAINING/TRAIN_02721.eml\\n', 'ham ./data/TRAINING/TRAIN_01334.eml\\n', 'spam ./data/TRAINING/TRAIN_02731.eml\\n', 'ham ./data/TRAINING/TRAIN_01337.eml\\n', 'spam ./data/TRAINING/TRAIN_02735.eml\\n', 'ham ./data/TRAINING/TRAIN_01340.eml\\n', 'spam ./data/TRAINING/TRAIN_02739.eml\\n', 'ham ./data/TRAINING/TRAIN_01342.eml\\n', 'spam ./data/TRAINING/TRAIN_02743.eml\\n', 'ham ./data/TRAINING/TRAIN_01345.eml\\n', 'spam ./data/TRAINING/TRAIN_02752.eml\\n', 'ham ./data/TRAINING/TRAIN_01347.eml\\n', 'spam ./data/TRAINING/TRAIN_02756.eml\\n', 'ham ./data/TRAINING/TRAIN_01351.eml\\n', 'spam ./data/TRAINING/TRAIN_02766.eml\\n', 'ham ./data/TRAINING/TRAIN_01354.eml\\n', 'spam ./data/TRAINING/TRAIN_02769.eml\\n', 'ham ./data/TRAINING/TRAIN_01357.eml\\n', 'spam ./data/TRAINING/TRAIN_02777.eml\\n', 'ham ./data/TRAINING/TRAIN_01359.eml\\n', 'spam ./data/TRAINING/TRAIN_02785.eml\\n', 'ham ./data/TRAINING/TRAIN_01362.eml\\n', 'spam ./data/TRAINING/TRAIN_02797.eml\\n', 'ham ./data/TRAINING/TRAIN_01364.eml\\n', 'spam ./data/TRAINING/TRAIN_02800.eml\\n', 'ham ./data/TRAINING/TRAIN_01366.eml\\n', 'spam ./data/TRAINING/TRAIN_02808.eml\\n', 'ham ./data/TRAINING/TRAIN_01368.eml\\n', 'spam ./data/TRAINING/TRAIN_02817.eml\\n', 'ham ./data/TRAINING/TRAIN_01371.eml\\n', 'spam ./data/TRAINING/TRAIN_02822.eml\\n', 'ham ./data/TRAINING/TRAIN_01373.eml\\n', 'spam ./data/TRAINING/TRAIN_02831.eml\\n', 'ham ./data/TRAINING/TRAIN_01375.eml\\n', 'spam ./data/TRAINING/TRAIN_02841.eml\\n', 'ham ./data/TRAINING/TRAIN_01377.eml\\n', 'spam ./data/TRAINING/TRAIN_02844.eml\\n', 'ham ./data/TRAINING/TRAIN_01380.eml\\n', 'spam ./data/TRAINING/TRAIN_02846.eml\\n', 'ham ./data/TRAINING/TRAIN_01383.eml\\n', 'spam ./data/TRAINING/TRAIN_02849.eml\\n', 'ham ./data/TRAINING/TRAIN_01385.eml\\n', 'spam ./data/TRAINING/TRAIN_02854.eml\\n', 'ham ./data/TRAINING/TRAIN_01387.eml\\n', 'spam ./data/TRAINING/TRAIN_02858.eml\\n', 'ham ./data/TRAINING/TRAIN_01389.eml\\n', 'spam ./data/TRAINING/TRAIN_02861.eml\\n', 'ham ./data/TRAINING/TRAIN_01391.eml\\n', 'spam ./data/TRAINING/TRAIN_02873.eml\\n', 'ham ./data/TRAINING/TRAIN_01393.eml\\n', 'spam ./data/TRAINING/TRAIN_02885.eml\\n', 'ham ./data/TRAINING/TRAIN_01397.eml\\n', 'spam ./data/TRAINING/TRAIN_02890.eml\\n', 'ham ./data/TRAINING/TRAIN_01400.eml\\n', 'spam ./data/TRAINING/TRAIN_02902.eml\\n', 'ham ./data/TRAINING/TRAIN_01404.eml\\n', 'spam ./data/TRAINING/TRAIN_02906.eml\\n', 'ham ./data/TRAINING/TRAIN_01407.eml\\n', 'spam ./data/TRAINING/TRAIN_02915.eml\\n', 'ham ./data/TRAINING/TRAIN_01409.eml\\n', 'spam ./data/TRAINING/TRAIN_02925.eml\\n', 'ham ./data/TRAINING/TRAIN_01411.eml\\n', 'spam ./data/TRAINING/TRAIN_02941.eml\\n', 'ham ./data/TRAINING/TRAIN_01415.eml\\n', 'spam ./data/TRAINING/TRAIN_02949.eml\\n', 'ham ./data/TRAINING/TRAIN_01418.eml\\n', 'spam ./data/TRAINING/TRAIN_02955.eml\\n', 'ham ./data/TRAINING/TRAIN_01420.eml\\n', 'spam ./data/TRAINING/TRAIN_02966.eml\\n', 'ham ./data/TRAINING/TRAIN_01424.eml\\n', 'spam ./data/TRAINING/TRAIN_02981.eml\\n', 'ham ./data/TRAINING/TRAIN_01427.eml\\n', 'spam ./data/TRAINING/TRAIN_02984.eml\\n', 'ham ./data/TRAINING/TRAIN_01430.eml\\n', 'spam ./data/TRAINING/TRAIN_02989.eml\\n', 'ham ./data/TRAINING/TRAIN_01433.eml\\n', 'spam ./data/TRAINING/TRAIN_02998.eml\\n', 'ham ./data/TRAINING/TRAIN_01436.eml\\n', 'spam ./data/TRAINING/TRAIN_03002.eml\\n', 'ham ./data/TRAINING/TRAIN_01438.eml\\n', 'spam ./data/TRAINING/TRAIN_03012.eml\\n', 'ham ./data/TRAINING/TRAIN_01442.eml\\n', 'spam ./data/TRAINING/TRAIN_03020.eml\\n', 'ham ./data/TRAINING/TRAIN_01444.eml\\n', 'spam ./data/TRAINING/TRAIN_03025.eml\\n', 'ham ./data/TRAINING/TRAIN_01450.eml\\n', 'spam ./data/TRAINING/TRAIN_03036.eml\\n', 'ham ./data/TRAINING/TRAIN_01452.eml\\n', 'spam ./data/TRAINING/TRAIN_03044.eml\\n', 'ham ./data/TRAINING/TRAIN_01456.eml\\n', 'spam ./data/TRAINING/TRAIN_03048.eml\\n', 'ham ./data/TRAINING/TRAIN_01458.eml\\n', 'spam ./data/TRAINING/TRAIN_03056.eml\\n', 'ham ./data/TRAINING/TRAIN_01462.eml\\n', 'spam ./data/TRAINING/TRAIN_03064.eml\\n', 'ham ./data/TRAINING/TRAIN_01464.eml\\n', 'spam ./data/TRAINING/TRAIN_03069.eml\\n', 'ham ./data/TRAINING/TRAIN_01467.eml\\n', 'spam ./data/TRAINING/TRAIN_03075.eml\\n', 'ham ./data/TRAINING/TRAIN_01469.eml\\n', 'spam ./data/TRAINING/TRAIN_03086.eml\\n', 'ham ./data/TRAINING/TRAIN_01471.eml\\n', 'spam ./data/TRAINING/TRAIN_03094.eml\\n', 'ham ./data/TRAINING/TRAIN_01473.eml\\n', 'spam ./data/TRAINING/TRAIN_03097.eml\\n', 'ham ./data/TRAINING/TRAIN_01475.eml\\n', 'spam ./data/TRAINING/TRAIN_03104.eml\\n', 'ham ./data/TRAINING/TRAIN_01478.eml\\n', 'spam ./data/TRAINING/TRAIN_03107.eml\\n', 'ham ./data/TRAINING/TRAIN_01480.eml\\n', 'spam ./data/TRAINING/TRAIN_03112.eml\\n', 'ham ./data/TRAINING/TRAIN_01482.eml\\n', 'spam ./data/TRAINING/TRAIN_03116.eml\\n', 'ham ./data/TRAINING/TRAIN_01484.eml\\n', 'spam ./data/TRAINING/TRAIN_03129.eml\\n', 'ham ./data/TRAINING/TRAIN_01487.eml\\n', 'spam ./data/TRAINING/TRAIN_03142.eml\\n', 'ham ./data/TRAINING/TRAIN_01489.eml\\n', 'spam ./data/TRAINING/TRAIN_03154.eml\\n', 'ham ./data/TRAINING/TRAIN_01492.eml\\n', 'spam ./data/TRAINING/TRAIN_03157.eml\\n', 'ham ./data/TRAINING/TRAIN_01494.eml\\n', 'spam ./data/TRAINING/TRAIN_03159.eml\\n', 'ham ./data/TRAINING/TRAIN_01497.eml\\n', 'spam ./data/TRAINING/TRAIN_03163.eml\\n', 'ham ./data/TRAINING/TRAIN_01499.eml\\n', 'spam ./data/TRAINING/TRAIN_03191.eml\\n', 'ham ./data/TRAINING/TRAIN_01503.eml\\n', 'spam ./data/TRAINING/TRAIN_03196.eml\\n', 'ham ./data/TRAINING/TRAIN_01507.eml\\n', 'spam ./data/TRAINING/TRAIN_03202.eml\\n', 'ham ./data/TRAINING/TRAIN_01510.eml\\n', 'spam ./data/TRAINING/TRAIN_03207.eml\\n', 'ham ./data/TRAINING/TRAIN_01512.eml\\n', 'spam ./data/TRAINING/TRAIN_03210.eml\\n', 'ham ./data/TRAINING/TRAIN_01516.eml\\n', 'spam ./data/TRAINING/TRAIN_03217.eml\\n', 'ham ./data/TRAINING/TRAIN_01519.eml\\n', 'spam ./data/TRAINING/TRAIN_03225.eml\\n', 'ham ./data/TRAINING/TRAIN_01522.eml\\n', 'spam ./data/TRAINING/TRAIN_03227.eml\\n', 'ham ./data/TRAINING/TRAIN_01524.eml\\n', 'spam ./data/TRAINING/TRAIN_03242.eml\\n', 'ham ./data/TRAINING/TRAIN_01527.eml\\n', 'spam ./data/TRAINING/TRAIN_03254.eml\\n', 'ham ./data/TRAINING/TRAIN_01530.eml\\n', 'spam ./data/TRAINING/TRAIN_03265.eml\\n', 'ham ./data/TRAINING/TRAIN_01533.eml\\n', 'spam ./data/TRAINING/TRAIN_03268.eml\\n', 'ham ./data/TRAINING/TRAIN_01535.eml\\n', 'spam ./data/TRAINING/TRAIN_03271.eml\\n', 'ham ./data/TRAINING/TRAIN_01540.eml\\n', 'spam ./data/TRAINING/TRAIN_03277.eml\\n', 'ham ./data/TRAINING/TRAIN_01542.eml\\n', 'spam ./data/TRAINING/TRAIN_03281.eml\\n', 'ham ./data/TRAINING/TRAIN_01544.eml\\n', 'spam ./data/TRAINING/TRAIN_03285.eml\\n', 'ham ./data/TRAINING/TRAIN_01546.eml\\n', 'spam ./data/TRAINING/TRAIN_03288.eml\\n', 'ham ./data/TRAINING/TRAIN_01552.eml\\n', 'spam ./data/TRAINING/TRAIN_03294.eml\\n', 'ham ./data/TRAINING/TRAIN_01554.eml\\n', 'spam ./data/TRAINING/TRAIN_03300.eml\\n', 'ham ./data/TRAINING/TRAIN_01556.eml\\n', 'spam ./data/TRAINING/TRAIN_03306.eml\\n', 'ham ./data/TRAINING/TRAIN_01559.eml\\n', 'spam ./data/TRAINING/TRAIN_03321.eml\\n', 'ham ./data/TRAINING/TRAIN_01566.eml\\n', 'spam ./data/TRAINING/TRAIN_03324.eml\\n', 'ham ./data/TRAINING/TRAIN_01570.eml\\n', 'spam ./data/TRAINING/TRAIN_03340.eml\\n', 'ham ./data/TRAINING/TRAIN_01574.eml\\n', 'spam ./data/TRAINING/TRAIN_03349.eml\\n', 'ham ./data/TRAINING/TRAIN_01576.eml\\n', 'spam ./data/TRAINING/TRAIN_03363.eml\\n', 'ham ./data/TRAINING/TRAIN_01579.eml\\n', 'spam ./data/TRAINING/TRAIN_03368.eml\\n', 'ham ./data/TRAINING/TRAIN_01582.eml\\n', 'spam ./data/TRAINING/TRAIN_03370.eml\\n', 'ham ./data/TRAINING/TRAIN_01585.eml\\n', 'spam ./data/TRAINING/TRAIN_03377.eml\\n', 'ham ./data/TRAINING/TRAIN_01589.eml\\n', 'spam ./data/TRAINING/TRAIN_03380.eml\\n', 'ham ./data/TRAINING/TRAIN_01591.eml\\n', 'spam ./data/TRAINING/TRAIN_03387.eml\\n', 'ham ./data/TRAINING/TRAIN_01593.eml\\n', 'spam ./data/TRAINING/TRAIN_03390.eml\\n', 'ham ./data/TRAINING/TRAIN_01596.eml\\n', 'spam ./data/TRAINING/TRAIN_03394.eml\\n', 'ham ./data/TRAINING/TRAIN_01598.eml\\n', 'spam ./data/TRAINING/TRAIN_03396.eml\\n', 'ham ./data/TRAINING/TRAIN_01600.eml\\n', 'spam ./data/TRAINING/TRAIN_03398.eml\\n', 'ham ./data/TRAINING/TRAIN_01605.eml\\n', 'spam ./data/TRAINING/TRAIN_03401.eml\\n', 'ham ./data/TRAINING/TRAIN_01607.eml\\n', 'spam ./data/TRAINING/TRAIN_03407.eml\\n', 'ham ./data/TRAINING/TRAIN_01609.eml\\n', 'spam ./data/TRAINING/TRAIN_03410.eml\\n', 'ham ./data/TRAINING/TRAIN_01612.eml\\n', 'spam ./data/TRAINING/TRAIN_03415.eml\\n', 'ham ./data/TRAINING/TRAIN_01614.eml\\n', 'spam ./data/TRAINING/TRAIN_03437.eml\\n', 'ham ./data/TRAINING/TRAIN_01617.eml\\n', 'spam ./data/TRAINING/TRAIN_03447.eml\\n', 'ham ./data/TRAINING/TRAIN_01620.eml\\n', 'spam ./data/TRAINING/TRAIN_03455.eml\\n', 'ham ./data/TRAINING/TRAIN_01622.eml\\n', 'spam ./data/TRAINING/TRAIN_03463.eml\\n', 'ham ./data/TRAINING/TRAIN_01625.eml\\n', 'spam ./data/TRAINING/TRAIN_03466.eml\\n', 'ham ./data/TRAINING/TRAIN_01627.eml\\n', 'spam ./data/TRAINING/TRAIN_03473.eml\\n', 'ham ./data/TRAINING/TRAIN_01630.eml\\n', 'spam ./data/TRAINING/TRAIN_03480.eml\\n', 'ham ./data/TRAINING/TRAIN_01634.eml\\n', 'spam ./data/TRAINING/TRAIN_03482.eml\\n', 'ham ./data/TRAINING/TRAIN_01636.eml\\n', 'spam ./data/TRAINING/TRAIN_03489.eml\\n', 'ham ./data/TRAINING/TRAIN_01640.eml\\n', 'spam ./data/TRAINING/TRAIN_03497.eml\\n', 'ham ./data/TRAINING/TRAIN_01645.eml\\n', 'spam ./data/TRAINING/TRAIN_03516.eml\\n', 'ham ./data/TRAINING/TRAIN_01649.eml\\n', 'spam ./data/TRAINING/TRAIN_03525.eml\\n', 'ham ./data/TRAINING/TRAIN_01651.eml\\n', 'spam ./data/TRAINING/TRAIN_03530.eml\\n', 'ham ./data/TRAINING/TRAIN_01653.eml\\n', 'spam ./data/TRAINING/TRAIN_03535.eml\\n', 'ham ./data/TRAINING/TRAIN_01656.eml\\n', 'spam ./data/TRAINING/TRAIN_03539.eml\\n', 'ham ./data/TRAINING/TRAIN_01659.eml\\n', 'spam ./data/TRAINING/TRAIN_03547.eml\\n', 'ham ./data/TRAINING/TRAIN_01663.eml\\n', 'spam ./data/TRAINING/TRAIN_03553.eml\\n', 'ham ./data/TRAINING/TRAIN_01665.eml\\n', 'spam ./data/TRAINING/TRAIN_03566.eml\\n', 'ham ./data/TRAINING/TRAIN_01668.eml\\n', 'spam ./data/TRAINING/TRAIN_03572.eml\\n', 'ham ./data/TRAINING/TRAIN_01671.eml\\n', 'spam ./data/TRAINING/TRAIN_03576.eml\\n', 'ham ./data/TRAINING/TRAIN_01673.eml\\n', 'spam ./data/TRAINING/TRAIN_03583.eml\\n', 'ham ./data/TRAINING/TRAIN_01675.eml\\n', 'spam ./data/TRAINING/TRAIN_03589.eml\\n', 'ham ./data/TRAINING/TRAIN_01680.eml\\n', 'spam ./data/TRAINING/TRAIN_03600.eml\\n', 'ham ./data/TRAINING/TRAIN_01686.eml\\n', 'spam ./data/TRAINING/TRAIN_03602.eml\\n', 'ham ./data/TRAINING/TRAIN_01689.eml\\n', 'spam ./data/TRAINING/TRAIN_03604.eml\\n', 'ham ./data/TRAINING/TRAIN_01691.eml\\n', 'spam ./data/TRAINING/TRAIN_03610.eml\\n', 'ham ./data/TRAINING/TRAIN_01694.eml\\n', 'spam ./data/TRAINING/TRAIN_03612.eml\\n', 'ham ./data/TRAINING/TRAIN_01696.eml\\n', 'spam ./data/TRAINING/TRAIN_03615.eml\\n', 'ham ./data/TRAINING/TRAIN_01698.eml\\n', 'spam ./data/TRAINING/TRAIN_03620.eml\\n', 'ham ./data/TRAINING/TRAIN_01702.eml\\n', 'spam ./data/TRAINING/TRAIN_03623.eml\\n', 'ham ./data/TRAINING/TRAIN_01704.eml\\n', 'spam ./data/TRAINING/TRAIN_03629.eml\\n', 'ham ./data/TRAINING/TRAIN_01708.eml\\n', 'spam ./data/TRAINING/TRAIN_03639.eml\\n', 'ham ./data/TRAINING/TRAIN_01711.eml\\n', 'spam ./data/TRAINING/TRAIN_03642.eml\\n', 'ham ./data/TRAINING/TRAIN_01717.eml\\n', 'spam ./data/TRAINING/TRAIN_03644.eml\\n', 'ham ./data/TRAINING/TRAIN_01719.eml\\n', 'spam ./data/TRAINING/TRAIN_03657.eml\\n', 'ham ./data/TRAINING/TRAIN_01721.eml\\n', 'spam ./data/TRAINING/TRAIN_03669.eml\\n', 'ham ./data/TRAINING/TRAIN_01723.eml\\n', 'spam ./data/TRAINING/TRAIN_03676.eml\\n', 'ham ./data/TRAINING/TRAIN_01726.eml\\n', 'spam ./data/TRAINING/TRAIN_03678.eml\\n', 'ham ./data/TRAINING/TRAIN_01729.eml\\n', 'spam ./data/TRAINING/TRAIN_03687.eml\\n', 'ham ./data/TRAINING/TRAIN_01734.eml\\n', 'spam ./data/TRAINING/TRAIN_03694.eml\\n', 'ham ./data/TRAINING/TRAIN_01737.eml\\n', 'spam ./data/TRAINING/TRAIN_03698.eml\\n', 'ham ./data/TRAINING/TRAIN_01740.eml\\n', 'spam ./data/TRAINING/TRAIN_03700.eml\\n', 'ham ./data/TRAINING/TRAIN_01742.eml\\n', 'spam ./data/TRAINING/TRAIN_03702.eml\\n', 'ham ./data/TRAINING/TRAIN_01744.eml\\n', 'spam ./data/TRAINING/TRAIN_03720.eml\\n', 'ham ./data/TRAINING/TRAIN_01746.eml\\n', 'spam ./data/TRAINING/TRAIN_03723.eml\\n', 'ham ./data/TRAINING/TRAIN_01749.eml\\n', 'spam ./data/TRAINING/TRAIN_03728.eml\\n', 'ham ./data/TRAINING/TRAIN_01751.eml\\n', 'spam ./data/TRAINING/TRAIN_03732.eml\\n', 'ham ./data/TRAINING/TRAIN_01754.eml\\n', 'spam ./data/TRAINING/TRAIN_03736.eml\\n', 'ham ./data/TRAINING/TRAIN_01756.eml\\n', 'spam ./data/TRAINING/TRAIN_03739.eml\\n', 'ham ./data/TRAINING/TRAIN_01761.eml\\n', 'spam ./data/TRAINING/TRAIN_03741.eml\\n', 'ham ./data/TRAINING/TRAIN_01763.eml\\n', 'spam ./data/TRAINING/TRAIN_03747.eml\\n', 'ham ./data/TRAINING/TRAIN_01766.eml\\n', 'spam ./data/TRAINING/TRAIN_03750.eml\\n', 'ham ./data/TRAINING/TRAIN_01769.eml\\n', 'spam ./data/TRAINING/TRAIN_03754.eml\\n', 'ham ./data/TRAINING/TRAIN_01771.eml\\n', 'spam ./data/TRAINING/TRAIN_03761.eml\\n', 'ham ./data/TRAINING/TRAIN_01774.eml\\n', 'spam ./data/TRAINING/TRAIN_03767.eml\\n', 'ham ./data/TRAINING/TRAIN_01778.eml\\n', 'spam ./data/TRAINING/TRAIN_03774.eml\\n', 'ham ./data/TRAINING/TRAIN_01781.eml\\n', 'spam ./data/TRAINING/TRAIN_03783.eml\\n', 'ham ./data/TRAINING/TRAIN_01784.eml\\n', 'spam ./data/TRAINING/TRAIN_03786.eml\\n', 'ham ./data/TRAINING/TRAIN_01788.eml\\n', 'spam ./data/TRAINING/TRAIN_03794.eml\\n', 'ham ./data/TRAINING/TRAIN_01791.eml\\n', 'spam ./data/TRAINING/TRAIN_03799.eml\\n', 'ham ./data/TRAINING/TRAIN_01795.eml\\n', 'spam ./data/TRAINING/TRAIN_03805.eml\\n', 'ham ./data/TRAINING/TRAIN_01797.eml\\n', 'spam ./data/TRAINING/TRAIN_03812.eml\\n', 'ham ./data/TRAINING/TRAIN_01801.eml\\n', 'spam ./data/TRAINING/TRAIN_03815.eml\\n', 'ham ./data/TRAINING/TRAIN_01803.eml\\n', 'spam ./data/TRAINING/TRAIN_03818.eml\\n', 'ham ./data/TRAINING/TRAIN_01805.eml\\n', 'spam ./data/TRAINING/TRAIN_03826.eml\\n', 'ham ./data/TRAINING/TRAIN_01808.eml\\n', 'spam ./data/TRAINING/TRAIN_03835.eml\\n', 'ham ./data/TRAINING/TRAIN_01813.eml\\n', 'spam ./data/TRAINING/TRAIN_03838.eml\\n', 'ham ./data/TRAINING/TRAIN_01815.eml\\n', 'spam ./data/TRAINING/TRAIN_03847.eml\\n', 'ham ./data/TRAINING/TRAIN_01817.eml\\n', 'spam ./data/TRAINING/TRAIN_03857.eml\\n', 'ham ./data/TRAINING/TRAIN_01820.eml\\n', 'spam ./data/TRAINING/TRAIN_03864.eml\\n', 'ham ./data/TRAINING/TRAIN_01822.eml\\n', 'spam ./data/TRAINING/TRAIN_03869.eml\\n', 'ham ./data/TRAINING/TRAIN_01824.eml\\n', 'spam ./data/TRAINING/TRAIN_03879.eml\\n', 'ham ./data/TRAINING/TRAIN_01826.eml\\n', 'spam ./data/TRAINING/TRAIN_03882.eml\\n', 'ham ./data/TRAINING/TRAIN_01828.eml\\n', 'spam ./data/TRAINING/TRAIN_03885.eml\\n', 'ham ./data/TRAINING/TRAIN_01832.eml\\n', 'spam ./data/TRAINING/TRAIN_03891.eml\\n', 'ham ./data/TRAINING/TRAIN_01834.eml\\n', 'spam ./data/TRAINING/TRAIN_03897.eml\\n', 'ham ./data/TRAINING/TRAIN_01836.eml\\n', 'spam ./data/TRAINING/TRAIN_03909.eml\\n', 'ham ./data/TRAINING/TRAIN_01839.eml\\n', 'spam ./data/TRAINING/TRAIN_03913.eml\\n', 'ham ./data/TRAINING/TRAIN_01841.eml\\n', 'spam ./data/TRAINING/TRAIN_03916.eml\\n', 'ham ./data/TRAINING/TRAIN_01843.eml\\n', 'spam ./data/TRAINING/TRAIN_03920.eml\\n', 'ham ./data/TRAINING/TRAIN_01845.eml\\n', 'spam ./data/TRAINING/TRAIN_03924.eml\\n', 'ham ./data/TRAINING/TRAIN_01847.eml\\n', 'spam ./data/TRAINING/TRAIN_03932.eml\\n', 'ham ./data/TRAINING/TRAIN_01850.eml\\n', 'spam ./data/TRAINING/TRAIN_03940.eml\\n', 'ham ./data/TRAINING/TRAIN_01856.eml\\n', 'spam ./data/TRAINING/TRAIN_03950.eml\\n', 'ham ./data/TRAINING/TRAIN_01859.eml\\n', 'spam ./data/TRAINING/TRAIN_03954.eml\\n', 'ham ./data/TRAINING/TRAIN_01861.eml\\n', 'spam ./data/TRAINING/TRAIN_03959.eml\\n', 'ham ./data/TRAINING/TRAIN_01863.eml\\n', 'spam ./data/TRAINING/TRAIN_03963.eml\\n', 'ham ./data/TRAINING/TRAIN_01866.eml\\n', 'spam ./data/TRAINING/TRAIN_03967.eml\\n', 'ham ./data/TRAINING/TRAIN_01868.eml\\n', 'spam ./data/TRAINING/TRAIN_03976.eml\\n', 'ham ./data/TRAINING/TRAIN_01872.eml\\n', 'spam ./data/TRAINING/TRAIN_03990.eml\\n', 'ham ./data/TRAINING/TRAIN_01874.eml\\n', 'spam ./data/TRAINING/TRAIN_03993.eml\\n', 'ham ./data/TRAINING/TRAIN_01878.eml\\n', 'spam ./data/TRAINING/TRAIN_03996.eml\\n', 'ham ./data/TRAINING/TRAIN_01882.eml\\n', 'spam ./data/TRAINING/TRAIN_04001.eml\\n', 'ham ./data/TRAINING/TRAIN_01884.eml\\n', 'spam ./data/TRAINING/TRAIN_04004.eml\\n', 'ham ./data/TRAINING/TRAIN_01886.eml\\n', 'spam ./data/TRAINING/TRAIN_04013.eml\\n', 'ham ./data/TRAINING/TRAIN_01891.eml\\n', 'spam ./data/TRAINING/TRAIN_04023.eml\\n', 'ham ./data/TRAINING/TRAIN_01896.eml\\n', 'spam ./data/TRAINING/TRAIN_04025.eml\\n', 'ham ./data/TRAINING/TRAIN_01899.eml\\n', 'spam ./data/TRAINING/TRAIN_04029.eml\\n', 'ham ./data/TRAINING/TRAIN_01901.eml\\n', 'spam ./data/TRAINING/TRAIN_04033.eml\\n', 'ham ./data/TRAINING/TRAIN_01903.eml\\n', 'spam ./data/TRAINING/TRAIN_04037.eml\\n', 'ham ./data/TRAINING/TRAIN_01906.eml\\n', 'spam ./data/TRAINING/TRAIN_04045.eml\\n', 'ham ./data/TRAINING/TRAIN_01910.eml\\n', 'spam ./data/TRAINING/TRAIN_04051.eml\\n', 'ham ./data/TRAINING/TRAIN_01913.eml\\n', 'spam ./data/TRAINING/TRAIN_04054.eml\\n', 'ham ./data/TRAINING/TRAIN_01915.eml\\n', 'spam ./data/TRAINING/TRAIN_04057.eml\\n', 'ham ./data/TRAINING/TRAIN_01918.eml\\n', 'spam ./data/TRAINING/TRAIN_04064.eml\\n', 'ham ./data/TRAINING/TRAIN_01920.eml\\n', 'spam ./data/TRAINING/TRAIN_04069.eml\\n', 'ham ./data/TRAINING/TRAIN_01923.eml\\n', 'spam ./data/TRAINING/TRAIN_04078.eml\\n', 'ham ./data/TRAINING/TRAIN_01925.eml\\n', 'spam ./data/TRAINING/TRAIN_04086.eml\\n', 'ham ./data/TRAINING/TRAIN_01932.eml\\n', 'spam ./data/TRAINING/TRAIN_04089.eml\\n', 'ham ./data/TRAINING/TRAIN_01935.eml\\n', 'spam ./data/TRAINING/TRAIN_04092.eml\\n', 'ham ./data/TRAINING/TRAIN_01938.eml\\n', 'spam ./data/TRAINING/TRAIN_04097.eml\\n', 'ham ./data/TRAINING/TRAIN_01942.eml\\n', 'spam ./data/TRAINING/TRAIN_04102.eml\\n', 'ham ./data/TRAINING/TRAIN_01944.eml\\n', 'spam ./data/TRAINING/TRAIN_04107.eml\\n', 'ham ./data/TRAINING/TRAIN_01946.eml\\n', 'spam ./data/TRAINING/TRAIN_04112.eml\\n', 'ham ./data/TRAINING/TRAIN_01948.eml\\n', 'spam ./data/TRAINING/TRAIN_04116.eml\\n', 'ham ./data/TRAINING/TRAIN_01951.eml\\n', 'spam ./data/TRAINING/TRAIN_04122.eml\\n', 'ham ./data/TRAINING/TRAIN_01955.eml\\n', 'spam ./data/TRAINING/TRAIN_04126.eml\\n', 'ham ./data/TRAINING/TRAIN_01958.eml\\n', 'spam ./data/TRAINING/TRAIN_04131.eml\\n', 'ham ./data/TRAINING/TRAIN_01960.eml\\n', 'spam ./data/TRAINING/TRAIN_04133.eml\\n', 'ham ./data/TRAINING/TRAIN_01965.eml\\n', 'spam ./data/TRAINING/TRAIN_04137.eml\\n', 'ham ./data/TRAINING/TRAIN_01970.eml\\n', 'spam ./data/TRAINING/TRAIN_04144.eml\\n', 'ham ./data/TRAINING/TRAIN_01973.eml\\n', 'spam ./data/TRAINING/TRAIN_04148.eml\\n', 'ham ./data/TRAINING/TRAIN_01975.eml\\n', 'spam ./data/TRAINING/TRAIN_04153.eml\\n', 'ham ./data/TRAINING/TRAIN_01979.eml\\n', 'spam ./data/TRAINING/TRAIN_04162.eml\\n', 'ham ./data/TRAINING/TRAIN_01981.eml\\n', 'spam ./data/TRAINING/TRAIN_04168.eml\\n', 'ham ./data/TRAINING/TRAIN_01983.eml\\n', 'spam ./data/TRAINING/TRAIN_04176.eml\\n', 'ham ./data/TRAINING/TRAIN_01986.eml\\n', 'spam ./data/TRAINING/TRAIN_04182.eml\\n', 'ham ./data/TRAINING/TRAIN_01990.eml\\n', 'spam ./data/TRAINING/TRAIN_04185.eml\\n', 'ham ./data/TRAINING/TRAIN_01993.eml\\n', 'spam ./data/TRAINING/TRAIN_04193.eml\\n', 'ham ./data/TRAINING/TRAIN_01997.eml\\n', 'spam ./data/TRAINING/TRAIN_04202.eml\\n', 'ham ./data/TRAINING/TRAIN_01999.eml\\n', 'spam ./data/TRAINING/TRAIN_04209.eml\\n', 'ham ./data/TRAINING/TRAIN_02003.eml\\n', 'spam ./data/TRAINING/TRAIN_04216.eml\\n', 'ham ./data/TRAINING/TRAIN_02008.eml\\n', 'spam ./data/TRAINING/TRAIN_04221.eml\\n', 'ham ./data/TRAINING/TRAIN_02010.eml\\n', 'spam ./data/TRAINING/TRAIN_04232.eml\\n', 'ham ./data/TRAINING/TRAIN_02014.eml\\n', 'spam ./data/TRAINING/TRAIN_04237.eml\\n', 'ham ./data/TRAINING/TRAIN_02018.eml\\n', 'spam ./data/TRAINING/TRAIN_04242.eml\\n', 'ham ./data/TRAINING/TRAIN_02020.eml\\n', 'spam ./data/TRAINING/TRAIN_04257.eml\\n', 'ham ./data/TRAINING/TRAIN_02023.eml\\n', 'spam ./data/TRAINING/TRAIN_04259.eml\\n', 'ham ./data/TRAINING/TRAIN_02026.eml\\n', 'spam ./data/TRAINING/TRAIN_04261.eml\\n', 'ham ./data/TRAINING/TRAIN_02028.eml\\n', 'spam ./data/TRAINING/TRAIN_04268.eml\\n', 'ham ./data/TRAINING/TRAIN_02030.eml\\n', 'spam ./data/TRAINING/TRAIN_04284.eml\\n', 'ham ./data/TRAINING/TRAIN_02032.eml\\n', 'spam ./data/TRAINING/TRAIN_04290.eml\\n', 'ham ./data/TRAINING/TRAIN_02038.eml\\n', 'spam ./data/TRAINING/TRAIN_04294.eml\\n', 'ham ./data/TRAINING/TRAIN_02040.eml\\n', 'spam ./data/TRAINING/TRAIN_04297.eml\\n', 'ham ./data/TRAINING/TRAIN_02043.eml\\n', 'spam ./data/TRAINING/TRAIN_04305.eml\\n', 'ham ./data/TRAINING/TRAIN_02046.eml\\n', 'spam ./data/TRAINING/TRAIN_04314.eml\\n', 'ham ./data/TRAINING/TRAIN_02049.eml\\n', 'spam ./data/TRAINING/TRAIN_04317.eml\\n', 'ham ./data/TRAINING/TRAIN_02051.eml\\n', 'spam ./data/TRAINING/TRAIN_04322.eml\\n', 'ham ./data/TRAINING/TRAIN_02053.eml\\n', 'spam ./data/TRAINING/TRAIN_04326.eml\\n', 'ham ./data/TRAINING/TRAIN_02057.eml\\n', 'ham ./data/TRAINING/TRAIN_02059.eml\\n', 'ham ./data/TRAINING/TRAIN_02061.eml\\n', 'ham ./data/TRAINING/TRAIN_02065.eml\\n', 'ham ./data/TRAINING/TRAIN_02068.eml\\n', 'ham ./data/TRAINING/TRAIN_02071.eml\\n', 'ham ./data/TRAINING/TRAIN_02075.eml\\n', 'ham ./data/TRAINING/TRAIN_02078.eml\\n', 'ham ./data/TRAINING/TRAIN_02080.eml\\n', 'ham ./data/TRAINING/TRAIN_02084.eml\\n', 'ham ./data/TRAINING/TRAIN_02086.eml\\n', 'ham ./data/TRAINING/TRAIN_02089.eml\\n', 'ham ./data/TRAINING/TRAIN_02091.eml\\n', 'ham ./data/TRAINING/TRAIN_02093.eml\\n', 'ham ./data/TRAINING/TRAIN_02095.eml\\n', 'ham ./data/TRAINING/TRAIN_02097.eml\\n', 'ham ./data/TRAINING/TRAIN_02100.eml\\n', 'ham ./data/TRAINING/TRAIN_02103.eml\\n', 'ham ./data/TRAINING/TRAIN_02105.eml\\n', 'ham ./data/TRAINING/TRAIN_02107.eml\\n', 'ham ./data/TRAINING/TRAIN_02110.eml\\n', 'ham ./data/TRAINING/TRAIN_02113.eml\\n', 'ham ./data/TRAINING/TRAIN_02119.eml\\n', 'ham ./data/TRAINING/TRAIN_02121.eml\\n', 'ham ./data/TRAINING/TRAIN_02123.eml\\n', 'ham ./data/TRAINING/TRAIN_02126.eml\\n', 'ham ./data/TRAINING/TRAIN_02129.eml\\n', 'ham ./data/TRAINING/TRAIN_02131.eml\\n', 'ham ./data/TRAINING/TRAIN_02134.eml\\n', 'ham ./data/TRAINING/TRAIN_02136.eml\\n', 'ham ./data/TRAINING/TRAIN_02138.eml\\n', 'ham ./data/TRAINING/TRAIN_02140.eml\\n', 'ham ./data/TRAINING/TRAIN_02142.eml\\n', 'ham ./data/TRAINING/TRAIN_02144.eml\\n', 'ham ./data/TRAINING/TRAIN_02147.eml\\n', 'ham ./data/TRAINING/TRAIN_02149.eml\\n', 'ham ./data/TRAINING/TRAIN_02151.eml\\n', 'ham ./data/TRAINING/TRAIN_02154.eml\\n', 'ham ./data/TRAINING/TRAIN_02156.eml\\n', 'ham ./data/TRAINING/TRAIN_02159.eml\\n', 'ham ./data/TRAINING/TRAIN_02161.eml\\n', 'ham ./data/TRAINING/TRAIN_02165.eml\\n', 'ham ./data/TRAINING/TRAIN_02167.eml\\n', 'ham ./data/TRAINING/TRAIN_02169.eml\\n', 'ham ./data/TRAINING/TRAIN_02171.eml\\n', 'ham ./data/TRAINING/TRAIN_02174.eml\\n', 'ham ./data/TRAINING/TRAIN_02176.eml\\n', 'ham ./data/TRAINING/TRAIN_02178.eml\\n', 'ham ./data/TRAINING/TRAIN_02180.eml\\n', 'ham ./data/TRAINING/TRAIN_02182.eml\\n', 'ham ./data/TRAINING/TRAIN_02184.eml\\n', 'ham ./data/TRAINING/TRAIN_02187.eml\\n', 'ham ./data/TRAINING/TRAIN_02189.eml\\n', 'ham ./data/TRAINING/TRAIN_02191.eml\\n', 'ham ./data/TRAINING/TRAIN_02193.eml\\n', 'ham ./data/TRAINING/TRAIN_02197.eml\\n', 'ham ./data/TRAINING/TRAIN_02203.eml\\n', 'ham ./data/TRAINING/TRAIN_02205.eml\\n', 'ham ./data/TRAINING/TRAIN_02209.eml\\n', 'ham ./data/TRAINING/TRAIN_02213.eml\\n', 'ham ./data/TRAINING/TRAIN_02216.eml\\n', 'ham ./data/TRAINING/TRAIN_02218.eml\\n', 'ham ./data/TRAINING/TRAIN_02222.eml\\n', 'ham ./data/TRAINING/TRAIN_02224.eml\\n', 'ham ./data/TRAINING/TRAIN_02227.eml\\n', 'ham ./data/TRAINING/TRAIN_02230.eml\\n', 'ham ./data/TRAINING/TRAIN_02232.eml\\n', 'ham ./data/TRAINING/TRAIN_02234.eml\\n', 'ham ./data/TRAINING/TRAIN_02238.eml\\n', 'ham ./data/TRAINING/TRAIN_02241.eml\\n', 'ham ./data/TRAINING/TRAIN_02244.eml\\n', 'ham ./data/TRAINING/TRAIN_02246.eml\\n', 'ham ./data/TRAINING/TRAIN_02248.eml\\n', 'ham ./data/TRAINING/TRAIN_02250.eml\\n', 'ham ./data/TRAINING/TRAIN_02253.eml\\n', 'ham ./data/TRAINING/TRAIN_02256.eml\\n', 'ham ./data/TRAINING/TRAIN_02259.eml\\n', 'ham ./data/TRAINING/TRAIN_02261.eml\\n', 'ham ./data/TRAINING/TRAIN_02265.eml\\n', 'ham ./data/TRAINING/TRAIN_02268.eml\\n', 'ham ./data/TRAINING/TRAIN_02270.eml\\n', 'ham ./data/TRAINING/TRAIN_02272.eml\\n', 'ham ./data/TRAINING/TRAIN_02275.eml\\n', 'ham ./data/TRAINING/TRAIN_02279.eml\\n', 'ham ./data/TRAINING/TRAIN_02285.eml\\n', 'ham ./data/TRAINING/TRAIN_02287.eml\\n', 'ham ./data/TRAINING/TRAIN_02290.eml\\n', 'ham ./data/TRAINING/TRAIN_02292.eml\\n', 'ham ./data/TRAINING/TRAIN_02296.eml\\n', 'ham ./data/TRAINING/TRAIN_02299.eml\\n', 'ham ./data/TRAINING/TRAIN_02303.eml\\n', 'ham ./data/TRAINING/TRAIN_02305.eml\\n', 'ham ./data/TRAINING/TRAIN_02308.eml\\n', 'ham ./data/TRAINING/TRAIN_02310.eml\\n', 'ham ./data/TRAINING/TRAIN_02313.eml\\n', 'ham ./data/TRAINING/TRAIN_02315.eml\\n', 'ham ./data/TRAINING/TRAIN_02319.eml\\n', 'ham ./data/TRAINING/TRAIN_02321.eml\\n', 'ham ./data/TRAINING/TRAIN_02324.eml\\n', 'ham ./data/TRAINING/TRAIN_02327.eml\\n', 'ham ./data/TRAINING/TRAIN_02330.eml\\n', 'ham ./data/TRAINING/TRAIN_02332.eml\\n', 'ham ./data/TRAINING/TRAIN_02337.eml\\n', 'ham ./data/TRAINING/TRAIN_02339.eml\\n', 'ham ./data/TRAINING/TRAIN_02342.eml\\n', 'ham ./data/TRAINING/TRAIN_02344.eml\\n', 'ham ./data/TRAINING/TRAIN_02349.eml\\n', 'ham ./data/TRAINING/TRAIN_02351.eml\\n', 'ham ./data/TRAINING/TRAIN_02353.eml\\n', 'ham ./data/TRAINING/TRAIN_02355.eml\\n', 'ham ./data/TRAINING/TRAIN_02357.eml\\n', 'ham ./data/TRAINING/TRAIN_02360.eml\\n', 'ham ./data/TRAINING/TRAIN_02362.eml\\n', 'ham ./data/TRAINING/TRAIN_02366.eml\\n', 'ham ./data/TRAINING/TRAIN_02370.eml\\n', 'ham ./data/TRAINING/TRAIN_02375.eml\\n', 'ham ./data/TRAINING/TRAIN_02377.eml\\n', 'ham ./data/TRAINING/TRAIN_02380.eml\\n', 'ham ./data/TRAINING/TRAIN_02382.eml\\n', 'ham ./data/TRAINING/TRAIN_02384.eml\\n', 'ham ./data/TRAINING/TRAIN_02386.eml\\n', 'ham ./data/TRAINING/TRAIN_02388.eml\\n', 'ham ./data/TRAINING/TRAIN_02391.eml\\n', 'ham ./data/TRAINING/TRAIN_02394.eml\\n', 'ham ./data/TRAINING/TRAIN_02397.eml\\n', 'ham ./data/TRAINING/TRAIN_02399.eml\\n', 'ham ./data/TRAINING/TRAIN_02404.eml\\n', 'ham ./data/TRAINING/TRAIN_02406.eml\\n', 'ham ./data/TRAINING/TRAIN_02409.eml\\n', 'ham ./data/TRAINING/TRAIN_02414.eml\\n', 'ham ./data/TRAINING/TRAIN_02416.eml\\n', 'ham ./data/TRAINING/TRAIN_02418.eml\\n', 'ham ./data/TRAINING/TRAIN_02423.eml\\n', 'ham ./data/TRAINING/TRAIN_02426.eml\\n', 'ham ./data/TRAINING/TRAIN_02428.eml\\n', 'ham ./data/TRAINING/TRAIN_02431.eml\\n', 'ham ./data/TRAINING/TRAIN_02435.eml\\n', 'ham ./data/TRAINING/TRAIN_02438.eml\\n', 'ham ./data/TRAINING/TRAIN_02443.eml\\n', 'ham ./data/TRAINING/TRAIN_02447.eml\\n', 'ham ./data/TRAINING/TRAIN_02449.eml\\n', 'ham ./data/TRAINING/TRAIN_02451.eml\\n', 'ham ./data/TRAINING/TRAIN_02454.eml\\n', 'ham ./data/TRAINING/TRAIN_02456.eml\\n', 'ham ./data/TRAINING/TRAIN_02459.eml\\n', 'ham ./data/TRAINING/TRAIN_02461.eml\\n', 'ham ./data/TRAINING/TRAIN_02465.eml\\n', 'ham ./data/TRAINING/TRAIN_02469.eml\\n', 'ham ./data/TRAINING/TRAIN_02473.eml\\n', 'ham ./data/TRAINING/TRAIN_02475.eml\\n', 'ham ./data/TRAINING/TRAIN_02477.eml\\n', 'ham ./data/TRAINING/TRAIN_02480.eml\\n', 'ham ./data/TRAINING/TRAIN_02484.eml\\n', 'ham ./data/TRAINING/TRAIN_02486.eml\\n', 'ham ./data/TRAINING/TRAIN_02488.eml\\n', 'ham ./data/TRAINING/TRAIN_02492.eml\\n', 'ham ./data/TRAINING/TRAIN_02495.eml\\n', 'ham ./data/TRAINING/TRAIN_02499.eml\\n', 'ham ./data/TRAINING/TRAIN_02501.eml\\n', 'ham ./data/TRAINING/TRAIN_02505.eml\\n', 'ham ./data/TRAINING/TRAIN_02508.eml\\n', 'ham ./data/TRAINING/TRAIN_02510.eml\\n', 'ham ./data/TRAINING/TRAIN_02512.eml\\n', 'ham ./data/TRAINING/TRAIN_02515.eml\\n', 'ham ./data/TRAINING/TRAIN_02517.eml\\n', 'ham ./data/TRAINING/TRAIN_02519.eml\\n', 'ham ./data/TRAINING/TRAIN_02521.eml\\n', 'ham ./data/TRAINING/TRAIN_02523.eml\\n', 'ham ./data/TRAINING/TRAIN_02525.eml\\n', 'ham ./data/TRAINING/TRAIN_02527.eml\\n', 'ham ./data/TRAINING/TRAIN_02531.eml\\n', 'ham ./data/TRAINING/TRAIN_02534.eml\\n', 'ham ./data/TRAINING/TRAIN_02536.eml\\n', 'ham ./data/TRAINING/TRAIN_02538.eml\\n', 'ham ./data/TRAINING/TRAIN_02541.eml\\n', 'ham ./data/TRAINING/TRAIN_02545.eml\\n', 'ham ./data/TRAINING/TRAIN_02547.eml\\n', 'ham ./data/TRAINING/TRAIN_02549.eml\\n', 'ham ./data/TRAINING/TRAIN_02554.eml\\n', 'ham ./data/TRAINING/TRAIN_02558.eml\\n', 'ham ./data/TRAINING/TRAIN_02561.eml\\n', 'ham ./data/TRAINING/TRAIN_02565.eml\\n', 'ham ./data/TRAINING/TRAIN_02567.eml\\n', 'ham ./data/TRAINING/TRAIN_02570.eml\\n', 'ham ./data/TRAINING/TRAIN_02574.eml\\n', 'ham ./data/TRAINING/TRAIN_02577.eml\\n', 'ham ./data/TRAINING/TRAIN_02579.eml\\n', 'ham ./data/TRAINING/TRAIN_02584.eml\\n', 'ham ./data/TRAINING/TRAIN_02587.eml\\n', 'ham ./data/TRAINING/TRAIN_02589.eml\\n', 'ham ./data/TRAINING/TRAIN_02592.eml\\n', 'ham ./data/TRAINING/TRAIN_02594.eml\\n', 'ham ./data/TRAINING/TRAIN_02597.eml\\n', 'ham ./data/TRAINING/TRAIN_02600.eml\\n', 'ham ./data/TRAINING/TRAIN_02603.eml\\n', 'ham ./data/TRAINING/TRAIN_02607.eml\\n', 'ham ./data/TRAINING/TRAIN_02611.eml\\n', 'ham ./data/TRAINING/TRAIN_02614.eml\\n', 'ham ./data/TRAINING/TRAIN_02616.eml\\n', 'ham ./data/TRAINING/TRAIN_02618.eml\\n', 'ham ./data/TRAINING/TRAIN_02624.eml\\n', 'ham ./data/TRAINING/TRAIN_02628.eml\\n', 'ham ./data/TRAINING/TRAIN_02631.eml\\n', 'ham ./data/TRAINING/TRAIN_02634.eml\\n', 'ham ./data/TRAINING/TRAIN_02636.eml\\n', 'ham ./data/TRAINING/TRAIN_02638.eml\\n', 'ham ./data/TRAINING/TRAIN_02640.eml\\n', 'ham ./data/TRAINING/TRAIN_02647.eml\\n', 'ham ./data/TRAINING/TRAIN_02651.eml\\n', 'ham ./data/TRAINING/TRAIN_02655.eml\\n', 'ham ./data/TRAINING/TRAIN_02657.eml\\n', 'ham ./data/TRAINING/TRAIN_02659.eml\\n', 'ham ./data/TRAINING/TRAIN_02662.eml\\n', 'ham ./data/TRAINING/TRAIN_02665.eml\\n', 'ham ./data/TRAINING/TRAIN_02667.eml\\n', 'ham ./data/TRAINING/TRAIN_02670.eml\\n', 'ham ./data/TRAINING/TRAIN_02672.eml\\n', 'ham ./data/TRAINING/TRAIN_02674.eml\\n', 'ham ./data/TRAINING/TRAIN_02677.eml\\n', 'ham ./data/TRAINING/TRAIN_02681.eml\\n', 'ham ./data/TRAINING/TRAIN_02683.eml\\n', 'ham ./data/TRAINING/TRAIN_02686.eml\\n', 'ham ./data/TRAINING/TRAIN_02689.eml\\n', 'ham ./data/TRAINING/TRAIN_02695.eml\\n', 'ham ./data/TRAINING/TRAIN_02697.eml\\n', 'ham ./data/TRAINING/TRAIN_02699.eml\\n', 'ham ./data/TRAINING/TRAIN_02701.eml\\n', 'ham ./data/TRAINING/TRAIN_02704.eml\\n', 'ham ./data/TRAINING/TRAIN_02706.eml\\n', 'ham ./data/TRAINING/TRAIN_02711.eml\\n', 'ham ./data/TRAINING/TRAIN_02714.eml\\n', 'ham ./data/TRAINING/TRAIN_02720.eml\\n', 'ham ./data/TRAINING/TRAIN_02723.eml\\n', 'ham ./data/TRAINING/TRAIN_02725.eml\\n', 'ham ./data/TRAINING/TRAIN_02728.eml\\n', 'ham ./data/TRAINING/TRAIN_02730.eml\\n', 'ham ./data/TRAINING/TRAIN_02734.eml\\n', 'ham ./data/TRAINING/TRAIN_02738.eml\\n', 'ham ./data/TRAINING/TRAIN_02741.eml\\n', 'ham ./data/TRAINING/TRAIN_02746.eml\\n', 'ham ./data/TRAINING/TRAIN_02748.eml\\n', 'ham ./data/TRAINING/TRAIN_02750.eml\\n', 'ham ./data/TRAINING/TRAIN_02753.eml\\n', 'ham ./data/TRAINING/TRAIN_02757.eml\\n', 'ham ./data/TRAINING/TRAIN_02759.eml\\n', 'ham ./data/TRAINING/TRAIN_02761.eml\\n', 'ham ./data/TRAINING/TRAIN_02764.eml\\n', 'ham ./data/TRAINING/TRAIN_02768.eml\\n', 'ham ./data/TRAINING/TRAIN_02771.eml\\n', 'ham ./data/TRAINING/TRAIN_02774.eml\\n', 'ham ./data/TRAINING/TRAIN_02776.eml\\n', 'ham ./data/TRAINING/TRAIN_02779.eml\\n', 'ham ./data/TRAINING/TRAIN_02781.eml\\n', 'ham ./data/TRAINING/TRAIN_02784.eml\\n', 'ham ./data/TRAINING/TRAIN_02787.eml\\n', 'ham ./data/TRAINING/TRAIN_02789.eml\\n', 'ham ./data/TRAINING/TRAIN_02791.eml\\n', 'ham ./data/TRAINING/TRAIN_02793.eml\\n', 'ham ./data/TRAINING/TRAIN_02796.eml\\n', 'ham ./data/TRAINING/TRAIN_02801.eml\\n', 'ham ./data/TRAINING/TRAIN_02803.eml\\n', 'ham ./data/TRAINING/TRAIN_02805.eml\\n', 'ham ./data/TRAINING/TRAIN_02809.eml\\n', 'ham ./data/TRAINING/TRAIN_02811.eml\\n', 'ham ./data/TRAINING/TRAIN_02813.eml\\n', 'ham ./data/TRAINING/TRAIN_02816.eml\\n', 'ham ./data/TRAINING/TRAIN_02819.eml\\n', 'ham ./data/TRAINING/TRAIN_02823.eml\\n', 'ham ./data/TRAINING/TRAIN_02825.eml\\n', 'ham ./data/TRAINING/TRAIN_02828.eml\\n', 'ham ./data/TRAINING/TRAIN_02830.eml\\n', 'ham ./data/TRAINING/TRAIN_02833.eml\\n', 'ham ./data/TRAINING/TRAIN_02836.eml\\n', 'ham ./data/TRAINING/TRAIN_02838.eml\\n', 'ham ./data/TRAINING/TRAIN_02840.eml\\n', 'ham ./data/TRAINING/TRAIN_02848.eml\\n', 'ham ./data/TRAINING/TRAIN_02852.eml\\n', 'ham ./data/TRAINING/TRAIN_02855.eml\\n', 'ham ./data/TRAINING/TRAIN_02859.eml\\n', 'ham ./data/TRAINING/TRAIN_02863.eml\\n', 'ham ./data/TRAINING/TRAIN_02865.eml\\n', 'ham ./data/TRAINING/TRAIN_02867.eml\\n', 'ham ./data/TRAINING/TRAIN_02870.eml\\n', 'ham ./data/TRAINING/TRAIN_02872.eml\\n', 'ham ./data/TRAINING/TRAIN_02875.eml\\n', 'ham ./data/TRAINING/TRAIN_02877.eml\\n', 'ham ./data/TRAINING/TRAIN_02880.eml\\n', 'ham ./data/TRAINING/TRAIN_02882.eml\\n', 'ham ./data/TRAINING/TRAIN_02884.eml\\n', 'ham ./data/TRAINING/TRAIN_02888.eml\\n', 'ham ./data/TRAINING/TRAIN_02891.eml\\n', 'ham ./data/TRAINING/TRAIN_02894.eml\\n', 'ham ./data/TRAINING/TRAIN_02896.eml\\n', 'ham ./data/TRAINING/TRAIN_02898.eml\\n', 'ham ./data/TRAINING/TRAIN_02900.eml\\n', 'ham ./data/TRAINING/TRAIN_02903.eml\\n', 'ham ./data/TRAINING/TRAIN_02907.eml\\n', 'ham ./data/TRAINING/TRAIN_02909.eml\\n', 'ham ./data/TRAINING/TRAIN_02911.eml\\n', 'ham ./data/TRAINING/TRAIN_02914.eml\\n', 'ham ./data/TRAINING/TRAIN_02917.eml\\n', 'ham ./data/TRAINING/TRAIN_02920.eml\\n', 'ham ./data/TRAINING/TRAIN_02922.eml\\n', 'ham ./data/TRAINING/TRAIN_02924.eml\\n', 'ham ./data/TRAINING/TRAIN_02927.eml\\n', 'ham ./data/TRAINING/TRAIN_02929.eml\\n', 'ham ./data/TRAINING/TRAIN_02931.eml\\n', 'ham ./data/TRAINING/TRAIN_02933.eml\\n', 'ham ./data/TRAINING/TRAIN_02935.eml\\n', 'ham ./data/TRAINING/TRAIN_02937.eml\\n', 'ham ./data/TRAINING/TRAIN_02940.eml\\n', 'ham ./data/TRAINING/TRAIN_02943.eml\\n', 'ham ./data/TRAINING/TRAIN_02945.eml\\n', 'ham ./data/TRAINING/TRAIN_02947.eml\\n', 'ham ./data/TRAINING/TRAIN_02951.eml\\n', 'ham ./data/TRAINING/TRAIN_02953.eml\\n', 'ham ./data/TRAINING/TRAIN_02958.eml\\n', 'ham ./data/TRAINING/TRAIN_02960.eml\\n', 'ham ./data/TRAINING/TRAIN_02962.eml\\n', 'ham ./data/TRAINING/TRAIN_02964.eml\\n', 'ham ./data/TRAINING/TRAIN_02967.eml\\n', 'ham ./data/TRAINING/TRAIN_02969.eml\\n', 'ham ./data/TRAINING/TRAIN_02971.eml\\n', 'ham ./data/TRAINING/TRAIN_02973.eml\\n', 'ham ./data/TRAINING/TRAIN_02975.eml\\n', 'ham ./data/TRAINING/TRAIN_02977.eml\\n', 'ham ./data/TRAINING/TRAIN_02979.eml\\n', 'ham ./data/TRAINING/TRAIN_02986.eml\\n', 'ham ./data/TRAINING/TRAIN_02988.eml\\n', 'ham ./data/TRAINING/TRAIN_02991.eml\\n', 'ham ./data/TRAINING/TRAIN_02993.eml\\n', 'ham ./data/TRAINING/TRAIN_02995.eml\\n', 'ham ./data/TRAINING/TRAIN_03000.eml\\n', 'ham ./data/TRAINING/TRAIN_03003.eml\\n', 'ham ./data/TRAINING/TRAIN_03005.eml\\n', 'ham ./data/TRAINING/TRAIN_03007.eml\\n', 'ham ./data/TRAINING/TRAIN_03010.eml\\n', 'ham ./data/TRAINING/TRAIN_03013.eml\\n', 'ham ./data/TRAINING/TRAIN_03015.eml\\n', 'ham ./data/TRAINING/TRAIN_03018.eml\\n', 'ham ./data/TRAINING/TRAIN_03021.eml\\n', 'ham ./data/TRAINING/TRAIN_03024.eml\\n', 'ham ./data/TRAINING/TRAIN_03027.eml\\n', 'ham ./data/TRAINING/TRAIN_03029.eml\\n', 'ham ./data/TRAINING/TRAIN_03032.eml\\n', 'ham ./data/TRAINING/TRAIN_03034.eml\\n', 'ham ./data/TRAINING/TRAIN_03037.eml\\n', 'ham ./data/TRAINING/TRAIN_03039.eml\\n', 'ham ./data/TRAINING/TRAIN_03042.eml\\n', 'ham ./data/TRAINING/TRAIN_03045.eml\\n', 'ham ./data/TRAINING/TRAIN_03049.eml\\n', 'ham ./data/TRAINING/TRAIN_03051.eml\\n', 'ham ./data/TRAINING/TRAIN_03053.eml\\n', 'ham ./data/TRAINING/TRAIN_03058.eml\\n', 'ham ./data/TRAINING/TRAIN_03060.eml\\n', 'ham ./data/TRAINING/TRAIN_03062.eml\\n', 'ham ./data/TRAINING/TRAIN_03066.eml\\n', 'ham ./data/TRAINING/TRAIN_03068.eml\\n', 'ham ./data/TRAINING/TRAIN_03072.eml\\n', 'ham ./data/TRAINING/TRAIN_03074.eml\\n', 'ham ./data/TRAINING/TRAIN_03078.eml\\n', 'ham ./data/TRAINING/TRAIN_03080.eml\\n', 'ham ./data/TRAINING/TRAIN_03082.eml\\n', 'ham ./data/TRAINING/TRAIN_03084.eml\\n', 'ham ./data/TRAINING/TRAIN_03087.eml\\n', 'ham ./data/TRAINING/TRAIN_03089.eml\\n', 'ham ./data/TRAINING/TRAIN_03092.eml\\n', 'ham ./data/TRAINING/TRAIN_03096.eml\\n', 'ham ./data/TRAINING/TRAIN_03100.eml\\n', 'ham ./data/TRAINING/TRAIN_03102.eml\\n', 'ham ./data/TRAINING/TRAIN_03105.eml\\n', 'ham ./data/TRAINING/TRAIN_03109.eml\\n', 'ham ./data/TRAINING/TRAIN_03114.eml\\n', 'ham ./data/TRAINING/TRAIN_03117.eml\\n', 'ham ./data/TRAINING/TRAIN_03119.eml\\n', 'ham ./data/TRAINING/TRAIN_03121.eml\\n', 'ham ./data/TRAINING/TRAIN_03124.eml\\n', 'ham ./data/TRAINING/TRAIN_03126.eml\\n', 'ham ./data/TRAINING/TRAIN_03128.eml\\n', 'ham ./data/TRAINING/TRAIN_03131.eml\\n', 'ham ./data/TRAINING/TRAIN_03134.eml\\n', 'ham ./data/TRAINING/TRAIN_03136.eml\\n', 'ham ./data/TRAINING/TRAIN_03138.eml\\n', 'ham ./data/TRAINING/TRAIN_03140.eml\\n', 'ham ./data/TRAINING/TRAIN_03143.eml\\n', 'ham ./data/TRAINING/TRAIN_03145.eml\\n', 'ham ./data/TRAINING/TRAIN_03147.eml\\n', 'ham ./data/TRAINING/TRAIN_03149.eml\\n', 'ham ./data/TRAINING/TRAIN_03151.eml\\n', 'ham ./data/TRAINING/TRAIN_03155.eml\\n', 'ham ./data/TRAINING/TRAIN_03162.eml\\n', 'ham ./data/TRAINING/TRAIN_03165.eml\\n', 'ham ./data/TRAINING/TRAIN_03167.eml\\n', 'ham ./data/TRAINING/TRAIN_03169.eml\\n', 'ham ./data/TRAINING/TRAIN_03171.eml\\n', 'ham ./data/TRAINING/TRAIN_03173.eml\\n', 'ham ./data/TRAINING/TRAIN_03175.eml\\n', 'ham ./data/TRAINING/TRAIN_03178.eml\\n', 'ham ./data/TRAINING/TRAIN_03180.eml\\n', 'ham ./data/TRAINING/TRAIN_03182.eml\\n', 'ham ./data/TRAINING/TRAIN_03184.eml\\n', 'ham ./data/TRAINING/TRAIN_03186.eml\\n', 'ham ./data/TRAINING/TRAIN_03188.eml\\n', 'ham ./data/TRAINING/TRAIN_03190.eml\\n', 'ham ./data/TRAINING/TRAIN_03194.eml\\n', 'ham ./data/TRAINING/TRAIN_03197.eml\\n', 'ham ./data/TRAINING/TRAIN_03200.eml\\n', 'ham ./data/TRAINING/TRAIN_03203.eml\\n', 'ham ./data/TRAINING/TRAIN_03206.eml\\n', 'ham ./data/TRAINING/TRAIN_03211.eml\\n', 'ham ./data/TRAINING/TRAIN_03213.eml\\n', 'ham ./data/TRAINING/TRAIN_03216.eml\\n', 'ham ./data/TRAINING/TRAIN_03220.eml\\n', 'ham ./data/TRAINING/TRAIN_03222.eml\\n', 'ham ./data/TRAINING/TRAIN_03224.eml\\n', 'ham ./data/TRAINING/TRAIN_03229.eml\\n', 'ham ./data/TRAINING/TRAIN_03231.eml\\n', 'ham ./data/TRAINING/TRAIN_03234.eml\\n', 'ham ./data/TRAINING/TRAIN_03236.eml\\n', 'ham ./data/TRAINING/TRAIN_03238.eml\\n', 'ham ./data/TRAINING/TRAIN_03240.eml\\n', 'ham ./data/TRAINING/TRAIN_03243.eml\\n', 'ham ./data/TRAINING/TRAIN_03245.eml\\n', 'ham ./data/TRAINING/TRAIN_03247.eml\\n', 'ham ./data/TRAINING/TRAIN_03249.eml\\n', 'ham ./data/TRAINING/TRAIN_03252.eml\\n', 'ham ./data/TRAINING/TRAIN_03255.eml\\n', 'ham ./data/TRAINING/TRAIN_03257.eml\\n', 'ham ./data/TRAINING/TRAIN_03259.eml\\n', 'ham ./data/TRAINING/TRAIN_03262.eml\\n', 'ham ./data/TRAINING/TRAIN_03264.eml\\n', 'ham ./data/TRAINING/TRAIN_03269.eml\\n', 'ham ./data/TRAINING/TRAIN_03273.eml\\n', 'ham ./data/TRAINING/TRAIN_03276.eml\\n', 'ham ./data/TRAINING/TRAIN_03279.eml\\n', 'ham ./data/TRAINING/TRAIN_03284.eml\\n', 'ham ./data/TRAINING/TRAIN_03289.eml\\n', 'ham ./data/TRAINING/TRAIN_03292.eml\\n', 'ham ./data/TRAINING/TRAIN_03295.eml\\n', 'ham ./data/TRAINING/TRAIN_03297.eml\\n', 'ham ./data/TRAINING/TRAIN_03301.eml\\n', 'ham ./data/TRAINING/TRAIN_03303.eml\\n', 'ham ./data/TRAINING/TRAIN_03307.eml\\n', 'ham ./data/TRAINING/TRAIN_03309.eml\\n', 'ham ./data/TRAINING/TRAIN_03311.eml\\n', 'ham ./data/TRAINING/TRAIN_03313.eml\\n', 'ham ./data/TRAINING/TRAIN_03316.eml\\n', 'ham ./data/TRAINING/TRAIN_03318.eml\\n', 'ham ./data/TRAINING/TRAIN_03320.eml\\n', 'ham ./data/TRAINING/TRAIN_03325.eml\\n', 'ham ./data/TRAINING/TRAIN_03327.eml\\n', 'ham ./data/TRAINING/TRAIN_03329.eml\\n', 'ham ./data/TRAINING/TRAIN_03331.eml\\n', 'ham ./data/TRAINING/TRAIN_03333.eml\\n', 'ham ./data/TRAINING/TRAIN_03335.eml\\n', 'ham ./data/TRAINING/TRAIN_03338.eml\\n', 'ham ./data/TRAINING/TRAIN_03341.eml\\n', 'ham ./data/TRAINING/TRAIN_03344.eml\\n', 'ham ./data/TRAINING/TRAIN_03346.eml\\n', 'ham ./data/TRAINING/TRAIN_03348.eml\\n', 'ham ./data/TRAINING/TRAIN_03351.eml\\n', 'ham ./data/TRAINING/TRAIN_03353.eml\\n', 'ham ./data/TRAINING/TRAIN_03355.eml\\n', 'ham ./data/TRAINING/TRAIN_03357.eml\\n', 'ham ./data/TRAINING/TRAIN_03360.eml\\n', 'ham ./data/TRAINING/TRAIN_03362.eml\\n', 'ham ./data/TRAINING/TRAIN_03366.eml\\n', 'ham ./data/TRAINING/TRAIN_03372.eml\\n', 'ham ./data/TRAINING/TRAIN_03374.eml\\n', 'ham ./data/TRAINING/TRAIN_03376.eml\\n', 'ham ./data/TRAINING/TRAIN_03382.eml\\n', 'ham ./data/TRAINING/TRAIN_03384.eml\\n', 'ham ./data/TRAINING/TRAIN_03386.eml\\n', 'ham ./data/TRAINING/TRAIN_03391.eml\\n', 'ham ./data/TRAINING/TRAIN_03400.eml\\n', 'ham ./data/TRAINING/TRAIN_03403.eml\\n', 'ham ./data/TRAINING/TRAIN_03406.eml\\n', 'ham ./data/TRAINING/TRAIN_03411.eml\\n', 'ham ./data/TRAINING/TRAIN_03414.eml\\n', 'ham ./data/TRAINING/TRAIN_03417.eml\\n', 'ham ./data/TRAINING/TRAIN_03419.eml\\n', 'ham ./data/TRAINING/TRAIN_03421.eml\\n', 'ham ./data/TRAINING/TRAIN_03423.eml\\n', 'ham ./data/TRAINING/TRAIN_03425.eml\\n', 'ham ./data/TRAINING/TRAIN_03427.eml\\n', 'ham ./data/TRAINING/TRAIN_03429.eml\\n', 'ham ./data/TRAINING/TRAIN_03432.eml\\n', 'ham ./data/TRAINING/TRAIN_03434.eml\\n', 'ham ./data/TRAINING/TRAIN_03436.eml\\n', 'ham ./data/TRAINING/TRAIN_03440.eml\\n', 'ham ./data/TRAINING/TRAIN_03442.eml\\n', 'ham ./data/TRAINING/TRAIN_03444.eml\\n', 'ham ./data/TRAINING/TRAIN_03446.eml\\n', 'ham ./data/TRAINING/TRAIN_03449.eml\\n', 'ham ./data/TRAINING/TRAIN_03451.eml\\n', 'ham ./data/TRAINING/TRAIN_03454.eml\\n', 'ham ./data/TRAINING/TRAIN_03457.eml\\n', 'ham ./data/TRAINING/TRAIN_03460.eml\\n', 'ham ./data/TRAINING/TRAIN_03462.eml\\n', 'ham ./data/TRAINING/TRAIN_03468.eml\\n', 'ham ./data/TRAINING/TRAIN_03470.eml\\n', 'ham ./data/TRAINING/TRAIN_03472.eml\\n', 'ham ./data/TRAINING/TRAIN_03475.eml\\n', 'ham ./data/TRAINING/TRAIN_03478.eml\\n', 'ham ./data/TRAINING/TRAIN_03483.eml\\n', 'ham ./data/TRAINING/TRAIN_03486.eml\\n', 'ham ./data/TRAINING/TRAIN_03488.eml\\n', 'ham ./data/TRAINING/TRAIN_03492.eml\\n', 'ham ./data/TRAINING/TRAIN_03494.eml\\n', 'ham ./data/TRAINING/TRAIN_03496.eml\\n', 'ham ./data/TRAINING/TRAIN_03499.eml\\n', 'ham ./data/TRAINING/TRAIN_03502.eml\\n', 'ham ./data/TRAINING/TRAIN_03504.eml\\n', 'ham ./data/TRAINING/TRAIN_03506.eml\\n', 'ham ./data/TRAINING/TRAIN_03508.eml\\n', 'ham ./data/TRAINING/TRAIN_03510.eml\\n', 'ham ./data/TRAINING/TRAIN_03512.eml\\n', 'ham ./data/TRAINING/TRAIN_03514.eml\\n', 'ham ./data/TRAINING/TRAIN_03518.eml\\n', 'ham ./data/TRAINING/TRAIN_03520.eml\\n', 'ham ./data/TRAINING/TRAIN_03522.eml\\n', 'ham ./data/TRAINING/TRAIN_03524.eml\\n', 'ham ./data/TRAINING/TRAIN_03528.eml\\n', 'ham ./data/TRAINING/TRAIN_03531.eml\\n', 'ham ./data/TRAINING/TRAIN_03533.eml\\n', 'ham ./data/TRAINING/TRAIN_03537.eml\\n', 'ham ./data/TRAINING/TRAIN_03541.eml\\n', 'ham ./data/TRAINING/TRAIN_03544.eml\\n', 'ham ./data/TRAINING/TRAIN_03546.eml\\n', 'ham ./data/TRAINING/TRAIN_03550.eml\\n', 'ham ./data/TRAINING/TRAIN_03552.eml\\n', 'ham ./data/TRAINING/TRAIN_03555.eml\\n', 'ham ./data/TRAINING/TRAIN_03558.eml\\n', 'ham ./data/TRAINING/TRAIN_03560.eml\\n', 'ham ./data/TRAINING/TRAIN_03562.eml\\n', 'ham ./data/TRAINING/TRAIN_03564.eml\\n', 'ham ./data/TRAINING/TRAIN_03567.eml\\n', 'ham ./data/TRAINING/TRAIN_03569.eml\\n', 'ham ./data/TRAINING/TRAIN_03573.eml\\n', 'ham ./data/TRAINING/TRAIN_03577.eml\\n', 'ham ./data/TRAINING/TRAIN_03579.eml\\n', 'ham ./data/TRAINING/TRAIN_03581.eml\\n', 'ham ./data/TRAINING/TRAIN_03586.eml\\n', 'ham ./data/TRAINING/TRAIN_03588.eml\\n', 'ham ./data/TRAINING/TRAIN_03591.eml\\n', 'ham ./data/TRAINING/TRAIN_03593.eml\\n', 'ham ./data/TRAINING/TRAIN_03596.eml\\n', 'ham ./data/TRAINING/TRAIN_03598.eml\\n', 'ham ./data/TRAINING/TRAIN_03606.eml\\n', 'ham ./data/TRAINING/TRAIN_03608.eml\\n', 'ham ./data/TRAINING/TRAIN_03613.eml\\n', 'ham ./data/TRAINING/TRAIN_03618.eml\\n', 'ham ./data/TRAINING/TRAIN_03622.eml\\n', 'ham ./data/TRAINING/TRAIN_03625.eml\\n', 'ham ./data/TRAINING/TRAIN_03627.eml\\n', 'ham ./data/TRAINING/TRAIN_03631.eml\\n', 'ham ./data/TRAINING/TRAIN_03634.eml\\n', 'ham ./data/TRAINING/TRAIN_03636.eml\\n', 'ham ./data/TRAINING/TRAIN_03638.eml\\n', 'ham ./data/TRAINING/TRAIN_03645.eml\\n', 'ham ./data/TRAINING/TRAIN_03647.eml\\n', 'ham ./data/TRAINING/TRAIN_03649.eml\\n', 'ham ./data/TRAINING/TRAIN_03652.eml\\n', 'ham ./data/TRAINING/TRAIN_03654.eml\\n', 'ham ./data/TRAINING/TRAIN_03656.eml\\n', 'ham ./data/TRAINING/TRAIN_03659.eml\\n', 'ham ./data/TRAINING/TRAIN_03661.eml\\n', 'ham ./data/TRAINING/TRAIN_03663.eml\\n', 'ham ./data/TRAINING/TRAIN_03666.eml\\n', 'ham ./data/TRAINING/TRAIN_03668.eml\\n', 'ham ./data/TRAINING/TRAIN_03671.eml\\n', 'ham ./data/TRAINING/TRAIN_03673.eml\\n', 'ham ./data/TRAINING/TRAIN_03679.eml\\n', 'ham ./data/TRAINING/TRAIN_03681.eml\\n', 'ham ./data/TRAINING/TRAIN_03684.eml\\n', 'ham ./data/TRAINING/TRAIN_03686.eml\\n', 'ham ./data/TRAINING/TRAIN_03690.eml\\n', 'ham ./data/TRAINING/TRAIN_03692.eml\\n', 'ham ./data/TRAINING/TRAIN_03695.eml\\n', 'ham ./data/TRAINING/TRAIN_03703.eml\\n', 'ham ./data/TRAINING/TRAIN_03705.eml\\n', 'ham ./data/TRAINING/TRAIN_03707.eml\\n', 'ham ./data/TRAINING/TRAIN_03710.eml\\n', 'ham ./data/TRAINING/TRAIN_03712.eml\\n', 'ham ./data/TRAINING/TRAIN_03714.eml\\n', 'ham ./data/TRAINING/TRAIN_03716.eml\\n', 'ham ./data/TRAINING/TRAIN_03718.eml\\n', 'ham ./data/TRAINING/TRAIN_03722.eml\\n', 'ham ./data/TRAINING/TRAIN_03726.eml\\n', 'ham ./data/TRAINING/TRAIN_03730.eml\\n', 'ham ./data/TRAINING/TRAIN_03733.eml\\n', 'ham ./data/TRAINING/TRAIN_03737.eml\\n', 'ham ./data/TRAINING/TRAIN_03744.eml\\n', 'ham ./data/TRAINING/TRAIN_03746.eml\\n', 'ham ./data/TRAINING/TRAIN_03751.eml\\n', 'ham ./data/TRAINING/TRAIN_03755.eml\\n', 'ham ./data/TRAINING/TRAIN_03757.eml\\n', 'ham ./data/TRAINING/TRAIN_03759.eml\\n', 'ham ./data/TRAINING/TRAIN_03764.eml\\n', 'ham ./data/TRAINING/TRAIN_03766.eml\\n', 'ham ./data/TRAINING/TRAIN_03770.eml\\n', 'ham ./data/TRAINING/TRAIN_03772.eml\\n', 'ham ./data/TRAINING/TRAIN_03775.eml\\n', 'ham ./data/TRAINING/TRAIN_03778.eml\\n', 'ham ./data/TRAINING/TRAIN_03780.eml\\n', 'ham ./data/TRAINING/TRAIN_03782.eml\\n', 'ham ./data/TRAINING/TRAIN_03787.eml\\n', 'ham ./data/TRAINING/TRAIN_03789.eml\\n', 'ham ./data/TRAINING/TRAIN_03792.eml\\n', 'ham ./data/TRAINING/TRAIN_03795.eml\\n', 'ham ./data/TRAINING/TRAIN_03797.eml\\n', 'ham ./data/TRAINING/TRAIN_03801.eml\\n', 'ham ./data/TRAINING/TRAIN_03804.eml\\n', 'ham ./data/TRAINING/TRAIN_03807.eml\\n', 'ham ./data/TRAINING/TRAIN_03809.eml\\n', 'ham ./data/TRAINING/TRAIN_03813.eml\\n', 'ham ./data/TRAINING/TRAIN_03819.eml\\n', 'ham ./data/TRAINING/TRAIN_03821.eml\\n', 'ham ./data/TRAINING/TRAIN_03823.eml\\n', 'ham ./data/TRAINING/TRAIN_03828.eml\\n', 'ham ./data/TRAINING/TRAIN_03830.eml\\n', 'ham ./data/TRAINING/TRAIN_03832.eml\\n', 'ham ./data/TRAINING/TRAIN_03834.eml\\n', 'ham ./data/TRAINING/TRAIN_03839.eml\\n', 'ham ./data/TRAINING/TRAIN_03841.eml\\n', 'ham ./data/TRAINING/TRAIN_03844.eml\\n', 'ham ./data/TRAINING/TRAIN_03846.eml\\n', 'ham ./data/TRAINING/TRAIN_03849.eml\\n', 'ham ./data/TRAINING/TRAIN_03851.eml\\n', 'ham ./data/TRAINING/TRAIN_03853.eml\\n', 'ham ./data/TRAINING/TRAIN_03855.eml\\n', 'ham ./data/TRAINING/TRAIN_03860.eml\\n', 'ham ./data/TRAINING/TRAIN_03862.eml\\n', 'ham ./data/TRAINING/TRAIN_03865.eml\\n', 'ham ./data/TRAINING/TRAIN_03867.eml\\n', 'ham ./data/TRAINING/TRAIN_03871.eml\\n', 'ham ./data/TRAINING/TRAIN_03874.eml\\n', 'ham ./data/TRAINING/TRAIN_03876.eml\\n', 'ham ./data/TRAINING/TRAIN_03878.eml\\n', 'ham ./data/TRAINING/TRAIN_03883.eml\\n', 'ham ./data/TRAINING/TRAIN_03887.eml\\n', 'ham ./data/TRAINING/TRAIN_03890.eml\\n', 'ham ./data/TRAINING/TRAIN_03893.eml\\n', 'ham ./data/TRAINING/TRAIN_03896.eml\\n', 'ham ./data/TRAINING/TRAIN_03899.eml\\n', 'ham ./data/TRAINING/TRAIN_03901.eml\\n', 'ham ./data/TRAINING/TRAIN_03904.eml\\n', 'ham ./data/TRAINING/TRAIN_03906.eml\\n', 'ham ./data/TRAINING/TRAIN_03908.eml\\n', 'ham ./data/TRAINING/TRAIN_03912.eml\\n', 'ham ./data/TRAINING/TRAIN_03917.eml\\n', 'ham ./data/TRAINING/TRAIN_03922.eml\\n', 'ham ./data/TRAINING/TRAIN_03925.eml\\n', 'ham ./data/TRAINING/TRAIN_03927.eml\\n', 'ham ./data/TRAINING/TRAIN_03929.eml\\n', 'ham ./data/TRAINING/TRAIN_03934.eml\\n', 'ham ./data/TRAINING/TRAIN_03936.eml\\n', 'ham ./data/TRAINING/TRAIN_03938.eml\\n', 'ham ./data/TRAINING/TRAIN_03941.eml\\n', 'ham ./data/TRAINING/TRAIN_03943.eml\\n', 'ham ./data/TRAINING/TRAIN_03946.eml\\n', 'ham ./data/TRAINING/TRAIN_03948.eml\\n', 'ham ./data/TRAINING/TRAIN_03951.eml\\n', 'ham ./data/TRAINING/TRAIN_03955.eml\\n', 'ham ./data/TRAINING/TRAIN_03958.eml\\n', 'ham ./data/TRAINING/TRAIN_03961.eml\\n', 'ham ./data/TRAINING/TRAIN_03966.eml\\n', 'ham ./data/TRAINING/TRAIN_03969.eml\\n', 'ham ./data/TRAINING/TRAIN_03972.eml\\n', 'ham ./data/TRAINING/TRAIN_03974.eml\\n', 'ham ./data/TRAINING/TRAIN_03977.eml\\n', 'ham ./data/TRAINING/TRAIN_03979.eml\\n', 'ham ./data/TRAINING/TRAIN_03981.eml\\n', 'ham ./data/TRAINING/TRAIN_03983.eml\\n', 'ham ./data/TRAINING/TRAIN_03985.eml\\n', 'ham ./data/TRAINING/TRAIN_03988.eml\\n', 'ham ./data/TRAINING/TRAIN_03991.eml\\n', 'ham ./data/TRAINING/TRAIN_03997.eml\\n', 'ham ./data/TRAINING/TRAIN_03999.eml\\n', 'ham ./data/TRAINING/TRAIN_04005.eml\\n', 'ham ./data/TRAINING/TRAIN_04007.eml\\n', 'ham ./data/TRAINING/TRAIN_04009.eml\\n', 'ham ./data/TRAINING/TRAIN_04011.eml\\n', 'ham ./data/TRAINING/TRAIN_04016.eml\\n', 'ham ./data/TRAINING/TRAIN_04018.eml\\n', 'ham ./data/TRAINING/TRAIN_04020.eml\\n', 'ham ./data/TRAINING/TRAIN_04022.eml\\n', 'ham ./data/TRAINING/TRAIN_04027.eml\\n', 'ham ./data/TRAINING/TRAIN_04031.eml\\n', 'ham ./data/TRAINING/TRAIN_04035.eml\\n', 'ham ./data/TRAINING/TRAIN_04039.eml\\n', 'ham ./data/TRAINING/TRAIN_04042.eml\\n', 'ham ./data/TRAINING/TRAIN_04044.eml\\n', 'ham ./data/TRAINING/TRAIN_04047.eml\\n', 'ham ./data/TRAINING/TRAIN_04050.eml\\n', 'ham ./data/TRAINING/TRAIN_04056.eml\\n', 'ham ./data/TRAINING/TRAIN_04060.eml\\n', 'ham ./data/TRAINING/TRAIN_04062.eml\\n', 'ham ./data/TRAINING/TRAIN_04065.eml\\n', 'ham ./data/TRAINING/TRAIN_04068.eml\\n', 'ham ./data/TRAINING/TRAIN_04071.eml\\n', 'ham ./data/TRAINING/TRAIN_04073.eml\\n', 'ham ./data/TRAINING/TRAIN_04076.eml\\n', 'ham ./data/TRAINING/TRAIN_04079.eml\\n', 'ham ./data/TRAINING/TRAIN_04081.eml\\n', 'ham ./data/TRAINING/TRAIN_04084.eml\\n', 'ham ./data/TRAINING/TRAIN_04087.eml\\n', 'ham ./data/TRAINING/TRAIN_04093.eml\\n', 'ham ./data/TRAINING/TRAIN_04095.eml\\n', 'ham ./data/TRAINING/TRAIN_04099.eml\\n', 'ham ./data/TRAINING/TRAIN_04103.eml\\n', 'ham ./data/TRAINING/TRAIN_04106.eml\\n', 'ham ./data/TRAINING/TRAIN_04110.eml\\n', 'ham ./data/TRAINING/TRAIN_04113.eml\\n', 'ham ./data/TRAINING/TRAIN_04117.eml\\n', 'ham ./data/TRAINING/TRAIN_04120.eml\\n', 'ham ./data/TRAINING/TRAIN_04124.eml\\n', 'ham ./data/TRAINING/TRAIN_04127.eml\\n', 'ham ./data/TRAINING/TRAIN_04130.eml\\n', 'ham ./data/TRAINING/TRAIN_04135.eml\\n', 'ham ./data/TRAINING/TRAIN_04139.eml\\n', 'ham ./data/TRAINING/TRAIN_04141.eml\\n', 'ham ./data/TRAINING/TRAIN_04145.eml\\n', 'ham ./data/TRAINING/TRAIN_04149.eml\\n', 'ham ./data/TRAINING/TRAIN_04151.eml\\n', 'ham ./data/TRAINING/TRAIN_04155.eml\\n', 'ham ./data/TRAINING/TRAIN_04158.eml\\n', 'ham ./data/TRAINING/TRAIN_04160.eml\\n', 'ham ./data/TRAINING/TRAIN_04164.eml\\n', 'ham ./data/TRAINING/TRAIN_04166.eml\\n', 'ham ./data/TRAINING/TRAIN_04169.eml\\n', 'ham ./data/TRAINING/TRAIN_04171.eml\\n', 'ham ./data/TRAINING/TRAIN_04173.eml\\n', 'ham ./data/TRAINING/TRAIN_04177.eml\\n', 'ham ./data/TRAINING/TRAIN_04180.eml\\n', 'ham ./data/TRAINING/TRAIN_04183.eml\\n', 'ham ./data/TRAINING/TRAIN_04187.eml\\n', 'ham ./data/TRAINING/TRAIN_04189.eml\\n', 'ham ./data/TRAINING/TRAIN_04192.eml\\n', 'ham ./data/TRAINING/TRAIN_04195.eml\\n', 'ham ./data/TRAINING/TRAIN_04197.eml\\n', 'ham ./data/TRAINING/TRAIN_04199.eml\\n', 'ham ./data/TRAINING/TRAIN_04203.eml\\n', 'ham ./data/TRAINING/TRAIN_04205.eml\\n', 'ham ./data/TRAINING/TRAIN_04208.eml\\n', 'ham ./data/TRAINING/TRAIN_04211.eml\\n', 'ham ./data/TRAINING/TRAIN_04213.eml\\n', 'ham ./data/TRAINING/TRAIN_04217.eml\\n', 'ham ./data/TRAINING/TRAIN_04219.eml\\n', 'ham ./data/TRAINING/TRAIN_04223.eml\\n', 'ham ./data/TRAINING/TRAIN_04226.eml\\n', 'ham ./data/TRAINING/TRAIN_04228.eml\\n', 'ham ./data/TRAINING/TRAIN_04230.eml\\n', 'ham ./data/TRAINING/TRAIN_04233.eml\\n', 'ham ./data/TRAINING/TRAIN_04236.eml\\n', 'ham ./data/TRAINING/TRAIN_04240.eml\\n', 'ham ./data/TRAINING/TRAIN_04243.eml\\n', 'ham ./data/TRAINING/TRAIN_04245.eml\\n', 'ham ./data/TRAINING/TRAIN_04247.eml\\n', 'ham ./data/TRAINING/TRAIN_04249.eml\\n', 'ham ./data/TRAINING/TRAIN_04252.eml\\n', 'ham ./data/TRAINING/TRAIN_04254.eml\\n', 'ham ./data/TRAINING/TRAIN_04256.eml\\n', 'ham ./data/TRAINING/TRAIN_04264.eml\\n', 'ham ./data/TRAINING/TRAIN_04266.eml\\n', 'ham ./data/TRAINING/TRAIN_04269.eml\\n', 'ham ./data/TRAINING/TRAIN_04271.eml\\n', 'ham ./data/TRAINING/TRAIN_04273.eml\\n', 'ham ./data/TRAINING/TRAIN_04275.eml\\n', 'ham ./data/TRAINING/TRAIN_04277.eml\\n', 'ham ./data/TRAINING/TRAIN_04279.eml\\n', 'ham ./data/TRAINING/TRAIN_04281.eml\\n', 'ham ./data/TRAINING/TRAIN_04285.eml\\n', 'ham ./data/TRAINING/TRAIN_04287.eml\\n', 'ham ./data/TRAINING/TRAIN_04291.eml\\n', 'ham ./data/TRAINING/TRAIN_04295.eml\\n', 'ham ./data/TRAINING/TRAIN_04299.eml\\n', 'ham ./data/TRAINING/TRAIN_04302.eml\\n', 'ham ./data/TRAINING/TRAIN_04304.eml\\n', 'ham ./data/TRAINING/TRAIN_04307.eml\\n', 'ham ./data/TRAINING/TRAIN_04309.eml\\n', 'ham ./data/TRAINING/TRAIN_04311.eml\\n', 'ham ./data/TRAINING/TRAIN_04316.eml\\n', 'ham ./data/TRAINING/TRAIN_04320.eml\\n', 'ham ./data/TRAINING/TRAIN_04323.eml\\n']\n"
     ]
    }
   ],
   "source": [
    "with open(\"master/ML-master/lab2/data/fold_suma.label\" ,'a') as f_sum:\n",
    "  with open('master/ML-master/lab2/data/fold2.label', 'r') as f2:\n",
    "    with open(\"master/ML-master/lab2/data/fold1.label\",\"r\") as f1:\n",
    "      #Read first file\n",
    "      f2_lines = f2.readlines()\n",
    "      print(f2_lines)  \n",
    "      f_sum.writelines(f2_lines)  \n",
    "      #Read second file\n",
    "      f2_lines = f2.readlines()\n",
    "      f_sum.writelines(f2_lines)  \n",
    "      #Combine content of both lists\n",
    "      #combine = list(zip(ylines,xlines))\n",
    "      #Write to third file\n",
    "      "
   ]
  },
  {
   "cell_type": "code",
   "execution_count": 126,
   "metadata": {},
   "outputs": [],
   "source": [
    "# Podziały danych\n",
    "import pandas as pd\n",
    "from random import sample\n",
    "df = pd.read_csv('master/ML-master/lab2/data/fold_suma.label', header=None)"
   ]
  },
  {
   "cell_type": "code",
   "execution_count": 127,
   "metadata": {},
   "outputs": [],
   "source": [
    "test_rate =.45"
   ]
  },
  {
   "cell_type": "code",
   "execution_count": 128,
   "metadata": {},
   "outputs": [
    {
     "data": {
      "text/html": [
       "<div>\n",
       "<style scoped>\n",
       "    .dataframe tbody tr th:only-of-type {\n",
       "        vertical-align: middle;\n",
       "    }\n",
       "\n",
       "    .dataframe tbody tr th {\n",
       "        vertical-align: top;\n",
       "    }\n",
       "\n",
       "    .dataframe thead th {\n",
       "        text-align: right;\n",
       "    }\n",
       "</style>\n",
       "<table border=\"1\" class=\"dataframe\">\n",
       "  <thead>\n",
       "    <tr style=\"text-align: right;\">\n",
       "      <th></th>\n",
       "      <th>0</th>\n",
       "    </tr>\n",
       "  </thead>\n",
       "  <tbody>\n",
       "    <tr>\n",
       "      <th>0</th>\n",
       "      <td>ham ./data/TRAINING/TRAIN_00005.eml</td>\n",
       "    </tr>\n",
       "    <tr>\n",
       "      <th>1</th>\n",
       "      <td>spam ./data/TRAINING/TRAIN_00001.eml</td>\n",
       "    </tr>\n",
       "    <tr>\n",
       "      <th>2</th>\n",
       "      <td>ham ./data/TRAINING/TRAIN_00007.eml</td>\n",
       "    </tr>\n",
       "    <tr>\n",
       "      <th>3</th>\n",
       "      <td>spam ./data/TRAINING/TRAIN_00004.eml</td>\n",
       "    </tr>\n",
       "    <tr>\n",
       "      <th>4</th>\n",
       "      <td>ham ./data/TRAINING/TRAIN_00009.eml</td>\n",
       "    </tr>\n",
       "    <tr>\n",
       "      <th>...</th>\n",
       "      <td>...</td>\n",
       "    </tr>\n",
       "    <tr>\n",
       "      <th>6484</th>\n",
       "      <td>ham ./data/TRAINING/TRAIN_04309.eml</td>\n",
       "    </tr>\n",
       "    <tr>\n",
       "      <th>6485</th>\n",
       "      <td>ham ./data/TRAINING/TRAIN_04311.eml</td>\n",
       "    </tr>\n",
       "    <tr>\n",
       "      <th>6486</th>\n",
       "      <td>ham ./data/TRAINING/TRAIN_04316.eml</td>\n",
       "    </tr>\n",
       "    <tr>\n",
       "      <th>6487</th>\n",
       "      <td>ham ./data/TRAINING/TRAIN_04320.eml</td>\n",
       "    </tr>\n",
       "    <tr>\n",
       "      <th>6488</th>\n",
       "      <td>ham ./data/TRAINING/TRAIN_04323.eml</td>\n",
       "    </tr>\n",
       "  </tbody>\n",
       "</table>\n",
       "<p>6489 rows × 1 columns</p>\n",
       "</div>"
      ],
      "text/plain": [
       "                                         0\n",
       "0      ham ./data/TRAINING/TRAIN_00005.eml\n",
       "1     spam ./data/TRAINING/TRAIN_00001.eml\n",
       "2      ham ./data/TRAINING/TRAIN_00007.eml\n",
       "3     spam ./data/TRAINING/TRAIN_00004.eml\n",
       "4      ham ./data/TRAINING/TRAIN_00009.eml\n",
       "...                                    ...\n",
       "6484   ham ./data/TRAINING/TRAIN_04309.eml\n",
       "6485   ham ./data/TRAINING/TRAIN_04311.eml\n",
       "6486   ham ./data/TRAINING/TRAIN_04316.eml\n",
       "6487   ham ./data/TRAINING/TRAIN_04320.eml\n",
       "6488   ham ./data/TRAINING/TRAIN_04323.eml\n",
       "\n",
       "[6489 rows x 1 columns]"
      ]
     },
     "execution_count": 128,
     "metadata": {},
     "output_type": "execute_result"
    }
   ],
   "source": [
    "df"
   ]
  },
  {
   "cell_type": "code",
   "execution_count": 129,
   "metadata": {},
   "outputs": [],
   "source": [
    "# test_count= round(len(df)*test_rate)"
   ]
  },
  {
   "cell_type": "code",
   "execution_count": 130,
   "metadata": {},
   "outputs": [],
   "source": [
    "# test_rows = sample(list(df.index.values),test_count)"
   ]
  },
  {
   "cell_type": "code",
   "execution_count": 131,
   "metadata": {},
   "outputs": [],
   "source": [
    "# train_rows = list(set(df.index.values) - set(test_rows))"
   ]
  },
  {
   "cell_type": "code",
   "execution_count": 132,
   "metadata": {},
   "outputs": [],
   "source": [
    "# train_df = df.loc[train_rows]\n",
    "# test_df = df.loc[test_rows]"
   ]
  },
  {
   "cell_type": "code",
   "execution_count": 133,
   "metadata": {},
   "outputs": [],
   "source": [
    "def split_df(df, test_rate):\n",
    "    test_count=round(len(df)*test_rate)\n",
    "    test_rows = sample(list(df.index.values),test_count)\n",
    "    train_rows = list(set(df.index.values) - set(test_rows))\n",
    "    train_df = df.loc[train_rows]\n",
    "    test_df = df.loc[test_rows]\n",
    "    return train_df, test_df"
   ]
  },
  {
   "cell_type": "code",
   "execution_count": 134,
   "metadata": {},
   "outputs": [],
   "source": [
    "train_df, test_df  = split_df(df, .45)\n"
   ]
  },
  {
   "cell_type": "code",
   "execution_count": 135,
   "metadata": {},
   "outputs": [],
   "source": [
    "# #trainer = label_to_training_data('master/ML-master/lab2/data/fold2.label')\n",
    "# emails = parse_emails('master/ML-master/lab2/data/fold1.label')"
   ]
  },
  {
   "cell_type": "code",
   "execution_count": 139,
   "metadata": {},
   "outputs": [
    {
     "data": {
      "text/plain": [
       "<__main__.SpamTrainer at 0x7f8cac6c0f40>"
      ]
     },
     "execution_count": 139,
     "metadata": {},
     "output_type": "execute_result"
    }
   ],
   "source": [
    "# trainer csv\n",
    "train_df.to_csv('master/ML-master/lab2/data/trainer.csv', sep= ' ', index=None, header=None)\n",
    "label_to_training_data('master/ML-master/lab2/data/trainer.csv')\n"
   ]
  },
  {
   "cell_type": "code",
   "execution_count": 142,
   "metadata": {},
   "outputs": [],
   "source": [
    "# test csv\n",
    "test_df.to_csv('master/ML-master/lab2/data/test.csv', sep= ' ', index=None, header=None)\n"
   ]
  },
  {
   "cell_type": "code",
   "execution_count": 148,
   "metadata": {},
   "outputs": [
    {
     "ename": "FileNotFoundError",
     "evalue": "[Errno 2] No such file or directory: 'master/ML-master/lab2/data/TRAIN_00211.eml\"'",
     "output_type": "error",
     "traceback": [
      "\u001b[0;31m---------------------------------------------------------------------------\u001b[0m",
      "\u001b[0;31mFileNotFoundError\u001b[0m                         Traceback (most recent call last)",
      "\u001b[0;32m/tmp/ipykernel_34507/225931636.py\u001b[0m in \u001b[0;36m<module>\u001b[0;34m\u001b[0m\n\u001b[1;32m      1\u001b[0m \u001b[0mtrainer\u001b[0m \u001b[0;34m=\u001b[0m \u001b[0mlabel_to_training_data\u001b[0m\u001b[0;34m(\u001b[0m\u001b[0;34m'master/ML-master/lab2/data/trainer.csv'\u001b[0m\u001b[0;34m)\u001b[0m\u001b[0;34m\u001b[0m\u001b[0;34m\u001b[0m\u001b[0m\n\u001b[0;32m----> 2\u001b[0;31m \u001b[0memails\u001b[0m \u001b[0;34m=\u001b[0m \u001b[0mparse_emails\u001b[0m\u001b[0;34m(\u001b[0m\u001b[0;34m'master/ML-master/lab2/data/test.csv'\u001b[0m\u001b[0;34m)\u001b[0m\u001b[0;34m\u001b[0m\u001b[0;34m\u001b[0m\u001b[0m\n\u001b[0m",
      "\u001b[0;32m/tmp/ipykernel_34507/4206688936.py\u001b[0m in \u001b[0;36mparse_emails\u001b[0;34m(keyfile)\u001b[0m\n\u001b[1;32m      8\u001b[0m       \u001b[0mfilepath\u001b[0m \u001b[0;34m=\u001b[0m \u001b[0;34mf'master/ML-master/lab2/data/{os.path.basename(file)}'\u001b[0m\u001b[0;34m\u001b[0m\u001b[0;34m\u001b[0m\u001b[0m\n\u001b[1;32m      9\u001b[0m \u001b[0;34m\u001b[0m\u001b[0m\n\u001b[0;32m---> 10\u001b[0;31m       \u001b[0;32mwith\u001b[0m \u001b[0mio\u001b[0m\u001b[0;34m.\u001b[0m\u001b[0mopen\u001b[0m\u001b[0;34m(\u001b[0m\u001b[0mfilepath\u001b[0m\u001b[0;34m,\u001b[0m \u001b[0;34m'r'\u001b[0m\u001b[0;34m,\u001b[0m \u001b[0mencoding\u001b[0m\u001b[0;34m=\u001b[0m\u001b[0;34m'latin-1'\u001b[0m\u001b[0;34m)\u001b[0m \u001b[0;32mas\u001b[0m \u001b[0mlabelfile\u001b[0m\u001b[0;34m:\u001b[0m\u001b[0;34m\u001b[0m\u001b[0;34m\u001b[0m\u001b[0m\n\u001b[0m\u001b[1;32m     11\u001b[0m         \u001b[0memails\u001b[0m\u001b[0;34m.\u001b[0m\u001b[0mappend\u001b[0m\u001b[0;34m(\u001b[0m\u001b[0mEmailObject\u001b[0m\u001b[0;34m(\u001b[0m\u001b[0mlabelfile\u001b[0m\u001b[0;34m,\u001b[0m \u001b[0mcategory\u001b[0m\u001b[0;34m=\u001b[0m\u001b[0mlabel\u001b[0m\u001b[0;34m)\u001b[0m\u001b[0;34m)\u001b[0m\u001b[0;34m\u001b[0m\u001b[0;34m\u001b[0m\u001b[0m\n\u001b[1;32m     12\u001b[0m \u001b[0;34m\u001b[0m\u001b[0m\n",
      "\u001b[0;31mFileNotFoundError\u001b[0m: [Errno 2] No such file or directory: 'master/ML-master/lab2/data/TRAIN_00211.eml\"'"
     ]
    }
   ],
   "source": [
    "trainer = label_to_training_data('master/ML-master/lab2/data/trainer.csv')\n",
    "emails = parse_emails('master/ML-master/lab2/data/test.csv')"
   ]
  },
  {
   "cell_type": "code",
   "execution_count": null,
   "metadata": {},
   "outputs": [],
   "source": [
    "fpr, fnr, err = validate(trainer, emails)"
   ]
  },
  {
   "cell_type": "code",
   "execution_count": null,
   "metadata": {},
   "outputs": [],
   "source": []
  }
 ],
 "metadata": {
  "colab": {
   "provenance": []
  },
  "kernelspec": {
   "display_name": "Python 3 (ipykernel)",
   "language": "python",
   "name": "python3"
  },
  "language_info": {
   "codemirror_mode": {
    "name": "ipython",
    "version": 3
   },
   "file_extension": ".py",
   "mimetype": "text/x-python",
   "name": "python",
   "nbconvert_exporter": "python",
   "pygments_lexer": "ipython3",
   "version": "3.10.6"
  }
 },
 "nbformat": 4,
 "nbformat_minor": 1
}
