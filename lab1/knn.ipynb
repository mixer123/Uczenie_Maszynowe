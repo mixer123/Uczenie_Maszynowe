{
 "cells": [
  {
   "cell_type": "markdown",
   "metadata": {
    "collapsed": true,
    "pycharm": {
     "name": "#%% md\n"
    }
   },
   "source": [
    "# KNN (k nearest neighbours) - K najbliższych sąsiadów\n",
    "\n",
    "Jeden z algorytmów uczenia nadzorowanego służący do klasyfikacji i regresji.\n",
    "Zasada działania algorytmu w zadaniu klasyfikacji polega na przydzieleniu klasy decyzyjnej, którą obiekty w określonym zasięgu najliczniej reprezentują.\n",
    "W zadaniu regresji predykcja przydzielana jest na podstawie uśrednionej predykcji obiektów znajdujących się w określonym zasięgu.\n",
    "Zasięgiem w przypadku algorytmu KNN jest liczba najbliższych sąsiadów, czyli obiektów pochodzących z systemu decyzyjnego umieszczonych w przestrzeni n-wymiarowej.\n",
    "\n",
    "![knn](img/knn.svg) (źródło: wikimedia)\n",
    "\n",
    "## Metody obliczania podobieństwa między obiektami\n",
    "\n",
    "Do ustalania podobieństwa między obiektami służą metryki odległości.\n",
    "\n",
    "### Metryka Euklidesa\n",
    "$d(x, y) = \\sqrt{\\sum^n_{i=0} (x_i - y_i)^2}$\n",
    "\n",
    "### Metryka Manhattan\n",
    "$d(x, y) = \\sum_{i=0}^n |x_i - y_i|$\n",
    "\n",
    "### Metryka Mahalanobisa\n",
    "$d(x, y) = \\sqrt{\\sum_{i=1}^n \\frac{(x_i - y_i)^2}{s_i^2}}$\n",
    "\n",
    "## Metody wyboru optymalnej wartości K\n",
    "\n",
    "Polega na ustawieniu wartości K na podstawie pewnej wiedzy eksperckiej. Przykładowo, w klasyfikacji aktualnej pogody na podstawie bieżących warunków atmosferycznych k=7 jest dobrym wyborem.\n",
    "### Wybór deterministyczny\n",
    "\n",
    "### Metody heurystyczne\n",
    "- Zastosowanie względnie pierwszych kombinacji liczby klas i wartości K. W tym celu należy dobrać obie wartości w taki sposób, aby ich jedynym wspólnym dzielnikiem była liczba 1.\n",
    "- Wartość K większa lub równa od liczby klas powiększone o 1\n",
    "\n",
    "## Przykład - przewidywanie cen domów\n",
    "\n",
    "Dany jest zbiór zawierający ceny domów wraz z atrybutami takimi jak współrzędne geograficzne, wielkość działki, bliskość centrum miasta itd.\n",
    "Celem przykładu jest przewidywanie cen domów na podstawie atrybutów: szerokość geograficzna, długość geograficzna oraz wielkość działki przy użyciu regresji KNN.\n",
    "\n",
    "### Wczytanie systemu decyzyjnego i wstępna eksploracja"
   ]
  },
  {
   "cell_type": "code",
   "execution_count": 1,
   "outputs": [],
   "source": [
    "import random\n",
    "import pandas as pd\n",
    "import numpy as np\n",
    "from scipy.spatial import KDTree\n",
    "from sklearn.metrics import mean_absolute_error\n"
   ],
   "metadata": {
    "collapsed": false,
    "pycharm": {
     "name": "#%%\n"
    }
   }
  },
  {
   "cell_type": "code",
   "execution_count": 2,
   "outputs": [
    {
     "data": {
      "text/plain": "   AppraisedValue  SqFtLot  WaterSystem  SewerSystem  Access  Topography  \\\n0        619000.0  6542712            1            1       4           0   \n1        708000.0   105850            2            1       3           0   \n2        297000.0     1667            2            2       4           0   \n\n   StreetSurface  RestrictiveSzShape  InadequateParking  PcntUnusable  ...  \\\n0              1                   0                  0             0  ...   \n1              2                   0                  0             0  ...   \n2              1                   0                  2             0  ...   \n\n   NativeGrowthProtEsmt  Easements  OtherDesignation  DeedRestrictions  \\\n0                     0          0                 0                 0   \n1                     0          0                 0                 0   \n2                     0          0                 0                 0   \n\n   DevelopmentRightsPurch  WaterProblems  TranspConcurrency  OtherProblems  \\\n0                       1              0                  0              0   \n1                       0              0                  0              0   \n2                       0              0                  0              0   \n\n         lat        long  \n0  47.354019 -122.225166  \n1  47.611248 -122.053154  \n2  47.701248 -122.365784  \n\n[3 rows x 48 columns]",
      "text/html": "<div>\n<style scoped>\n    .dataframe tbody tr th:only-of-type {\n        vertical-align: middle;\n    }\n\n    .dataframe tbody tr th {\n        vertical-align: top;\n    }\n\n    .dataframe thead th {\n        text-align: right;\n    }\n</style>\n<table border=\"1\" class=\"dataframe\">\n  <thead>\n    <tr style=\"text-align: right;\">\n      <th></th>\n      <th>AppraisedValue</th>\n      <th>SqFtLot</th>\n      <th>WaterSystem</th>\n      <th>SewerSystem</th>\n      <th>Access</th>\n      <th>Topography</th>\n      <th>StreetSurface</th>\n      <th>RestrictiveSzShape</th>\n      <th>InadequateParking</th>\n      <th>PcntUnusable</th>\n      <th>...</th>\n      <th>NativeGrowthProtEsmt</th>\n      <th>Easements</th>\n      <th>OtherDesignation</th>\n      <th>DeedRestrictions</th>\n      <th>DevelopmentRightsPurch</th>\n      <th>WaterProblems</th>\n      <th>TranspConcurrency</th>\n      <th>OtherProblems</th>\n      <th>lat</th>\n      <th>long</th>\n    </tr>\n  </thead>\n  <tbody>\n    <tr>\n      <th>0</th>\n      <td>619000.0</td>\n      <td>6542712</td>\n      <td>1</td>\n      <td>1</td>\n      <td>4</td>\n      <td>0</td>\n      <td>1</td>\n      <td>0</td>\n      <td>0</td>\n      <td>0</td>\n      <td>...</td>\n      <td>0</td>\n      <td>0</td>\n      <td>0</td>\n      <td>0</td>\n      <td>1</td>\n      <td>0</td>\n      <td>0</td>\n      <td>0</td>\n      <td>47.354019</td>\n      <td>-122.225166</td>\n    </tr>\n    <tr>\n      <th>1</th>\n      <td>708000.0</td>\n      <td>105850</td>\n      <td>2</td>\n      <td>1</td>\n      <td>3</td>\n      <td>0</td>\n      <td>2</td>\n      <td>0</td>\n      <td>0</td>\n      <td>0</td>\n      <td>...</td>\n      <td>0</td>\n      <td>0</td>\n      <td>0</td>\n      <td>0</td>\n      <td>0</td>\n      <td>0</td>\n      <td>0</td>\n      <td>0</td>\n      <td>47.611248</td>\n      <td>-122.053154</td>\n    </tr>\n    <tr>\n      <th>2</th>\n      <td>297000.0</td>\n      <td>1667</td>\n      <td>2</td>\n      <td>2</td>\n      <td>4</td>\n      <td>0</td>\n      <td>1</td>\n      <td>0</td>\n      <td>2</td>\n      <td>0</td>\n      <td>...</td>\n      <td>0</td>\n      <td>0</td>\n      <td>0</td>\n      <td>0</td>\n      <td>0</td>\n      <td>0</td>\n      <td>0</td>\n      <td>0</td>\n      <td>47.701248</td>\n      <td>-122.365784</td>\n    </tr>\n  </tbody>\n</table>\n<p>3 rows × 48 columns</p>\n</div>"
     },
     "execution_count": 2,
     "metadata": {},
     "output_type": "execute_result"
    }
   ],
   "source": [
    "houses = pd.read_csv('data/data.csv')\n",
    "\n",
    "houses.head(3)"
   ],
   "metadata": {
    "collapsed": false,
    "pycharm": {
     "name": "#%%\n"
    }
   }
  },
  {
   "cell_type": "markdown",
   "source": [
    "W obiekcie values umieszczamy atrybut decyzyjny z oryginalnego systemu decyzyjnego,\n",
    "następnie usuwamy atrybut z systemu decyzyjnego uzyskując w ten sposób system informacyjny w obiekcie houses."
   ],
   "metadata": {
    "collapsed": false,
    "pycharm": {
     "name": "#%% md\n"
    }
   }
  },
  {
   "cell_type": "code",
   "execution_count": 3,
   "outputs": [],
   "source": [
    "values = houses['AppraisedValue']\n",
    "houses.drop('AppraisedValue', 1, inplace=True)"
   ],
   "metadata": {
    "collapsed": false,
    "pycharm": {
     "name": "#%%\n"
    }
   }
  },
  {
   "cell_type": "markdown",
   "source": [
    "Dokonujemy normalizacji danych w systemie informacyjnym (zerowa średnia arytmetyczna i jednostkowe odchylenie standardowe), oraz usuwamy zbędne atrybuty pozostawiając\n",
    "jedynie współrzędne geograficzne i wielkość działki. Na podstawie tych atrybutów będziemy przewidywać docelowe ceny domów."
   ],
   "metadata": {
    "collapsed": false,
    "pycharm": {
     "name": "#%% md\n"
    }
   }
  },
  {
   "cell_type": "code",
   "source": [
    "houses = (houses - houses.mean()) / (houses.max() - houses.min())\n",
    "houses = houses[['lat', 'long', 'SqFtLot']]"
   ],
   "metadata": {
    "collapsed": false,
    "pycharm": {
     "name": "#%%\n"
    }
   },
   "execution_count": 4,
   "outputs": []
  },
  {
   "cell_type": "markdown",
   "source": [
    "Tworzymy obiekt regressora KNN"
   ],
   "metadata": {
    "collapsed": false,
    "pycharm": {
     "name": "#%% md\n"
    }
   }
  },
  {
   "cell_type": "code",
   "execution_count": 5,
   "outputs": [],
   "source": [
    "kdtree = KDTree(houses)\n"
   ],
   "metadata": {
    "collapsed": false,
    "pycharm": {
     "name": "#%%\n"
    }
   }
  },
  {
   "cell_type": "markdown",
   "source": [
    "Następnie tworzymy funkcję, która przydzieli prognozę przekazanemu obiektowi na podstawie liczby najbliższych sąsiadów (parametr k)."
   ],
   "metadata": {
    "collapsed": false,
    "pycharm": {
     "name": "#%% md\n"
    }
   }
  },
  {
   "cell_type": "code",
   "execution_count": 6,
   "outputs": [],
   "source": [
    "def predict(query_point, k):\n",
    "    _, idx = kdtree.query(query_point, k)\n",
    "    return np.mean(values.iloc[idx])"
   ],
   "metadata": {
    "collapsed": false,
    "pycharm": {
     "name": "#%%\n"
    }
   }
  },
  {
   "cell_type": "markdown",
   "source": [
    "Tworzymy następnie systemy decyzyjne służące do trenowania i testowania modelu.\n",
    "System treningowy będzie zawierał 80% obiektów z oryginalnego systemu decyzyjnego, a system testowy 20%."
   ],
   "metadata": {
    "collapsed": false,
    "pycharm": {
     "name": "#%% md\n"
    }
   }
  },
  {
   "cell_type": "code",
   "execution_count": 7,
   "outputs": [],
   "source": [
    "test_rows = random.sample(houses.index.tolist(), int(round(len(houses) * .2)))  # 20%\n",
    "train_rows = set(range(len(houses))) - set(test_rows)\n",
    "df_test = houses.loc[test_rows]\n",
    "df_train = houses.drop(test_rows)\n",
    "test_values = values.loc[test_rows]\n",
    "train_values = values.loc[train_rows]\n"
   ],
   "metadata": {
    "collapsed": false,
    "pycharm": {
     "name": "#%%\n"
    }
   }
  },
  {
   "cell_type": "markdown",
   "source": [
    "Dla wartości K (liczba najbliższych sąsiadów) równej 5 dokonujemy regresji obiektów pochodzących z systemu testowego,\n",
    "a następnie porównujemy wyniki z wynikami oryginalnymi przy użyciu funkcji średniego błędu bezwzględnego."
   ],
   "metadata": {
    "collapsed": false,
    "pycharm": {
     "name": "#%% md\n"
    }
   }
  },
  {
   "cell_type": "code",
   "execution_count": 8,
   "outputs": [],
   "source": [
    "train_predicted_values = []\n",
    "train_actual_values = []\n",
    "\n",
    "for _id, row in df_train.iterrows():\n",
    "    train_predicted_values.append(predict(row, 5))\n",
    "    train_actual_values.append(train_values[_id])"
   ],
   "metadata": {
    "collapsed": false,
    "pycharm": {
     "name": "#%%\n"
    }
   }
  },
  {
   "cell_type": "code",
   "execution_count": 10,
   "outputs": [
    {
     "name": "stdout",
     "output_type": "stream",
     "text": [
      "Wartosc sredniego bledu bezwzglednego na systemie treningowym dla k=5 wynosi: 59552.08694200687\n"
     ]
    }
   ],
   "source": [
    "print(f'Wartosc sredniego bledu bezwzglednego na systemie treningowym dla k=5 wynosi: {mean_absolute_error(train_predicted_values, train_actual_values)}')"
   ],
   "metadata": {
    "collapsed": false,
    "pycharm": {
     "name": "#%%\n"
    }
   }
  },
  {
   "cell_type": "markdown",
   "source": [
    "## Zadania - regresja KNN\n",
    "\n",
    "1. Wykorzystać powyższy przykład w celu znalezienia takiej wartości K, dla której wartość średniego błędu bezwzględnego na systemie treningowym\n",
    "będzie najmniejsza. W tym celu należy stworzyć wykres liniowy, na którym oś x będzie przedstawiała wartość K,\n",
    "a oś y będzie przedstawiała wartość funkcji błędu. Następnie dla \"najlepszej\" wartości K sprawdzić wartość funkcji błędu\n",
    "na systemie testowym.\n",
    "\n",
    "2. Znaleźć \"najlepszą\" wartość K dla następujących podziałów na system treningowy i testowy:\n",
    "    - 60% system treningowy i 40% system testowy\n",
    "    - 65% system treningowy i 35% system testowy\n",
    "    - 70% system treningowy i 30% system testowy\n",
    "    - 75% system treningowy i 25% system testowy\n",
    "\n",
    "\n",
    "## Klasyfikacja przy użyciu metody KNN\n",
    "\n",
    "Przydział odpowiedniej klasy decyzyjnej w klasyfikatorze KNN polega na sprawdzeniu która klasa decyzyjna występuje\n",
    "najliczniej wśród k najbliższych sąsiadów, co przy użyciu języka python można wyrazić następująco:"
   ],
   "metadata": {
    "collapsed": false,
    "pycharm": {
     "name": "#%% md\n"
    }
   }
  },
  {
   "cell_type": "code",
   "execution_count": 11,
   "outputs": [],
   "source": [
    "def classify(query_point, k):\n",
    "    _, idx = kdtree.query(query_point, k)\n",
    "    return np.argmax(np.bincount(values.iloc[idx]))"
   ],
   "metadata": {
    "collapsed": false,
    "pycharm": {
     "name": "#%%\n"
    }
   }
  },
  {
   "cell_type": "markdown",
   "source": [
    "Funkcja zwraca dominantę klasy decyzyjnej występującej najczęściej wśród k najbliższych sąsiadów.\n",
    "Atrybut decyzyjny w funkcji należy wskazać samodzielnie.\n",
    "\n",
    "### Pomiar wydajności modeli w zadaniach klasyfikacji\n",
    "\n",
    "#### Binarna entropia krzyżowa\n",
    "\n",
    "Binarna entropia krzyżowa jest miarą błędu w zadaniach klasyfikacji binarnej:\n",
    "\n",
    "$$ Err = - \\frac{1}{N} \\sum_{i=1}^{N} y_i log(\\hat{y}_i) + (1 - y_i) log(1 - \\hat{y}_i) $$\n",
    "\n",
    "gdzie:\n",
    "- $$ y_i $$ oznacza oryginalną klasę decyzyjną\n",
    "- $$ \\hat{y}_i $$ oznacza prawdopodobieństwo przynależności do pozytywnej klasy decyzyjnej przydzielone przez model\n",
    "- $$ N $$ oznacza liczbę obiektów w systemie decyzyjnym\n",
    "\n",
    "#### Kategorialna entropia krzyżowa\n",
    "\n",
    "Binarna entropia krzyżowa jest miarą błędu w zadaniach klasyfikacji wieloklasowej:\n",
    "\n",
    "$$ Err = - \\sum_{i=1}^{N} y_i log(\\hat{y}_i) $$\n",
    "\n",
    "#### Dokładność\n",
    "\n",
    "Dokładność to miara dokładności klasyfikacji wyrażona w formie odsetka obiektów, które otrzymały poprawną decyzję:\n",
    "\n",
    "$$ Acc_{glob} = \\frac{correct}{total} $$\n",
    "\n",
    "gdzie:\n",
    "- $$correct$$ oznacza liczbę obiektów, które otrzymały poprawną decyzję\n",
    "- $$ total $$ oznacza liczbę obiektów w systemie decyzyjnym\n",
    "\n",
    "#### Dokładność zbalansowana\n",
    "\n",
    "Dokładność zbalansowana to miara dokładności stosowana w przypadku gdy liczebności klas w systemie decyzyjnym są różne.\n",
    "Dokładność zbalansowaną można wyrazić jako uśrednioną dokładność klasyfikacji w obrębie każdej klasy decyzyjnej w systemie decyzyjnym.\n",
    "\n",
    "$$ Acc_{balanced} = \\frac{acc_{c_1} + acc_{c_2} + ... + acc_{c_k}}{k} $$\n",
    "\n",
    "gdzie:\n",
    "- k oznacza liczbę wszystkich klas decyzyjnych\n",
    "- $$ acc_{c_k} $$ oznacza dokładność klasy decyzyjnej $$k$$\n",
    "\n",
    "## Zadania - klasyfikacja KNN\n",
    "\n",
    "1. Korzystając ze źródła http://archive.ics.uci.edu/ml/datasets.php wybrać jeden system decyzyjny, a następnie dokonać\n",
    "klasyfikacji metodą KNN dowolnego atrybutu decyzyjnego. Wykorzystując rozwiązanie zadania 1 z regresji KNN znaleźć\n",
    "najlepszą wartość K w następujących podziałach:\n",
    "    - 55% system treningowy i 45% system testowy\n",
    "    - 60% system treningowy i 40% system testowy\n",
    "    - 65% system treningowy i 35% system testowy\n",
    "    - 70% system treningowy i 30% system testowy\n",
    "    - 75% system treningowy i 25% system testowy\n",
    "    - 80% system treningowy i 20% system testowy\n",
    "\n",
    "Dla każdego podziału zaprezentować poznane wartości miar wydajności modeli - w tym celu należy zaimplementować te funkcjonalności.\n",
    "\n",
    "## Klasyfikacja KNN przy użyciu pakietu Scikit learn\n",
    "\n",
    "### Wczytanie systemu decyzyjnego"
   ],
   "metadata": {
    "collapsed": false
   }
  },
  {
   "cell_type": "code",
   "execution_count": 5,
   "outputs": [
    {
     "data": {
      "text/plain": "   glucose  bloodpressure  diabetes\n0       40             85         0\n1       40             92         0\n2       45             63         1\n3       45             80         0\n4       40             73         1",
      "text/html": "<div>\n<style scoped>\n    .dataframe tbody tr th:only-of-type {\n        vertical-align: middle;\n    }\n\n    .dataframe tbody tr th {\n        vertical-align: top;\n    }\n\n    .dataframe thead th {\n        text-align: right;\n    }\n</style>\n<table border=\"1\" class=\"dataframe\">\n  <thead>\n    <tr style=\"text-align: right;\">\n      <th></th>\n      <th>glucose</th>\n      <th>bloodpressure</th>\n      <th>diabetes</th>\n    </tr>\n  </thead>\n  <tbody>\n    <tr>\n      <th>0</th>\n      <td>40</td>\n      <td>85</td>\n      <td>0</td>\n    </tr>\n    <tr>\n      <th>1</th>\n      <td>40</td>\n      <td>92</td>\n      <td>0</td>\n    </tr>\n    <tr>\n      <th>2</th>\n      <td>45</td>\n      <td>63</td>\n      <td>1</td>\n    </tr>\n    <tr>\n      <th>3</th>\n      <td>45</td>\n      <td>80</td>\n      <td>0</td>\n    </tr>\n    <tr>\n      <th>4</th>\n      <td>40</td>\n      <td>73</td>\n      <td>1</td>\n    </tr>\n  </tbody>\n</table>\n</div>"
     },
     "execution_count": 5,
     "metadata": {},
     "output_type": "execute_result"
    }
   ],
   "source": [
    "import pandas as pd\n",
    "\n",
    "df = pd.read_csv('data/data-samples.csv')\n",
    "\n",
    "df.head()"
   ],
   "metadata": {
    "collapsed": false,
    "pycharm": {
     "name": "#%%\n"
    }
   }
  },
  {
   "cell_type": "markdown",
   "source": [
    "### Przygotowanie systemu decyzyjnego do klasyfikacji\n",
    "\n",
    "Podział na atrybuty wejściowe (X) i decyzyjny (y) oraz na system treningowy i testowy w stosunku 75%:25%"
   ],
   "metadata": {
    "collapsed": false,
    "pycharm": {
     "name": "#%% md\n"
    }
   }
  },
  {
   "cell_type": "code",
   "execution_count": 6,
   "outputs": [],
   "source": [
    "from sklearn.model_selection import train_test_split\n",
    "\n",
    "X = df.drop('diabetes', axis=1)\n",
    "y = df['diabetes']\n",
    "X_train, X_test, y_train, y_test = train_test_split(X, y, test_size=.25)"
   ],
   "metadata": {
    "collapsed": false,
    "pycharm": {
     "name": "#%%\n"
    }
   }
  },
  {
   "cell_type": "code",
   "source": [
    "X_train.head(n=3)"
   ],
   "metadata": {
    "collapsed": false,
    "pycharm": {
     "name": "#%%\n"
    }
   },
   "execution_count": 7,
   "outputs": [
    {
     "data": {
      "text/plain": "     glucose  bloodpressure\n626       30             80\n806       45             95\n259       45             85",
      "text/html": "<div>\n<style scoped>\n    .dataframe tbody tr th:only-of-type {\n        vertical-align: middle;\n    }\n\n    .dataframe tbody tr th {\n        vertical-align: top;\n    }\n\n    .dataframe thead th {\n        text-align: right;\n    }\n</style>\n<table border=\"1\" class=\"dataframe\">\n  <thead>\n    <tr style=\"text-align: right;\">\n      <th></th>\n      <th>glucose</th>\n      <th>bloodpressure</th>\n    </tr>\n  </thead>\n  <tbody>\n    <tr>\n      <th>626</th>\n      <td>30</td>\n      <td>80</td>\n    </tr>\n    <tr>\n      <th>806</th>\n      <td>45</td>\n      <td>95</td>\n    </tr>\n    <tr>\n      <th>259</th>\n      <td>45</td>\n      <td>85</td>\n    </tr>\n  </tbody>\n</table>\n</div>"
     },
     "execution_count": 7,
     "metadata": {},
     "output_type": "execute_result"
    }
   ]
  },
  {
   "cell_type": "code",
   "execution_count": 8,
   "outputs": [
    {
     "data": {
      "text/plain": "618    0\n293    0\n643    1\nName: diabetes, dtype: int64"
     },
     "execution_count": 8,
     "metadata": {},
     "output_type": "execute_result"
    }
   ],
   "source": [
    "y_test.head(n=3)"
   ],
   "metadata": {
    "collapsed": false,
    "pycharm": {
     "name": "#%%\n"
    }
   }
  },
  {
   "cell_type": "markdown",
   "source": [
    "### Utworzenie modelu"
   ],
   "metadata": {
    "collapsed": false,
    "pycharm": {
     "name": "#%% md\n"
    }
   }
  },
  {
   "cell_type": "code",
   "execution_count": 9,
   "outputs": [
    {
     "data": {
      "text/plain": "KNeighborsClassifier(n_neighbors=3)"
     },
     "execution_count": 9,
     "metadata": {},
     "output_type": "execute_result"
    }
   ],
   "source": [
    "from sklearn.neighbors import KNeighborsClassifier\n",
    "\n",
    "model = KNeighborsClassifier(n_neighbors=3)\n",
    "model.fit(X_train, y_train)"
   ],
   "metadata": {
    "collapsed": false,
    "pycharm": {
     "name": "#%%\n"
    }
   }
  },
  {
   "cell_type": "markdown",
   "source": [
    "### Dokładność modelu"
   ],
   "metadata": {
    "collapsed": false,
    "pycharm": {
     "name": "#%% md\n"
    }
   }
  },
  {
   "cell_type": "code",
   "execution_count": 10,
   "outputs": [
    {
     "name": "stdout",
     "output_type": "stream",
     "text": [
      "Dokladnosc wytrenowanego modelu: 93.17269076305222%\n"
     ]
    }
   ],
   "source": [
    "from sklearn.metrics import accuracy_score\n",
    "\n",
    "y_pred = model.predict(X_test)\n",
    "acc = accuracy_score(y_test, y_pred) * 100\n",
    "\n",
    "print(f'Dokladnosc wytrenowanego modelu: {acc}%')"
   ],
   "metadata": {
    "collapsed": false,
    "pycharm": {
     "name": "#%%\n"
    }
   }
  },
  {
   "cell_type": "code",
   "execution_count": null,
   "outputs": [],
   "source": [],
   "metadata": {
    "collapsed": false,
    "pycharm": {
     "name": "#%%\n"
    }
   }
  }
 ],
 "metadata": {
  "kernelspec": {
   "display_name": "Python 3",
   "language": "python",
   "name": "python3"
  },
  "language_info": {
   "codemirror_mode": {
    "name": "ipython",
    "version": 2
   },
   "file_extension": ".py",
   "mimetype": "text/x-python",
   "name": "python",
   "nbconvert_exporter": "python",
   "pygments_lexer": "ipython2",
   "version": "2.7.6"
  }
 },
 "nbformat": 4,
 "nbformat_minor": 0
}