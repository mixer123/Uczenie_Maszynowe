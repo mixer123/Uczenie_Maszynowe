{
 "cells": [
  {
   "cell_type": "markdown",
   "id": "66a94935",
   "metadata": {},
   "source": [
    "# KNN zaliczenie"
   ]
  },
  {
   "cell_type": "code",
   "execution_count": 2,
   "id": "04f38e16",
   "metadata": {},
   "outputs": [],
   "source": [
    "import random\n",
    "import pandas as pd\n",
    "import numpy as np\n",
    "from scipy.spatial import KDTree\n",
    "from sklearn.metrics import mean_absolute_error, log_loss, accuracy_score, balanced_accuracy_score\n",
    "import random\n",
    "import matplotlib.pyplot as plt"
   ]
  },
  {
   "cell_type": "markdown",
   "id": "cfcbf0aa",
   "metadata": {},
   "source": [
    "## Description"
   ]
  },
  {
   "cell_type": "markdown",
   "id": "3b672f5a",
   "metadata": {},
   "source": [
    "Car Evaluation Database was derived from a simple hierarchical decision model originally developed for the demonstration of DEX, M. Bohanec, V. Rajkovic: Expert system for decision making. Sistemica 1(1), pp. 145-157, 1990.). The model evaluates cars according to the following concept structure:\n",
    "\n",
    "CAR car acceptability\n",
    ". PRICE overall price\n",
    ". . buying buying price\n",
    ". . maint price of the maintenance\n",
    ". TECH technical characteristics\n",
    ". . COMFORT comfort\n",
    ". . . doors number of doors\n",
    ". . . persons capacity in terms of persons to carry\n",
    ". . . lug_boot the size of luggage boot\n",
    ". . safety estimated safety of the car "
   ]
  },
  {
   "cell_type": "code",
   "execution_count": null,
   "id": "80375a1b",
   "metadata": {},
   "outputs": [],
   "source": [
    "df = "
   ]
  }
 ],
 "metadata": {
  "kernelspec": {
   "display_name": "Python 3 (ipykernel)",
   "language": "python",
   "name": "python3"
  },
  "language_info": {
   "codemirror_mode": {
    "name": "ipython",
    "version": 3
   },
   "file_extension": ".py",
   "mimetype": "text/x-python",
   "name": "python",
   "nbconvert_exporter": "python",
   "pygments_lexer": "ipython3",
   "version": "3.9.13"
  }
 },
 "nbformat": 4,
 "nbformat_minor": 5
}
