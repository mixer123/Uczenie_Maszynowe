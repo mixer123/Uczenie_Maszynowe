{
 "cells": [
  {
   "cell_type": "markdown",
   "id": "66a94935",
   "metadata": {},
   "source": [
    "# KNN zaliczenie"
   ]
  },
  {
   "cell_type": "code",
   "execution_count": 3,
   "id": "04f38e16",
   "metadata": {},
   "outputs": [],
   "source": [
    "import random\n",
    "import pandas as pd\n",
    "import numpy as np\n",
    "from scipy.spatial import KDTree\n",
    "from sklearn.metrics import mean_absolute_error, log_loss, accuracy_score, balanced_accuracy_score\n",
    "import random\n",
    "import matplotlib.pyplot as plt"
   ]
  },
  {
   "cell_type": "markdown",
   "id": "cfcbf0aa",
   "metadata": {},
   "source": [
    "## Description"
   ]
  },
  {
   "cell_type": "markdown",
   "id": "3b672f5a",
   "metadata": {},
   "source": [
    "Car Evaluation Database was derived from a simple hierarchical decision model originally developed for the demonstration of DEX, M. Bohanec, V. Rajkovic: Expert system for decision making. Sistemica 1(1), pp. 145-157, 1990.). The model evaluates cars according to the following concept structure:\n",
    "\n",
    "CAR car acceptability\n",
    ". PRICE overall price\n",
    ". . buying buying price\n",
    ". . maint price of the maintenance\n",
    ". TECH technical characteristics\n",
    ". . COMFORT comfort\n",
    ". . . doors number of doors\n",
    ". . . persons capacity in terms of persons to carry\n",
    ". . . lug_boot the size of luggage boot\n",
    ". . safety estimated safety of the car "
   ]
  },
  {
   "cell_type": "code",
   "execution_count": 53,
   "id": "80375a1b",
   "metadata": {},
   "outputs": [],
   "source": [
    "df = pd.read_csv('files/car.data')"
   ]
  },
  {
   "cell_type": "code",
   "execution_count": 54,
   "id": "1bea008b",
   "metadata": {},
   "outputs": [],
   "source": [
    "df.columns=['buying','maint' ,'doors','persons','lug_boot','safety','classes']"
   ]
  },
  {
   "cell_type": "code",
   "execution_count": 55,
   "id": "7908d276",
   "metadata": {},
   "outputs": [
    {
     "data": {
      "text/plain": [
       "array(['unacc', 'acc', 'vgood', 'good'], dtype=object)"
      ]
     },
     "execution_count": 55,
     "metadata": {},
     "output_type": "execute_result"
    }
   ],
   "source": [
    "pd.unique(df.classes)"
   ]
  },
  {
   "cell_type": "markdown",
   "id": "3871a6f4",
   "metadata": {},
   "source": [
    "Nadawanie wartości liczbowych\n",
    "\n",
    "w kolumnie buying vhigh=4, high=3, med=2, low=1\\\n",
    "w kolumnie maint vhigh=4, high=3, med=2, low=1\\\n",
    "w kolumnie doors 2=2, 3=3, 4=4, 5-more=5\\\n",
    "w kolumnie persons 2-2, 4=4, more=3\\\n",
    "w kolumnie lug_boot small=1, med=2, big=3\\\n",
    "w kolumnie safety low=1, med=2, high=3\\\n",
    "w kolumnie classes unacc=1, acc=2, good=3, vgood=4\\\n"
   ]
  },
  {
   "cell_type": "code",
   "execution_count": 56,
   "id": "613de775",
   "metadata": {},
   "outputs": [],
   "source": [
    "df['buying'] = df['buying'].map({'vhigh': 4, 'high': 3, 'med':2, 'low':1})\n",
    "df['maint'] = df['maint'].map({'vhigh': 4, 'high': 3, 'med':2, 'low':1})\n",
    "df['doors'] = df['doors'].map({'2': 2, '3': 3,'4':4, '5more':3})\n",
    "df['persons'] = df['persons'].map({'2': 2, '4':4, 'more':3})\n",
    "df['lug_boot'] = df['lug_boot'].map({'small': 1, 'med': 2,'big':3})\n",
    "df['safety'] = df['safety'].map({'low': 1, 'med': 2,'high':3})\n",
    "df['classes'] = df['classes'].map({'unacc': 1, 'acc': 2,'good':3, 'vgood':4})"
   ]
  },
  {
   "cell_type": "code",
   "execution_count": 57,
   "id": "374cf5eb",
   "metadata": {},
   "outputs": [
    {
     "data": {
      "text/html": [
       "<div>\n",
       "<style scoped>\n",
       "    .dataframe tbody tr th:only-of-type {\n",
       "        vertical-align: middle;\n",
       "    }\n",
       "\n",
       "    .dataframe tbody tr th {\n",
       "        vertical-align: top;\n",
       "    }\n",
       "\n",
       "    .dataframe thead th {\n",
       "        text-align: right;\n",
       "    }\n",
       "</style>\n",
       "<table border=\"1\" class=\"dataframe\">\n",
       "  <thead>\n",
       "    <tr style=\"text-align: right;\">\n",
       "      <th></th>\n",
       "      <th>buying</th>\n",
       "      <th>maint</th>\n",
       "      <th>doors</th>\n",
       "      <th>persons</th>\n",
       "      <th>lug_boot</th>\n",
       "      <th>safety</th>\n",
       "      <th>classes</th>\n",
       "    </tr>\n",
       "  </thead>\n",
       "  <tbody>\n",
       "    <tr>\n",
       "      <th>0</th>\n",
       "      <td>4</td>\n",
       "      <td>4</td>\n",
       "      <td>2</td>\n",
       "      <td>2</td>\n",
       "      <td>1</td>\n",
       "      <td>2</td>\n",
       "      <td>1</td>\n",
       "    </tr>\n",
       "    <tr>\n",
       "      <th>1</th>\n",
       "      <td>4</td>\n",
       "      <td>4</td>\n",
       "      <td>2</td>\n",
       "      <td>2</td>\n",
       "      <td>1</td>\n",
       "      <td>3</td>\n",
       "      <td>1</td>\n",
       "    </tr>\n",
       "    <tr>\n",
       "      <th>2</th>\n",
       "      <td>4</td>\n",
       "      <td>4</td>\n",
       "      <td>2</td>\n",
       "      <td>2</td>\n",
       "      <td>2</td>\n",
       "      <td>1</td>\n",
       "      <td>1</td>\n",
       "    </tr>\n",
       "    <tr>\n",
       "      <th>3</th>\n",
       "      <td>4</td>\n",
       "      <td>4</td>\n",
       "      <td>2</td>\n",
       "      <td>2</td>\n",
       "      <td>2</td>\n",
       "      <td>2</td>\n",
       "      <td>1</td>\n",
       "    </tr>\n",
       "    <tr>\n",
       "      <th>4</th>\n",
       "      <td>4</td>\n",
       "      <td>4</td>\n",
       "      <td>2</td>\n",
       "      <td>2</td>\n",
       "      <td>2</td>\n",
       "      <td>3</td>\n",
       "      <td>1</td>\n",
       "    </tr>\n",
       "    <tr>\n",
       "      <th>...</th>\n",
       "      <td>...</td>\n",
       "      <td>...</td>\n",
       "      <td>...</td>\n",
       "      <td>...</td>\n",
       "      <td>...</td>\n",
       "      <td>...</td>\n",
       "      <td>...</td>\n",
       "    </tr>\n",
       "    <tr>\n",
       "      <th>1722</th>\n",
       "      <td>1</td>\n",
       "      <td>1</td>\n",
       "      <td>3</td>\n",
       "      <td>3</td>\n",
       "      <td>2</td>\n",
       "      <td>2</td>\n",
       "      <td>3</td>\n",
       "    </tr>\n",
       "    <tr>\n",
       "      <th>1723</th>\n",
       "      <td>1</td>\n",
       "      <td>1</td>\n",
       "      <td>3</td>\n",
       "      <td>3</td>\n",
       "      <td>2</td>\n",
       "      <td>3</td>\n",
       "      <td>4</td>\n",
       "    </tr>\n",
       "    <tr>\n",
       "      <th>1724</th>\n",
       "      <td>1</td>\n",
       "      <td>1</td>\n",
       "      <td>3</td>\n",
       "      <td>3</td>\n",
       "      <td>3</td>\n",
       "      <td>1</td>\n",
       "      <td>1</td>\n",
       "    </tr>\n",
       "    <tr>\n",
       "      <th>1725</th>\n",
       "      <td>1</td>\n",
       "      <td>1</td>\n",
       "      <td>3</td>\n",
       "      <td>3</td>\n",
       "      <td>3</td>\n",
       "      <td>2</td>\n",
       "      <td>3</td>\n",
       "    </tr>\n",
       "    <tr>\n",
       "      <th>1726</th>\n",
       "      <td>1</td>\n",
       "      <td>1</td>\n",
       "      <td>3</td>\n",
       "      <td>3</td>\n",
       "      <td>3</td>\n",
       "      <td>3</td>\n",
       "      <td>4</td>\n",
       "    </tr>\n",
       "  </tbody>\n",
       "</table>\n",
       "<p>1727 rows × 7 columns</p>\n",
       "</div>"
      ],
      "text/plain": [
       "      buying  maint  doors  persons  lug_boot  safety  classes\n",
       "0          4      4      2        2         1       2        1\n",
       "1          4      4      2        2         1       3        1\n",
       "2          4      4      2        2         2       1        1\n",
       "3          4      4      2        2         2       2        1\n",
       "4          4      4      2        2         2       3        1\n",
       "...      ...    ...    ...      ...       ...     ...      ...\n",
       "1722       1      1      3        3         2       2        3\n",
       "1723       1      1      3        3         2       3        4\n",
       "1724       1      1      3        3         3       1        1\n",
       "1725       1      1      3        3         3       2        3\n",
       "1726       1      1      3        3         3       3        4\n",
       "\n",
       "[1727 rows x 7 columns]"
      ]
     },
     "execution_count": 57,
     "metadata": {},
     "output_type": "execute_result"
    }
   ],
   "source": [
    "df"
   ]
  },
  {
   "cell_type": "code",
   "execution_count": 64,
   "id": "d01437b8",
   "metadata": {},
   "outputs": [
    {
     "data": {
      "text/plain": [
       "buying      1\n",
       "maint       1\n",
       "doors       3\n",
       "persons     3\n",
       "lug_boot    2\n",
       "safety      2\n",
       "classes     3\n",
       "Name: 1722, dtype: int64"
      ]
     },
     "execution_count": 64,
     "metadata": {},
     "output_type": "execute_result"
    }
   ],
   "source": [
    "df.iloc[1722]"
   ]
  },
  {
   "cell_type": "markdown",
   "id": "84b34ecd",
   "metadata": {},
   "source": [
    "###  Tu są wartości kolumny klasy , do której przyporządkowuje się jakiś obiekt - rekord czyli zakupiony samochód"
   ]
  },
  {
   "cell_type": "code",
   "execution_count": 65,
   "id": "ee0d2e41",
   "metadata": {},
   "outputs": [],
   "source": [
    "values=df.classes"
   ]
  },
  {
   "cell_type": "code",
   "execution_count": 66,
   "id": "99dfc9b8",
   "metadata": {},
   "outputs": [
    {
     "data": {
      "text/plain": [
       "0       1\n",
       "1       1\n",
       "2       1\n",
       "3       1\n",
       "4       1\n",
       "       ..\n",
       "1722    3\n",
       "1723    4\n",
       "1724    1\n",
       "1725    3\n",
       "1726    4\n",
       "Name: classes, Length: 1727, dtype: int64"
      ]
     },
     "execution_count": 66,
     "metadata": {},
     "output_type": "execute_result"
    }
   ],
   "source": [
    "values"
   ]
  },
  {
   "cell_type": "markdown",
   "id": "7e1540bc",
   "metadata": {},
   "source": [
    "Usuwam ostatnią kolumnę, gdzie jest wartość klasyfikatora."
   ]
  },
  {
   "cell_type": "code",
   "execution_count": 67,
   "id": "e2b5fd7b",
   "metadata": {},
   "outputs": [],
   "source": [
    "df= df.drop(df.columns[[-1]], axis=1) "
   ]
  },
  {
   "cell_type": "code",
   "execution_count": 68,
   "id": "7874988e",
   "metadata": {},
   "outputs": [
    {
     "data": {
      "text/html": [
       "<div>\n",
       "<style scoped>\n",
       "    .dataframe tbody tr th:only-of-type {\n",
       "        vertical-align: middle;\n",
       "    }\n",
       "\n",
       "    .dataframe tbody tr th {\n",
       "        vertical-align: top;\n",
       "    }\n",
       "\n",
       "    .dataframe thead th {\n",
       "        text-align: right;\n",
       "    }\n",
       "</style>\n",
       "<table border=\"1\" class=\"dataframe\">\n",
       "  <thead>\n",
       "    <tr style=\"text-align: right;\">\n",
       "      <th></th>\n",
       "      <th>buying</th>\n",
       "      <th>maint</th>\n",
       "      <th>doors</th>\n",
       "      <th>persons</th>\n",
       "      <th>lug_boot</th>\n",
       "      <th>safety</th>\n",
       "    </tr>\n",
       "  </thead>\n",
       "  <tbody>\n",
       "    <tr>\n",
       "      <th>0</th>\n",
       "      <td>4</td>\n",
       "      <td>4</td>\n",
       "      <td>2</td>\n",
       "      <td>2</td>\n",
       "      <td>1</td>\n",
       "      <td>2</td>\n",
       "    </tr>\n",
       "    <tr>\n",
       "      <th>1</th>\n",
       "      <td>4</td>\n",
       "      <td>4</td>\n",
       "      <td>2</td>\n",
       "      <td>2</td>\n",
       "      <td>1</td>\n",
       "      <td>3</td>\n",
       "    </tr>\n",
       "    <tr>\n",
       "      <th>2</th>\n",
       "      <td>4</td>\n",
       "      <td>4</td>\n",
       "      <td>2</td>\n",
       "      <td>2</td>\n",
       "      <td>2</td>\n",
       "      <td>1</td>\n",
       "    </tr>\n",
       "    <tr>\n",
       "      <th>3</th>\n",
       "      <td>4</td>\n",
       "      <td>4</td>\n",
       "      <td>2</td>\n",
       "      <td>2</td>\n",
       "      <td>2</td>\n",
       "      <td>2</td>\n",
       "    </tr>\n",
       "    <tr>\n",
       "      <th>4</th>\n",
       "      <td>4</td>\n",
       "      <td>4</td>\n",
       "      <td>2</td>\n",
       "      <td>2</td>\n",
       "      <td>2</td>\n",
       "      <td>3</td>\n",
       "    </tr>\n",
       "    <tr>\n",
       "      <th>...</th>\n",
       "      <td>...</td>\n",
       "      <td>...</td>\n",
       "      <td>...</td>\n",
       "      <td>...</td>\n",
       "      <td>...</td>\n",
       "      <td>...</td>\n",
       "    </tr>\n",
       "    <tr>\n",
       "      <th>1722</th>\n",
       "      <td>1</td>\n",
       "      <td>1</td>\n",
       "      <td>3</td>\n",
       "      <td>3</td>\n",
       "      <td>2</td>\n",
       "      <td>2</td>\n",
       "    </tr>\n",
       "    <tr>\n",
       "      <th>1723</th>\n",
       "      <td>1</td>\n",
       "      <td>1</td>\n",
       "      <td>3</td>\n",
       "      <td>3</td>\n",
       "      <td>2</td>\n",
       "      <td>3</td>\n",
       "    </tr>\n",
       "    <tr>\n",
       "      <th>1724</th>\n",
       "      <td>1</td>\n",
       "      <td>1</td>\n",
       "      <td>3</td>\n",
       "      <td>3</td>\n",
       "      <td>3</td>\n",
       "      <td>1</td>\n",
       "    </tr>\n",
       "    <tr>\n",
       "      <th>1725</th>\n",
       "      <td>1</td>\n",
       "      <td>1</td>\n",
       "      <td>3</td>\n",
       "      <td>3</td>\n",
       "      <td>3</td>\n",
       "      <td>2</td>\n",
       "    </tr>\n",
       "    <tr>\n",
       "      <th>1726</th>\n",
       "      <td>1</td>\n",
       "      <td>1</td>\n",
       "      <td>3</td>\n",
       "      <td>3</td>\n",
       "      <td>3</td>\n",
       "      <td>3</td>\n",
       "    </tr>\n",
       "  </tbody>\n",
       "</table>\n",
       "<p>1727 rows × 6 columns</p>\n",
       "</div>"
      ],
      "text/plain": [
       "      buying  maint  doors  persons  lug_boot  safety\n",
       "0          4      4      2        2         1       2\n",
       "1          4      4      2        2         1       3\n",
       "2          4      4      2        2         2       1\n",
       "3          4      4      2        2         2       2\n",
       "4          4      4      2        2         2       3\n",
       "...      ...    ...    ...      ...       ...     ...\n",
       "1722       1      1      3        3         2       2\n",
       "1723       1      1      3        3         2       3\n",
       "1724       1      1      3        3         3       1\n",
       "1725       1      1      3        3         3       2\n",
       "1726       1      1      3        3         3       3\n",
       "\n",
       "[1727 rows x 6 columns]"
      ]
     },
     "execution_count": 68,
     "metadata": {},
     "output_type": "execute_result"
    }
   ],
   "source": [
    "df"
   ]
  },
  {
   "cell_type": "markdown",
   "id": "05138952",
   "metadata": {},
   "source": [
    "## Normalizacja"
   ]
  },
  {
   "cell_type": "code",
   "execution_count": 69,
   "id": "d81dacbe",
   "metadata": {},
   "outputs": [],
   "source": [
    "df = (df - df.mean())/(df.max()-df.min())"
   ]
  },
  {
   "cell_type": "code",
   "execution_count": 70,
   "id": "09e7020a",
   "metadata": {},
   "outputs": [
    {
     "data": {
      "text/html": [
       "<div>\n",
       "<style scoped>\n",
       "    .dataframe tbody tr th:only-of-type {\n",
       "        vertical-align: middle;\n",
       "    }\n",
       "\n",
       "    .dataframe tbody tr th {\n",
       "        vertical-align: top;\n",
       "    }\n",
       "\n",
       "    .dataframe thead th {\n",
       "        text-align: right;\n",
       "    }\n",
       "</style>\n",
       "<table border=\"1\" class=\"dataframe\">\n",
       "  <thead>\n",
       "    <tr style=\"text-align: right;\">\n",
       "      <th></th>\n",
       "      <th>buying</th>\n",
       "      <th>maint</th>\n",
       "      <th>doors</th>\n",
       "      <th>persons</th>\n",
       "      <th>lug_boot</th>\n",
       "      <th>safety</th>\n",
       "    </tr>\n",
       "  </thead>\n",
       "  <tbody>\n",
       "    <tr>\n",
       "      <th>0</th>\n",
       "      <td>0.50029</td>\n",
       "      <td>0.50029</td>\n",
       "      <td>-0.50029</td>\n",
       "      <td>-0.50029</td>\n",
       "      <td>-0.50029</td>\n",
       "      <td>-0.00029</td>\n",
       "    </tr>\n",
       "    <tr>\n",
       "      <th>1</th>\n",
       "      <td>0.50029</td>\n",
       "      <td>0.50029</td>\n",
       "      <td>-0.50029</td>\n",
       "      <td>-0.50029</td>\n",
       "      <td>-0.50029</td>\n",
       "      <td>0.49971</td>\n",
       "    </tr>\n",
       "    <tr>\n",
       "      <th>2</th>\n",
       "      <td>0.50029</td>\n",
       "      <td>0.50029</td>\n",
       "      <td>-0.50029</td>\n",
       "      <td>-0.50029</td>\n",
       "      <td>-0.00029</td>\n",
       "      <td>-0.50029</td>\n",
       "    </tr>\n",
       "    <tr>\n",
       "      <th>3</th>\n",
       "      <td>0.50029</td>\n",
       "      <td>0.50029</td>\n",
       "      <td>-0.50029</td>\n",
       "      <td>-0.50029</td>\n",
       "      <td>-0.00029</td>\n",
       "      <td>-0.00029</td>\n",
       "    </tr>\n",
       "    <tr>\n",
       "      <th>4</th>\n",
       "      <td>0.50029</td>\n",
       "      <td>0.50029</td>\n",
       "      <td>-0.50029</td>\n",
       "      <td>-0.50029</td>\n",
       "      <td>-0.00029</td>\n",
       "      <td>0.49971</td>\n",
       "    </tr>\n",
       "    <tr>\n",
       "      <th>...</th>\n",
       "      <td>...</td>\n",
       "      <td>...</td>\n",
       "      <td>...</td>\n",
       "      <td>...</td>\n",
       "      <td>...</td>\n",
       "      <td>...</td>\n",
       "    </tr>\n",
       "    <tr>\n",
       "      <th>1722</th>\n",
       "      <td>-0.49971</td>\n",
       "      <td>-0.49971</td>\n",
       "      <td>-0.00029</td>\n",
       "      <td>-0.00029</td>\n",
       "      <td>-0.00029</td>\n",
       "      <td>-0.00029</td>\n",
       "    </tr>\n",
       "    <tr>\n",
       "      <th>1723</th>\n",
       "      <td>-0.49971</td>\n",
       "      <td>-0.49971</td>\n",
       "      <td>-0.00029</td>\n",
       "      <td>-0.00029</td>\n",
       "      <td>-0.00029</td>\n",
       "      <td>0.49971</td>\n",
       "    </tr>\n",
       "    <tr>\n",
       "      <th>1724</th>\n",
       "      <td>-0.49971</td>\n",
       "      <td>-0.49971</td>\n",
       "      <td>-0.00029</td>\n",
       "      <td>-0.00029</td>\n",
       "      <td>0.49971</td>\n",
       "      <td>-0.50029</td>\n",
       "    </tr>\n",
       "    <tr>\n",
       "      <th>1725</th>\n",
       "      <td>-0.49971</td>\n",
       "      <td>-0.49971</td>\n",
       "      <td>-0.00029</td>\n",
       "      <td>-0.00029</td>\n",
       "      <td>0.49971</td>\n",
       "      <td>-0.00029</td>\n",
       "    </tr>\n",
       "    <tr>\n",
       "      <th>1726</th>\n",
       "      <td>-0.49971</td>\n",
       "      <td>-0.49971</td>\n",
       "      <td>-0.00029</td>\n",
       "      <td>-0.00029</td>\n",
       "      <td>0.49971</td>\n",
       "      <td>0.49971</td>\n",
       "    </tr>\n",
       "  </tbody>\n",
       "</table>\n",
       "<p>1727 rows × 6 columns</p>\n",
       "</div>"
      ],
      "text/plain": [
       "       buying    maint    doors  persons  lug_boot   safety\n",
       "0     0.50029  0.50029 -0.50029 -0.50029  -0.50029 -0.00029\n",
       "1     0.50029  0.50029 -0.50029 -0.50029  -0.50029  0.49971\n",
       "2     0.50029  0.50029 -0.50029 -0.50029  -0.00029 -0.50029\n",
       "3     0.50029  0.50029 -0.50029 -0.50029  -0.00029 -0.00029\n",
       "4     0.50029  0.50029 -0.50029 -0.50029  -0.00029  0.49971\n",
       "...       ...      ...      ...      ...       ...      ...\n",
       "1722 -0.49971 -0.49971 -0.00029 -0.00029  -0.00029 -0.00029\n",
       "1723 -0.49971 -0.49971 -0.00029 -0.00029  -0.00029  0.49971\n",
       "1724 -0.49971 -0.49971 -0.00029 -0.00029   0.49971 -0.50029\n",
       "1725 -0.49971 -0.49971 -0.00029 -0.00029   0.49971 -0.00029\n",
       "1726 -0.49971 -0.49971 -0.00029 -0.00029   0.49971  0.49971\n",
       "\n",
       "[1727 rows x 6 columns]"
      ]
     },
     "execution_count": 70,
     "metadata": {},
     "output_type": "execute_result"
    }
   ],
   "source": [
    "df"
   ]
  },
  {
   "cell_type": "markdown",
   "id": "2f31a652",
   "metadata": {},
   "source": [
    "# Tworzenie modelu"
   ]
  },
  {
   "cell_type": "markdown",
   "id": "4c70f482",
   "metadata": {},
   "source": [
    "##  Podział danych\n",
    "trening 80% test 20%"
   ]
  },
  {
   "cell_type": "code",
   "execution_count": 71,
   "id": "41be94cf",
   "metadata": {},
   "outputs": [],
   "source": [
    "test_rows = random.sample(df.index.tolist(), int(round(len(df)*.2)))\n",
    "train_rows=set(range(len(df))) - set(test_rows)"
   ]
  },
  {
   "cell_type": "code",
   "execution_count": 72,
   "id": "6134d487",
   "metadata": {},
   "outputs": [
    {
     "name": "stderr",
     "output_type": "stream",
     "text": [
      "/tmp/ipykernel_5664/3935618928.py:2: FutureWarning: Passing a set as an indexer is deprecated and will raise in a future version. Use a list instead.\n",
      "  df_train = df.loc[train_rows]\n",
      "/tmp/ipykernel_5664/3935618928.py:5: FutureWarning: Passing a set as an indexer is deprecated and will raise in a future version. Use a list instead.\n",
      "  train_values = values.loc[train_rows]\n"
     ]
    }
   ],
   "source": [
    "df_test = df.loc[test_rows]\n",
    "df_train = df.loc[train_rows]\n",
    "\n",
    "test_values = values.loc[test_rows]\n",
    "train_values = values.loc[train_rows]"
   ]
  },
  {
   "cell_type": "markdown",
   "id": "34ac26a9",
   "metadata": {},
   "source": [
    "## KNN implementacja manualna"
   ]
  },
  {
   "cell_type": "code",
   "execution_count": 73,
   "id": "6fe7b238",
   "metadata": {},
   "outputs": [],
   "source": [
    "kdtree = KDTree(df)"
   ]
  },
  {
   "cell_type": "code",
   "execution_count": 74,
   "id": "592a0705",
   "metadata": {},
   "outputs": [
    {
     "data": {
      "text/plain": [
       "scipy.spatial._kdtree.KDTree"
      ]
     },
     "execution_count": 74,
     "metadata": {},
     "output_type": "execute_result"
    }
   ],
   "source": [
    "type(kdtree)"
   ]
  },
  {
   "cell_type": "markdown",
   "id": "d33a6c17",
   "metadata": {},
   "source": [
    "#### Funkcja przydzielająca predykcję\n"
   ]
  },
  {
   "cell_type": "code",
   "execution_count": 75,
   "id": "40757ba9",
   "metadata": {},
   "outputs": [],
   "source": [
    "def predict(query_point, k):\n",
    "    ''' k liczba sąsiadów'''\n",
    "    _, idx = kdtree.query(query_point, k)\n",
    "    return np.mean(values.iloc[idx])"
   ]
  },
  {
   "cell_type": "code",
   "execution_count": 76,
   "id": "87ed4354",
   "metadata": {},
   "outputs": [],
   "source": [
    "train_predicted_values = []\n",
    "train_actual_values = []"
   ]
  },
  {
   "cell_type": "code",
   "execution_count": 77,
   "id": "18b822d3",
   "metadata": {},
   "outputs": [],
   "source": [
    "# Sprawdzamy zachowanie modelu dla k=5 sąsiadów\n",
    "for _id, row in df_train.iterrows():\n",
    "  prediction = predict(row, 5)\n",
    "  train_predicted_values.append(prediction)\n",
    "  train_actual_values.append(train_values[_id])"
   ]
  },
  {
   "cell_type": "markdown",
   "id": "dc946978",
   "metadata": {},
   "source": [
    "### Wyznaczanie błędu regresji za pomocą MAE"
   ]
  },
  {
   "cell_type": "code",
   "execution_count": 78,
   "id": "99fe932e",
   "metadata": {},
   "outputs": [],
   "source": [
    "mae = mean_absolute_error(train_actual_values, train_predicted_values)"
   ]
  },
  {
   "cell_type": "code",
   "execution_count": 79,
   "id": "789bf4ae",
   "metadata": {},
   "outputs": [
    {
     "data": {
      "text/plain": [
       "0.09913169319826338"
      ]
     },
     "execution_count": 79,
     "metadata": {},
     "output_type": "execute_result"
    }
   ],
   "source": [
    "mae"
   ]
  },
  {
   "cell_type": "markdown",
   "id": "da6c9b41",
   "metadata": {},
   "source": [
    "##  Przy podziale 80% 20%  jest mały błąd czyli jesteśmy zadowoleni :)"
   ]
  },
  {
   "cell_type": "markdown",
   "id": "5b1a3c1e",
   "metadata": {},
   "source": [
    "### Ilosc sąsiadow i błąd"
   ]
  },
  {
   "cell_type": "code",
   "execution_count": null,
   "id": "4afb3d34",
   "metadata": {},
   "outputs": [],
   "source": []
  },
  {
   "cell_type": "code",
   "execution_count": 80,
   "id": "329bd677",
   "metadata": {},
   "outputs": [
    {
     "name": "stdout",
     "output_type": "stream",
     "text": [
      "Podaj ilość sąsiadów k=5\n"
     ]
    }
   ],
   "source": [
    "# Ilosc sąsiadów\n",
    "k=int(input('Podaj ilość sąsiadów k='))\n",
    "\n",
    "number_neigbours = []\n",
    "absolute_error = []\n",
    "for i in range(1,k+1):\n",
    "    train_predicted_values = []\n",
    "    train_actual_values = []\n",
    "    number_neigbours.append(i)\n",
    "    for _id, row in df_train.iterrows():\n",
    "        prediction = predict(row, i)\n",
    "        train_predicted_values.append(prediction)\n",
    "        train_actual_values.append(train_values[_id])\n",
    "    mae = mean_absolute_error(train_actual_values, train_predicted_values)\n",
    "    absolute_error.append(mae)\n",
    "    \n",
    "\n",
    "    "
   ]
  },
  {
   "cell_type": "code",
   "execution_count": 81,
   "id": "bfcea563",
   "metadata": {},
   "outputs": [
    {
     "data": {
      "text/plain": [
       "[1, 2, 3, 4, 5]"
      ]
     },
     "execution_count": 81,
     "metadata": {},
     "output_type": "execute_result"
    }
   ],
   "source": [
    "number_neigbours"
   ]
  },
  {
   "cell_type": "code",
   "execution_count": 82,
   "id": "9c99ff33",
   "metadata": {},
   "outputs": [
    {
     "name": "stdout",
     "output_type": "stream",
     "text": [
      "Dla 1 sąsiadów błąd wynosi 0.01085383502170767\n",
      "Dla 2 sąsiadów błąd wynosi 0.030390738060781478\n",
      "Dla 3 sąsiadów błąd wynosi 0.06512301013024602\n",
      "Dla 4 sąsiadów błąd wynosi 0.09460926193921852\n",
      "Dla 5 sąsiadów błąd wynosi 0.09913169319826338\n"
     ]
    }
   ],
   "source": [
    "for i in range(len(absolute_error)):\n",
    "    print(f'Dla {i+1} sąsiadów błąd wynosi {absolute_error[i]}') "
   ]
  },
  {
   "cell_type": "markdown",
   "id": "767e569c",
   "metadata": {},
   "source": [
    "## Klasyfikacja przy użyciu metody KNN"
   ]
  },
  {
   "cell_type": "code",
   "execution_count": 83,
   "id": "a4bb96fc",
   "metadata": {},
   "outputs": [],
   "source": [
    "def classify(query_point, k):\n",
    "    _, idx = kdtree.query(query_point, k)\n",
    "    return np.argmax(np.bincount(values.iloc[idx]))"
   ]
  },
  {
   "cell_type": "markdown",
   "id": "055c625f",
   "metadata": {},
   "source": [
    "###  Tu przykładowo sklasyfikowany element o indeksie 1722 z \"5\" sąsiadami"
   ]
  },
  {
   "cell_type": "code",
   "execution_count": 84,
   "id": "585bad36",
   "metadata": {},
   "outputs": [
    {
     "data": {
      "text/plain": [
       "3"
      ]
     },
     "execution_count": 84,
     "metadata": {},
     "output_type": "execute_result"
    }
   ],
   "source": [
    "classify(df.iloc[1722],5)"
   ]
  }
 ],
 "metadata": {
  "kernelspec": {
   "display_name": "Python 3 (ipykernel)",
   "language": "python",
   "name": "python3"
  },
  "language_info": {
   "codemirror_mode": {
    "name": "ipython",
    "version": 3
   },
   "file_extension": ".py",
   "mimetype": "text/x-python",
   "name": "python",
   "nbconvert_exporter": "python",
   "pygments_lexer": "ipython3",
   "version": "3.9.13"
  }
 },
 "nbformat": 4,
 "nbformat_minor": 5
}
